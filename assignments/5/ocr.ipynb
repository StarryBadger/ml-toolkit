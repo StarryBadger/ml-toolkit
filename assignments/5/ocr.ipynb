{
 "cells": [
  {
   "cell_type": "code",
   "execution_count": null,
   "metadata": {
    "colab": {
     "base_uri": "https://localhost:8080/",
     "height": 164
    },
    "executionInfo": {
     "elapsed": 7953,
     "status": "ok",
     "timestamp": 1731849030551,
     "user": {
      "displayName": "Shaunak Biswas",
      "userId": "09558546618466004299"
     },
     "user_tz": -330
    },
    "id": "7J_kwPBQvWxs",
    "outputId": "60dcfa3d-593e-47c3-e353-e18e3288e4d3"
   },
   "outputs": [
    {
     "name": "stdout",
     "output_type": "stream",
     "text": [
      "Requirement already satisfied: nltk in /usr/local/lib/python3.10/dist-packages (3.9.1)\n",
      "Requirement already satisfied: tqdm in /usr/local/lib/python3.10/dist-packages (4.66.6)\n",
      "Requirement already satisfied: click in /usr/local/lib/python3.10/dist-packages (from nltk) (8.1.7)\n",
      "Requirement already satisfied: joblib in /usr/local/lib/python3.10/dist-packages (from nltk) (1.4.2)\n",
      "Requirement already satisfied: regex>=2021.8.3 in /usr/local/lib/python3.10/dist-packages (from nltk) (2024.9.11)\n",
      "cuda\n"
     ]
    },
    {
     "data": {
      "text/html": [
       "\n",
       "     <input type=\"file\" id=\"files-f20c6246-78f4-4a7e-bd2a-82951a665c6e\" name=\"files[]\" multiple disabled\n",
       "        style=\"border:none\" />\n",
       "     <output id=\"result-f20c6246-78f4-4a7e-bd2a-82951a665c6e\">\n",
       "      Upload widget is only available when the cell has been executed in the\n",
       "      current browser session. Please rerun this cell to enable.\n",
       "      </output>\n",
       "      <script>// Copyright 2017 Google LLC\n",
       "//\n",
       "// Licensed under the Apache License, Version 2.0 (the \"License\");\n",
       "// you may not use this file except in compliance with the License.\n",
       "// You may obtain a copy of the License at\n",
       "//\n",
       "//      http://www.apache.org/licenses/LICENSE-2.0\n",
       "//\n",
       "// Unless required by applicable law or agreed to in writing, software\n",
       "// distributed under the License is distributed on an \"AS IS\" BASIS,\n",
       "// WITHOUT WARRANTIES OR CONDITIONS OF ANY KIND, either express or implied.\n",
       "// See the License for the specific language governing permissions and\n",
       "// limitations under the License.\n",
       "\n",
       "/**\n",
       " * @fileoverview Helpers for google.colab Python module.\n",
       " */\n",
       "(function(scope) {\n",
       "function span(text, styleAttributes = {}) {\n",
       "  const element = document.createElement('span');\n",
       "  element.textContent = text;\n",
       "  for (const key of Object.keys(styleAttributes)) {\n",
       "    element.style[key] = styleAttributes[key];\n",
       "  }\n",
       "  return element;\n",
       "}\n",
       "\n",
       "// Max number of bytes which will be uploaded at a time.\n",
       "const MAX_PAYLOAD_SIZE = 100 * 1024;\n",
       "\n",
       "function _uploadFiles(inputId, outputId) {\n",
       "  const steps = uploadFilesStep(inputId, outputId);\n",
       "  const outputElement = document.getElementById(outputId);\n",
       "  // Cache steps on the outputElement to make it available for the next call\n",
       "  // to uploadFilesContinue from Python.\n",
       "  outputElement.steps = steps;\n",
       "\n",
       "  return _uploadFilesContinue(outputId);\n",
       "}\n",
       "\n",
       "// This is roughly an async generator (not supported in the browser yet),\n",
       "// where there are multiple asynchronous steps and the Python side is going\n",
       "// to poll for completion of each step.\n",
       "// This uses a Promise to block the python side on completion of each step,\n",
       "// then passes the result of the previous step as the input to the next step.\n",
       "function _uploadFilesContinue(outputId) {\n",
       "  const outputElement = document.getElementById(outputId);\n",
       "  const steps = outputElement.steps;\n",
       "\n",
       "  const next = steps.next(outputElement.lastPromiseValue);\n",
       "  return Promise.resolve(next.value.promise).then((value) => {\n",
       "    // Cache the last promise value to make it available to the next\n",
       "    // step of the generator.\n",
       "    outputElement.lastPromiseValue = value;\n",
       "    return next.value.response;\n",
       "  });\n",
       "}\n",
       "\n",
       "/**\n",
       " * Generator function which is called between each async step of the upload\n",
       " * process.\n",
       " * @param {string} inputId Element ID of the input file picker element.\n",
       " * @param {string} outputId Element ID of the output display.\n",
       " * @return {!Iterable<!Object>} Iterable of next steps.\n",
       " */\n",
       "function* uploadFilesStep(inputId, outputId) {\n",
       "  const inputElement = document.getElementById(inputId);\n",
       "  inputElement.disabled = false;\n",
       "\n",
       "  const outputElement = document.getElementById(outputId);\n",
       "  outputElement.innerHTML = '';\n",
       "\n",
       "  const pickedPromise = new Promise((resolve) => {\n",
       "    inputElement.addEventListener('change', (e) => {\n",
       "      resolve(e.target.files);\n",
       "    });\n",
       "  });\n",
       "\n",
       "  const cancel = document.createElement('button');\n",
       "  inputElement.parentElement.appendChild(cancel);\n",
       "  cancel.textContent = 'Cancel upload';\n",
       "  const cancelPromise = new Promise((resolve) => {\n",
       "    cancel.onclick = () => {\n",
       "      resolve(null);\n",
       "    };\n",
       "  });\n",
       "\n",
       "  // Wait for the user to pick the files.\n",
       "  const files = yield {\n",
       "    promise: Promise.race([pickedPromise, cancelPromise]),\n",
       "    response: {\n",
       "      action: 'starting',\n",
       "    }\n",
       "  };\n",
       "\n",
       "  cancel.remove();\n",
       "\n",
       "  // Disable the input element since further picks are not allowed.\n",
       "  inputElement.disabled = true;\n",
       "\n",
       "  if (!files) {\n",
       "    return {\n",
       "      response: {\n",
       "        action: 'complete',\n",
       "      }\n",
       "    };\n",
       "  }\n",
       "\n",
       "  for (const file of files) {\n",
       "    const li = document.createElement('li');\n",
       "    li.append(span(file.name, {fontWeight: 'bold'}));\n",
       "    li.append(span(\n",
       "        `(${file.type || 'n/a'}) - ${file.size} bytes, ` +\n",
       "        `last modified: ${\n",
       "            file.lastModifiedDate ? file.lastModifiedDate.toLocaleDateString() :\n",
       "                                    'n/a'} - `));\n",
       "    const percent = span('0% done');\n",
       "    li.appendChild(percent);\n",
       "\n",
       "    outputElement.appendChild(li);\n",
       "\n",
       "    const fileDataPromise = new Promise((resolve) => {\n",
       "      const reader = new FileReader();\n",
       "      reader.onload = (e) => {\n",
       "        resolve(e.target.result);\n",
       "      };\n",
       "      reader.readAsArrayBuffer(file);\n",
       "    });\n",
       "    // Wait for the data to be ready.\n",
       "    let fileData = yield {\n",
       "      promise: fileDataPromise,\n",
       "      response: {\n",
       "        action: 'continue',\n",
       "      }\n",
       "    };\n",
       "\n",
       "    // Use a chunked sending to avoid message size limits. See b/62115660.\n",
       "    let position = 0;\n",
       "    do {\n",
       "      const length = Math.min(fileData.byteLength - position, MAX_PAYLOAD_SIZE);\n",
       "      const chunk = new Uint8Array(fileData, position, length);\n",
       "      position += length;\n",
       "\n",
       "      const base64 = btoa(String.fromCharCode.apply(null, chunk));\n",
       "      yield {\n",
       "        response: {\n",
       "          action: 'append',\n",
       "          file: file.name,\n",
       "          data: base64,\n",
       "        },\n",
       "      };\n",
       "\n",
       "      let percentDone = fileData.byteLength === 0 ?\n",
       "          100 :\n",
       "          Math.round((position / fileData.byteLength) * 100);\n",
       "      percent.textContent = `${percentDone}% done`;\n",
       "\n",
       "    } while (position < fileData.byteLength);\n",
       "  }\n",
       "\n",
       "  // All done.\n",
       "  yield {\n",
       "    response: {\n",
       "      action: 'complete',\n",
       "    }\n",
       "  };\n",
       "}\n",
       "\n",
       "scope.google = scope.google || {};\n",
       "scope.google.colab = scope.google.colab || {};\n",
       "scope.google.colab._files = {\n",
       "  _uploadFiles,\n",
       "  _uploadFilesContinue,\n",
       "};\n",
       "})(self);\n",
       "</script> "
      ],
      "text/plain": [
       "<IPython.core.display.HTML object>"
      ]
     },
     "metadata": {},
     "output_type": "display_data"
    }
   ],
   "source": [
    "# !pip install nltk tqdm\n",
    "\n",
    "import os\n",
    "import random\n",
    "import nltk\n",
    "import numpy as np\n",
    "import torch\n",
    "from torch import nn, optim\n",
    "from torch.utils.data import Dataset, DataLoader, random_split\n",
    "from torch.nn.utils.rnn import pad_sequence\n",
    "from PIL import Image, ImageDraw, ImageFont\n",
    "from torchvision import transforms\n",
    "from tqdm import tqdm\n",
    "from collections import defaultdict\n",
    "from nltk.corpus import words\n",
    "\n",
    "device = torch.device(\"cuda\" if torch.cuda.is_available() else \"cpu\")\n",
    "print(device)\n",
    "\n",
    "# from google.colab import files\n",
    "# uploaded = files.upload()\n",
    "\n"
   ]
  },
  {
   "cell_type": "code",
   "execution_count": null,
   "metadata": {
    "colab": {
     "base_uri": "https://localhost:8080/"
    },
    "executionInfo": {
     "elapsed": 266926,
     "status": "ok",
     "timestamp": 1731845055939,
     "user": {
      "displayName": "Shaunak Biswas",
      "userId": "09558546618466004299"
     },
     "user_tz": -330
    },
    "id": "tNFuDD3pvy63",
    "outputId": "78d3d680-31e6-47fe-80b9-ebf31f11b7cc"
   },
   "outputs": [
    {
     "name": "stderr",
     "output_type": "stream",
     "text": [
      "[nltk_data] Downloading package words to /root/nltk_data...\n",
      "[nltk_data]   Unzipping corpora/words.zip.\n",
      "Generating images: 100%|██████████| 100000/100000 [02:48<00:00, 593.54word/s]\n"
     ]
    },
    {
     "name": "stdout",
     "output_type": "stream",
     "text": [
      "Images saved to /content/words/\n"
     ]
    }
   ],
   "source": [
    "nltk.download('words')\n",
    "\n",
    "def generate_image_with_text(text, width=256, height=64):\n",
    "    image = Image.new('RGB', (width, height), color='white')\n",
    "    draw = ImageDraw.Draw(image)\n",
    "    try:\n",
    "        font = ImageFont.truetype(\"/content/arial.ttf\", 24)\n",
    "    except IOError:\n",
    "        print(\"Arial font not found. Using default font.\")\n",
    "        font = ImageFont.load_default()\n",
    "\n",
    "    text_bbox = draw.textbbox((0, 0), text, font=font)\n",
    "    text_width, text_height = text_bbox[2] - text_bbox[0], text_bbox[3] - text_bbox[1]\n",
    "    position = ((width - text_width) // 2, (height - text_height) // 2)\n",
    "\n",
    "    draw.text(position, text, fill='black', font=font)\n",
    "    return np.array(image)\n",
    "\n",
    "def save_image_dataset(dataset, folder=\"/content/words/\"):\n",
    "    os.makedirs(folder, exist_ok=True)\n",
    "    for i, (image_array, word) in enumerate(dataset):\n",
    "        image = Image.fromarray(image_array)\n",
    "        filename = f\"{folder}/image_{i}_{word}.png\"\n",
    "        image.save(filename)\n",
    "\n",
    "def generate_and_save():\n",
    "    word_list = words.words()\n",
    "    num_samples = 100_000\n",
    "    dataset = [\n",
    "        (generate_image_with_text(word), word)\n",
    "        for word in tqdm(random.choices(word_list, k=num_samples), desc=\"Generating images\", unit=\"word\")\n",
    "        if word.isalpha()\n",
    "    ]\n",
    "    save_image_dataset(dataset)\n",
    "    print('Images saved to /content/words/')\n",
    "\n",
    "generate_and_save()\n"
   ]
  },
  {
   "cell_type": "code",
   "execution_count": 11,
   "metadata": {
    "executionInfo": {
     "elapsed": 576,
     "status": "ok",
     "timestamp": 1731849043024,
     "user": {
      "displayName": "Shaunak Biswas",
      "userId": "09558546618466004299"
     },
     "user_tz": -330
    },
    "id": "kVY7YCs4xBeC"
   },
   "outputs": [],
   "source": [
    "class OCRDataset(Dataset):\n",
    "    def __init__(self, folder=\"/content/words/\"):\n",
    "        self.folder = folder\n",
    "        self.image_files = [f for f in os.listdir(folder) if f.endswith(\".png\")]\n",
    "        self.transform = transforms.ToTensor()\n",
    "        self.encoder = {chr(65 + i): i for i in range(26)} | {chr(97 + i): i + 26 for i in range(26)}\n",
    "\n",
    "    def __len__(self):\n",
    "        return len(self.image_files)\n",
    "\n",
    "    def __getitem__(self, idx):\n",
    "        img_filename = self.image_files[idx]\n",
    "        img_path = os.path.join(self.folder, img_filename)\n",
    "\n",
    "        image = Image.open(img_path).convert('L')\n",
    "        image = np.array(image)\n",
    "        image = np.where(image > 127, 0, 1)\n",
    "        if self.transform:\n",
    "            image = self.transform(image)\n",
    "        image = image.float()\n",
    "\n",
    "        label = img_filename.split('_', 2)[-1].split('.')[0]\n",
    "        label_indices = torch.tensor([self.encoder[char] for char in label], dtype=torch.long)\n",
    "        return image, label_indices\n"
   ]
  },
  {
   "cell_type": "code",
   "execution_count": 12,
   "metadata": {
    "executionInfo": {
     "elapsed": 466,
     "status": "ok",
     "timestamp": 1731849045688,
     "user": {
      "displayName": "Shaunak Biswas",
      "userId": "09558546618466004299"
     },
     "user_tz": -330
    },
    "id": "iKG52qS8xIMl"
   },
   "outputs": [],
   "source": [
    "class OCRModel(nn.Module):\n",
    "    def __init__(self, input_dim=65536, hidden_dim=256, num_classes=53, num_layers=2):\n",
    "        super(OCRModel, self).__init__()\n",
    "        self.cnn = nn.Sequential(\n",
    "            nn.Conv2d(1, 32, kernel_size=3, stride=1, padding=1),\n",
    "            nn.ReLU(),\n",
    "            nn.MaxPool2d(2, 2),\n",
    "            nn.Conv2d(32, 64, kernel_size=3, stride=1, padding=1),\n",
    "            nn.ReLU(),\n",
    "            nn.MaxPool2d(2, 2),\n",
    "            nn.Conv2d(64, 128, kernel_size=3, stride=1, padding=1),\n",
    "            nn.ReLU(),\n",
    "            nn.Conv2d(128, 256, kernel_size=3, stride=1, padding=1),\n",
    "            nn.ReLU(),\n",
    "            nn.MaxPool2d(2, 2)\n",
    "        )\n",
    "        self.flatten = nn.Flatten(start_dim=1)\n",
    "        self.fc1 = nn.Linear(input_dim, hidden_dim)\n",
    "        self.rnn = nn.RNN(hidden_dim, hidden_dim, num_layers, batch_first=True, dropout=0.2)\n",
    "        self.layer_norm = nn.LayerNorm(hidden_dim)\n",
    "        self.fc = nn.Linear(hidden_dim, num_classes)\n",
    "\n",
    "    def forward(self, x):\n",
    "        x = self.cnn(x)\n",
    "        x = self.flatten(x)\n",
    "        x = self.fc1(x)\n",
    "        x = x.unsqueeze(1).repeat(1, 32, 1)\n",
    "        rnn_out, _ = self.rnn(x)\n",
    "        rnn_out = self.layer_norm(rnn_out)\n",
    "        output = self.fc(rnn_out)\n",
    "        return output\n"
   ]
  },
  {
   "cell_type": "code",
   "execution_count": 13,
   "metadata": {
    "executionInfo": {
     "elapsed": 454,
     "status": "ok",
     "timestamp": 1731849048918,
     "user": {
      "displayName": "Shaunak Biswas",
      "userId": "09558546618466004299"
     },
     "user_tz": -330
    },
    "id": "pD3CWPnYxMBh"
   },
   "outputs": [],
   "source": [
    "def collate_fn(batch):\n",
    "    images, labels = zip(*batch)\n",
    "    images = torch.stack(images)\n",
    "    labels = [torch.tensor(label[:32]) if len(label) > 32 else torch.tensor(label) for label in labels]\n",
    "    labels_padded = pad_sequence(labels, batch_first=True, padding_value=52)\n",
    "    if labels_padded.size(1) < 32:\n",
    "        labels_padded = torch.nn.functional.pad(labels_padded, (0, 32 - labels_padded.size(1)), value=52)\n",
    "    else:\n",
    "        labels_padded = labels_padded[:, :32]\n",
    "    return images, labels_padded\n"
   ]
  },
  {
   "cell_type": "code",
   "execution_count": 14,
   "metadata": {
    "executionInfo": {
     "elapsed": 471,
     "status": "ok",
     "timestamp": 1731849051523,
     "user": {
      "displayName": "Shaunak Biswas",
      "userId": "09558546618466004299"
     },
     "user_tz": -330
    },
    "id": "ykNpiWPIxSO-"
   },
   "outputs": [],
   "source": [
    "def train_ocr_model(model, train_loader, val_loader, epochs=10, lr=0.001, save_path=None):\n",
    "    device = torch.device(\"cuda\" if torch.cuda.is_available() else \"cpu\")\n",
    "\n",
    "    optimizer = optim.Adam(model.parameters(), lr=lr)\n",
    "\n",
    "    decoder = {}\n",
    "    for i in range(26):\n",
    "        decoder[i] = chr(65 + i)\n",
    "    for i in range(26, 52):\n",
    "        decoder[i] = chr(97 + (i - 26))\n",
    "\n",
    "    decoder[52] = ''\n",
    "\n",
    "    class_weights = torch.ones(53)\n",
    "    class_weights[52] = 0.2\n",
    "    criterion = nn.CrossEntropyLoss(weight=class_weights.to(device))\n",
    "\n",
    "    model = model.to(device)\n",
    "\n",
    "    for epoch in range(epochs):\n",
    "        model.train()\n",
    "        total_train_loss = 0\n",
    "        for images, labels in tqdm(train_loader):\n",
    "            images = images.to(device)\n",
    "            labels = labels.to(device)\n",
    "            optimizer.zero_grad()\n",
    "            outputs = model(images)\n",
    "            loss = criterion(outputs.permute(0, 2, 1), labels)\n",
    "            loss.backward()\n",
    "            optimizer.step()\n",
    "\n",
    "            total_train_loss += loss.item()\n",
    "\n",
    "        model.eval()\n",
    "        correct_chars = 0\n",
    "        total_chars = 0\n",
    "        sample_count = 0\n",
    "        random_correct_chars = 0\n",
    "\n",
    "        with torch.no_grad():\n",
    "            for images, labels in val_loader:\n",
    "                images = images.to(device)\n",
    "                labels = labels.to(device)\n",
    "\n",
    "                outputs = model(images)\n",
    "                predictions = torch.argmax(outputs, dim=2)\n",
    "                random_predictions = labels.clone()\n",
    "                for i in range(random_predictions.size(0)):\n",
    "                    for j in range(random_predictions.size(1)):\n",
    "                        if random_predictions[i, j] != 52:\n",
    "                            random_predictions[i, j] = random.randint(0, 51)\n",
    "\n",
    "\n",
    "                if sample_count < 5:\n",
    "                    for pred, label in zip(predictions, labels):\n",
    "                        if sample_count >= 5:\n",
    "                            break\n",
    "                        decoded_pred = ''.join([decoder[p.item()] for p in pred])\n",
    "                        decoded_label = ''.join([decoder[l.item()] for l in label])\n",
    "                        print(f\"Predicted: {decoded_pred}\", end=', ')\n",
    "                        print(f\"Actual: {decoded_label}\")\n",
    "                        sample_count += 1\n",
    "                for pred, label in zip(predictions, labels):\n",
    "                    non_null_mask = label != 52\n",
    "\n",
    "                    correct_chars += (pred[non_null_mask] == label[non_null_mask]).sum().item()\n",
    "                    total_chars += non_null_mask.sum().item()\n",
    "\n",
    "                for random_pred, label in zip(random_predictions, labels):\n",
    "                    non_null_mask = label != 52\n",
    "                    random_correct_chars += (random_pred[non_null_mask] == label[non_null_mask]).sum().item()\n",
    "\n",
    "\n",
    "        avg_correct_chars = correct_chars / total_chars\n",
    "        avg_train_loss = total_train_loss / len(train_loader)\n",
    "        random_baseline_acc = random_correct_chars / total_chars\n",
    "\n",
    "        print(f'Epoch {epoch+1}/{epochs}, Train Loss: {avg_train_loss:.4f}, Validation ANCC: {avg_correct_chars:.4f}, '\n",
    "              f'Random Baseline Accuracy: {random_baseline_acc:.4f}')\n",
    "\n",
    "    print(\"Training complete.\")\n",
    "\n",
    "    if save_path is not None:\n",
    "        torch.save(model, save_path)"
   ]
  },
  {
   "cell_type": "code",
   "execution_count": 15,
   "metadata": {
    "colab": {
     "base_uri": "https://localhost:8080/"
    },
    "executionInfo": {
     "elapsed": 1783561,
     "status": "ok",
     "timestamp": 1731850849829,
     "user": {
      "displayName": "Shaunak Biswas",
      "userId": "09558546618466004299"
     },
     "user_tz": -330
    },
    "id": "TyezM6OAxVu0",
    "outputId": "6a28f039-7c3b-4522-cdc3-9a54f311ab89"
   },
   "outputs": [
    {
     "name": "stdout",
     "output_type": "stream",
     "text": [
      "Train samples: 80000, Validation samples: 20000\n"
     ]
    },
    {
     "name": "stderr",
     "output_type": "stream",
     "text": [
      "\r  0%|          | 0/2500 [00:00<?, ?it/s]<ipython-input-13-2489df39706e>:4: UserWarning: To copy construct from a tensor, it is recommended to use sourceTensor.clone().detach() or sourceTensor.clone().detach().requires_grad_(True), rather than torch.tensor(sourceTensor).\n",
      "  labels = [torch.tensor(label[:32]) if len(label) > 32 else torch.tensor(label) for label in labels]\n",
      "100%|██████████| 2500/2500 [02:06<00:00, 19.76it/s]\n"
     ]
    },
    {
     "name": "stdout",
     "output_type": "stream",
     "text": [
      "Predicted: poiassism, Actual: potassium\n",
      "Predicted: unaaalaale, Actual: unwastable\n",
      "Predicted: camplolize, Actual: campholide\n",
      "Predicted: Chanabal, Actual: Chanabal\n",
      "Predicted: Midees, Actual: Midwest\n",
      "Epoch 1/10, Train Loss: 1.5848, Validation ANCC: 0.6248, Random Baseline Accuracy: 0.0196\n"
     ]
    },
    {
     "name": "stderr",
     "output_type": "stream",
     "text": [
      "100%|██████████| 2500/2500 [02:02<00:00, 20.36it/s]\n"
     ]
    },
    {
     "name": "stdout",
     "output_type": "stream",
     "text": [
      "Predicted: potassium, Actual: potassium\n",
      "Predicted: unwastable, Actual: unwastable\n",
      "Predicted: campholide, Actual: campholide\n",
      "Predicted: Chanabal, Actual: Chanabal\n",
      "Predicted: Midwest, Actual: Midwest\n",
      "Epoch 2/10, Train Loss: 0.5152, Validation ANCC: 0.8681, Random Baseline Accuracy: 0.0189\n"
     ]
    },
    {
     "name": "stderr",
     "output_type": "stream",
     "text": [
      "100%|██████████| 2500/2500 [02:02<00:00, 20.35it/s]\n"
     ]
    },
    {
     "name": "stdout",
     "output_type": "stream",
     "text": [
      "Predicted: potassium, Actual: potassium\n",
      "Predicted: unwastable, Actual: unwastable\n",
      "Predicted: campholide, Actual: campholide\n",
      "Predicted: Chanabal, Actual: Chanabal\n",
      "Predicted: Midwest, Actual: Midwest\n",
      "Epoch 3/10, Train Loss: 0.2518, Validation ANCC: 0.9148, Random Baseline Accuracy: 0.0192\n"
     ]
    },
    {
     "name": "stderr",
     "output_type": "stream",
     "text": [
      "100%|██████████| 2500/2500 [02:02<00:00, 20.40it/s]\n"
     ]
    },
    {
     "name": "stdout",
     "output_type": "stream",
     "text": [
      "Predicted: potassium, Actual: potassium\n",
      "Predicted: unwastable, Actual: unwastable\n",
      "Predicted: campholide, Actual: campholide\n",
      "Predicted: Chanabal, Actual: Chanabal\n",
      "Predicted: Miwwest, Actual: Midwest\n",
      "Epoch 4/10, Train Loss: 0.1816, Validation ANCC: 0.9387, Random Baseline Accuracy: 0.0190\n"
     ]
    },
    {
     "name": "stderr",
     "output_type": "stream",
     "text": [
      "100%|██████████| 2500/2500 [02:03<00:00, 20.29it/s]\n"
     ]
    },
    {
     "name": "stdout",
     "output_type": "stream",
     "text": [
      "Predicted: potassium, Actual: potassium\n",
      "Predicted: unwastable, Actual: unwastable\n",
      "Predicted: campholide, Actual: campholide\n",
      "Predicted: Chanabal, Actual: Chanabal\n",
      "Predicted: Midwest, Actual: Midwest\n",
      "Epoch 5/10, Train Loss: 0.1504, Validation ANCC: 0.9487, Random Baseline Accuracy: 0.0192\n"
     ]
    },
    {
     "name": "stderr",
     "output_type": "stream",
     "text": [
      "100%|██████████| 2500/2500 [02:02<00:00, 20.33it/s]\n"
     ]
    },
    {
     "name": "stdout",
     "output_type": "stream",
     "text": [
      "Predicted: potassium, Actual: potassium\n",
      "Predicted: unwastable, Actual: unwastable\n",
      "Predicted: campholide, Actual: campholide\n",
      "Predicted: Chanabal, Actual: Chanabal\n",
      "Predicted: Midwest, Actual: Midwest\n",
      "Epoch 6/10, Train Loss: 0.1364, Validation ANCC: 0.9441, Random Baseline Accuracy: 0.0194\n"
     ]
    },
    {
     "name": "stderr",
     "output_type": "stream",
     "text": [
      "100%|██████████| 2500/2500 [02:03<00:00, 20.24it/s]\n"
     ]
    },
    {
     "name": "stdout",
     "output_type": "stream",
     "text": [
      "Predicted: potassium, Actual: potassium\n",
      "Predicted: unwastable, Actual: unwastable\n",
      "Predicted: campholide, Actual: campholide\n",
      "Predicted: Chanabal, Actual: Chanabal\n",
      "Predicted: Midwest, Actual: Midwest\n",
      "Epoch 7/10, Train Loss: 0.1225, Validation ANCC: 0.9578, Random Baseline Accuracy: 0.0189\n"
     ]
    },
    {
     "name": "stderr",
     "output_type": "stream",
     "text": [
      "100%|██████████| 2500/2500 [02:02<00:00, 20.35it/s]\n"
     ]
    },
    {
     "name": "stdout",
     "output_type": "stream",
     "text": [
      "Predicted: potassium, Actual: potassium\n",
      "Predicted: unwastable, Actual: unwastable\n",
      "Predicted: campholide, Actual: campholide\n",
      "Predicted: Chanabal, Actual: Chanabal\n",
      "Predicted: Midwest, Actual: Midwest\n",
      "Epoch 8/10, Train Loss: 0.1141, Validation ANCC: 0.9655, Random Baseline Accuracy: 0.0191\n"
     ]
    },
    {
     "name": "stderr",
     "output_type": "stream",
     "text": [
      "100%|██████████| 2500/2500 [02:02<00:00, 20.38it/s]\n"
     ]
    },
    {
     "name": "stdout",
     "output_type": "stream",
     "text": [
      "Predicted: potassium, Actual: potassium\n",
      "Predicted: unwastable, Actual: unwastable\n",
      "Predicted: campholide, Actual: campholide\n",
      "Predicted: Chanabal, Actual: Chanabal\n",
      "Predicted: Midwest, Actual: Midwest\n",
      "Epoch 9/10, Train Loss: 0.1062, Validation ANCC: 0.9453, Random Baseline Accuracy: 0.0194\n"
     ]
    },
    {
     "name": "stderr",
     "output_type": "stream",
     "text": [
      "100%|██████████| 2500/2500 [02:02<00:00, 20.37it/s]\n"
     ]
    },
    {
     "name": "stdout",
     "output_type": "stream",
     "text": [
      "Predicted: potassium, Actual: potassium\n",
      "Predicted: unwastable, Actual: unwastable\n",
      "Predicted: campholide, Actual: campholide\n",
      "Predicted: Chanabal, Actual: Chanabal\n",
      "Predicted: Midwest, Actual: Midwest\n",
      "Epoch 10/10, Train Loss: 0.1018, Validation ANCC: 0.9552, Random Baseline Accuracy: 0.0195\n",
      "Training complete.\n"
     ]
    }
   ],
   "source": [
    "def run_ocr():\n",
    "    model = OCRModel(num_classes=53)\n",
    "    dataset = OCRDataset(folder=\"/content/words/\")\n",
    "    train_size = int(0.8 * len(dataset))\n",
    "    val_size = len(dataset) - train_size\n",
    "    train_dataset, val_dataset = random_split(dataset, [train_size, val_size])\n",
    "\n",
    "    train_loader = DataLoader(train_dataset, batch_size=32, shuffle=True, collate_fn=collate_fn)\n",
    "    val_loader = DataLoader(val_dataset, batch_size=32, shuffle=False, collate_fn=collate_fn)\n",
    "\n",
    "    print(f\"Train samples: {len(train_dataset)}, Validation samples: {len(val_dataset)}\")\n",
    "    train_ocr_model(model, train_loader, val_loader)\n",
    "\n",
    "run_ocr()"
   ]
  }
 ],
 "metadata": {
  "accelerator": "GPU",
  "colab": {
   "authorship_tag": "ABX9TyNo/yHrSGYtDIMsP5PJssB+",
   "gpuType": "T4",
   "provenance": []
  },
  "kernelspec": {
   "display_name": "venv",
   "language": "python",
   "name": "python3"
  },
  "language_info": {
   "name": "python",
   "version": "3.12.7"
  }
 },
 "nbformat": 4,
 "nbformat_minor": 0
}
