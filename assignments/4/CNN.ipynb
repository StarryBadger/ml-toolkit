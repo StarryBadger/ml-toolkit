{
 "cells": [
  {
   "cell_type": "markdown",
   "metadata": {},
   "source": [
    "Implement a function load mnist data() that extracts images from the\n",
    "dataset folders and organizes them into separate lists for images and labels\n",
    "corresponding to the train, validation, and test splits. Ensure that the\n",
    "images are loaded from their respective folders without any overlap or\n",
    "mixing."
   ]
  },
  {
   "cell_type": "code",
   "execution_count": 8,
   "metadata": {},
   "outputs": [],
   "source": [
    "import os\n",
    "from PIL import Image\n",
    "import numpy as np\n",
    "\n",
    "def load_mnist_data(base_path='../../data/external/double_mnist'):\n",
    "    images = {\n",
    "        'train': [],\n",
    "        'val': [],\n",
    "        'test': []\n",
    "    }\n",
    "    labels = {\n",
    "        'train': [],\n",
    "        'val': [],\n",
    "        'test': []\n",
    "    }\n",
    "\n",
    "    splits = ['train', 'val', 'test']\n",
    "    for split in splits:\n",
    "        split_path = os.path.join(base_path, split)\n",
    "        for label in os.listdir(split_path):\n",
    "            label_path = os.path.join(split_path, label)\n",
    "            if os.path.isdir(label_path):\n",
    "                for img_name in os.listdir(label_path):\n",
    "                    img_path = os.path.join(label_path, img_name)\n",
    "                    img = Image.open(img_path).convert('L')\n",
    "                    img_array = np.array(img)\n",
    "                    images[split].append(img_array)\n",
    "                    labels[split].append(int(label))\n",
    "    return images, labels\n",
    "\n",
    "images, labels = load_mnist_data()"
   ]
  },
  {
   "cell_type": "markdown",
   "metadata": {},
   "source": [
    "Create a class called MultiMNISTDataset that will be used to create\n",
    "dataloaders for training and evaluation purposes."
   ]
  },
  {
   "cell_type": "code",
   "execution_count": 10,
   "metadata": {},
   "outputs": [],
   "source": [
    "import torch\n",
    "from torch.utils.data import Dataset, DataLoader\n",
    "\n",
    "class MultiMNISTDataset(Dataset):\n",
    "    def __init__(self, images, labels):\n",
    "        self.images = images\n",
    "        self.labels = labels\n",
    "\n",
    "    def __len__(self):\n",
    "        return len(self.images)\n",
    "\n",
    "    def __getitem__(self, idx):\n",
    "        img = self.images[idx]\n",
    "        label = self.labels[idx]\n",
    "\n",
    "        if label == \"0\":\n",
    "            label_count = 0\n",
    "        else:\n",
    "            label_count = len(f\"{label}\")\n",
    "            \n",
    "        img = torch.tensor(img, dtype=torch.float32)\n",
    "        img = img / 255.0\n",
    "\n",
    "        return img.unsqueeze(0), label_count\n",
    "\n",
    "train_dataset = MultiMNISTDataset(images['train'], labels['train'])\n",
    "val_dataset = MultiMNISTDataset(images['val'], labels['val'])\n",
    "test_dataset = MultiMNISTDataset(images['test'], labels['test'])\n",
    "\n",
    "train_loader = DataLoader(train_dataset, batch_size=32, shuffle=True)\n",
    "val_loader = DataLoader(val_dataset, batch_size=32, shuffle=False)\n",
    "test_loader = DataLoader(test_dataset, batch_size=32, shuffle=False)"
   ]
  }
 ],
 "metadata": {
  "kernelspec": {
   "display_name": "venv",
   "language": "python",
   "name": "python3"
  },
  "language_info": {
   "codemirror_mode": {
    "name": "ipython",
    "version": 3
   },
   "file_extension": ".py",
   "mimetype": "text/x-python",
   "name": "python",
   "nbconvert_exporter": "python",
   "pygments_lexer": "ipython3",
   "version": "3.12.7"
  }
 },
 "nbformat": 4,
 "nbformat_minor": 2
}
