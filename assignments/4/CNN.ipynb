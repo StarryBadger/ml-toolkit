{
 "cells": [
  {
   "cell_type": "markdown",
   "metadata": {},
   "source": [
    "### Necessary Imports"
   ]
  },
  {
   "cell_type": "code",
   "execution_count": 1,
   "metadata": {},
   "outputs": [],
   "source": [
    "import os\n",
    "import sys\n",
    "import pandas as pd\n",
    "import numpy as np\n",
    "from PIL import Image\n",
    "\n",
    "import torch\n",
    "from torch.utils.data import Dataset, DataLoader\n",
    "from torchvision import transforms\n",
    "\n",
    "sys.path.append(os.path.abspath(os.path.join('..', '..', 'models', 'cnn')))\n",
    "from cnn import CNN\n",
    "from multilabel_cnn import MultiLabelCNN\n",
    "\n",
    "device = torch.device('cuda' if torch.cuda.is_available() else 'cpu')\n"
   ]
  },
  {
   "cell_type": "markdown",
   "metadata": {},
   "source": [
    "### Implementation a function load mnist data()"
   ]
  },
  {
   "cell_type": "code",
   "execution_count": 2,
   "metadata": {},
   "outputs": [],
   "source": [
    "def load_mnist_data(base_path='../../data/interim/4/double_mnist', use_label_count=False):\n",
    "    images = {\n",
    "        'train': [],\n",
    "        'val': [],\n",
    "        'test': []\n",
    "    }\n",
    "    labels = {\n",
    "        'train': [],\n",
    "        'val': [],\n",
    "        'test': []\n",
    "    }\n",
    "\n",
    "    splits = ['train', 'val', 'test']\n",
    "    for split in splits:\n",
    "        split_path = os.path.join(base_path, split)\n",
    "        for label in os.listdir(split_path):\n",
    "            label_path = os.path.join(split_path, label)\n",
    "            if os.path.isdir(label_path):\n",
    "                for img_name in os.listdir(label_path):\n",
    "                    img_path = os.path.join(label_path, img_name)\n",
    "                    img = Image.open(img_path).convert('L')\n",
    "                    img_array = np.array(img)\n",
    "                    images[split].append(img_array)\n",
    "\n",
    "                    if use_label_count:\n",
    "                        if label == \"0\":\n",
    "                            label_count = 0\n",
    "                        else:\n",
    "                            label_count = len(label)\n",
    "                        labels[split].append(label_count)\n",
    "                    else:\n",
    "                        labels[split].append(one_hot_encode_label(label))\n",
    "\n",
    "    return images, labels\n",
    "\n",
    "images, labels = load_mnist_data(use_label_count=True)\n"
   ]
  },
  {
   "cell_type": "markdown",
   "metadata": {},
   "source": [
    "The `images` and `labels` variables are dictionaries containing lists for three data splits: 'train', 'val', and 'test'. Each list holds arrays of image data for `images`, and corresponding label counts or one-hot encoded labels for `labels`, depending on the `use_label_count` flag."
   ]
  },
  {
   "cell_type": "markdown",
   "metadata": {},
   "source": [
    "### MultiMNISTDataset Class to create dataloaders for training and evaluation purposes."
   ]
  },
  {
   "cell_type": "code",
   "execution_count": 4,
   "metadata": {},
   "outputs": [],
   "source": [
    "class MultiMNISTDataset(Dataset):\n",
    "    def __init__(self, images, labels, transform=None):\n",
    "        self.images = images\n",
    "        self.labels = labels\n",
    "        self.transform = transform\n",
    "\n",
    "    def __len__(self):\n",
    "        return len(self.images)\n",
    "\n",
    "    def __getitem__(self, idx):\n",
    "        img = self.images[idx]\n",
    "        label = self.labels[idx]\n",
    "        \n",
    "        img = torch.tensor(img, dtype=torch.float32) / 255.0  \n",
    "\n",
    "        if self.transform:\n",
    "            img = self.transform(img)\n",
    "\n",
    "        return img, label\n",
    "\n",
    "transform = transforms.Compose([\n",
    "    transforms.ToPILImage(),         \n",
    "    transforms.Resize((28, 28)),     \n",
    "    transforms.ToTensor(),         \n",
    "])\n",
    "\n",
    "train_dataset = MultiMNISTDataset(images['train'], labels['train'], transform=transform)\n",
    "val_dataset = MultiMNISTDataset(images['val'], labels['val'], transform=transform)\n",
    "test_dataset = MultiMNISTDataset(images['test'], labels['test'], transform=transform)\n",
    "\n",
    "train_loader = DataLoader(train_dataset, batch_size=32, shuffle=True)\n",
    "val_loader = DataLoader(val_dataset, batch_size=32, shuffle=False)\n",
    "test_loader = DataLoader(test_dataset, batch_size=32, shuffle=False)\n"
   ]
  },
  {
   "cell_type": "markdown",
   "metadata": {},
   "source": [
    "### Running the CNN Class for Classifiction and Regression\n",
    "\n",
    "It accepts a `task` parameter to differentiate between classification and regression, defines convolutional layers and activation functions in its architecture, and has a `forward()` method that processes input data according to the selected task, handling output requirements appropriately."
   ]
  },
  {
   "cell_type": "code",
   "execution_count": 5,
   "metadata": {},
   "outputs": [
    {
     "name": "stdout",
     "output_type": "stream",
     "text": [
      "./figures/cnn_loss_plots/regression_demo.png\n"
     ]
    },
    {
     "name": "stderr",
     "output_type": "stream",
     "text": [
      "Training Epoch 1/4: 100%|██████████| 394/394 [00:16<00:00, 23.91it/s]\n"
     ]
    },
    {
     "name": "stdout",
     "output_type": "stream",
     "text": [
      "Epoch [1/4], Training Loss: 0.1556, Validation Loss: 0.0130\n"
     ]
    },
    {
     "name": "stderr",
     "output_type": "stream",
     "text": [
      "Training Epoch 2/4: 100%|██████████| 394/394 [00:17<00:00, 22.62it/s]\n"
     ]
    },
    {
     "name": "stdout",
     "output_type": "stream",
     "text": [
      "Epoch [2/4], Training Loss: 0.0133, Validation Loss: 0.0069\n"
     ]
    },
    {
     "name": "stderr",
     "output_type": "stream",
     "text": [
      "Training Epoch 3/4: 100%|██████████| 394/394 [00:19<00:00, 20.37it/s]\n"
     ]
    },
    {
     "name": "stdout",
     "output_type": "stream",
     "text": [
      "Epoch [3/4], Training Loss: 0.0063, Validation Loss: 0.0047\n"
     ]
    },
    {
     "name": "stderr",
     "output_type": "stream",
     "text": [
      "Training Epoch 4/4: 100%|██████████| 394/394 [00:16<00:00, 23.85it/s]\n"
     ]
    },
    {
     "name": "stdout",
     "output_type": "stream",
     "text": [
      "Epoch [4/4], Training Loss: 0.0058, Validation Loss: 0.0040\n"
     ]
    }
   ],
   "source": [
    "model = CNN(task='regression', loss_figure_save_path='./figures/cnn_loss_plots/regression_demo.png').to(device)\n",
    "model.fit(train_loader, val_loader, epochs= 4)"
   ]
  },
  {
   "cell_type": "markdown",
   "metadata": {},
   "source": [
    "![Regression](figures/cnn_loss_plots/regression_demo.png)"
   ]
  },
  {
   "cell_type": "code",
   "execution_count": 7,
   "metadata": {},
   "outputs": [
    {
     "name": "stdout",
     "output_type": "stream",
     "text": [
      "./figures/cnn_loss_plots/classification_demo.png\n"
     ]
    },
    {
     "name": "stderr",
     "output_type": "stream",
     "text": [
      "Training Epoch 1/4: 100%|██████████| 394/394 [00:15<00:00, 25.65it/s]\n"
     ]
    },
    {
     "name": "stdout",
     "output_type": "stream",
     "text": [
      "Epoch [1/4], Training Loss: 0.2531, Validation Loss: 0.0031\n"
     ]
    },
    {
     "name": "stderr",
     "output_type": "stream",
     "text": [
      "Training Epoch 2/4: 100%|██████████| 394/394 [00:15<00:00, 25.45it/s]\n"
     ]
    },
    {
     "name": "stdout",
     "output_type": "stream",
     "text": [
      "Epoch [2/4], Training Loss: 0.0039, Validation Loss: 0.0004\n"
     ]
    },
    {
     "name": "stderr",
     "output_type": "stream",
     "text": [
      "Training Epoch 3/4: 100%|██████████| 394/394 [00:14<00:00, 27.66it/s]\n"
     ]
    },
    {
     "name": "stdout",
     "output_type": "stream",
     "text": [
      "Epoch [3/4], Training Loss: 0.0151, Validation Loss: 0.0008\n"
     ]
    },
    {
     "name": "stderr",
     "output_type": "stream",
     "text": [
      "Training Epoch 4/4: 100%|██████████| 394/394 [00:16<00:00, 24.55it/s]\n"
     ]
    },
    {
     "name": "stdout",
     "output_type": "stream",
     "text": [
      "Epoch [4/4], Training Loss: 0.0012, Validation Loss: 0.0001\n"
     ]
    }
   ],
   "source": [
    "model = CNN(task='classification', num_conv_layers=3,dropout_rate=0.2, optimizer_choice='adam', device=device, loss_figure_save_path='./figures/cnn_loss_plots/classification_demo.png').to(device)\n",
    "model.fit(train_loader, val_loader, epochs=4)"
   ]
  },
  {
   "cell_type": "markdown",
   "metadata": {},
   "source": [
    "![Classification](figures/cnn_loss_plots/classification_demo.png)"
   ]
  },
  {
   "cell_type": "code",
   "execution_count": 16,
   "metadata": {},
   "outputs": [
    {
     "name": "stdout",
     "output_type": "stream",
     "text": [
      "Results saved to demo_classification_predictions.csv\n",
      "Accuracy: 0.9990\n"
     ]
    }
   ],
   "source": [
    "import pandas as pd\n",
    "import torch\n",
    "\n",
    "def calculate_accuracy_cnn(model, test_loader, output_file='demo_classification_predictions.csv', save_to_file=False):\n",
    "    model.eval()\n",
    "    predictions = model.predict(test_loader)\n",
    "    \n",
    "    true_labels = []\n",
    "    for _, labels in test_loader:\n",
    "        true_labels.append(labels)\n",
    "    true_labels = torch.cat(true_labels).cpu()\n",
    "    predictions = torch.round(predictions).cpu()\n",
    "\n",
    "    results_df = pd.DataFrame({\n",
    "        'True Labels': true_labels.numpy(),\n",
    "        'Predictions': predictions.numpy(),\n",
    "        'Correctness': ['✓' if true == pred else 'x' for true, pred in zip(true_labels.numpy(), predictions.numpy())]\n",
    "    })\n",
    "\n",
    "    if save_to_file:\n",
    "        results_df.to_csv(output_file, index=False)\n",
    "        print(f\"Results saved to {output_file}\")\n",
    "\n",
    "    correct_predictions = (true_labels == predictions).sum().item()\n",
    "    total_predictions = true_labels.size(0)\n",
    "    accuracy = correct_predictions / total_predictions\n",
    "\n",
    "    print(f\"Accuracy: {accuracy:.4f}\")\n",
    "\n",
    "calculate_accuracy_cnn(model, val_loader, save_to_file=True)\n"
   ]
  },
  {
   "cell_type": "markdown",
   "metadata": {},
   "source": [
    "### Hyperparameter Tuning\n",
    "\n",
    "The key hyperparameters to tune are: `lr`, `dropout_rate`, `num_conv_layers`, `optimizer_choice`, `num_epochs` and `activation_function`.\n",
    "\n",
    "Early stopping may also have been tuned giving us a much larger search space"
   ]
  },
  {
   "cell_type": "code",
   "execution_count": 18,
   "metadata": {},
   "outputs": [
    {
     "name": "stdout",
     "output_type": "stream",
     "text": [
      "\n",
      "Classification CNN for 5 epochs with learning rate = 0.001, Dropout = 0.2, 2 convolutional layers, relu activation and adam optimizer\n",
      "./figures/cnn_loss_plots/classification_loss_combination_1_lr_0.001_dropout_0.2_layers_2_activ_relu_opt_adam.png\n"
     ]
    },
    {
     "name": "stderr",
     "output_type": "stream",
     "text": [
      "Training Epoch 1/5: 100%|██████████| 394/394 [00:09<00:00, 41.38it/s]\n"
     ]
    },
    {
     "name": "stdout",
     "output_type": "stream",
     "text": [
      "Epoch [1/5], Training Loss: 0.2386, Validation Loss: 0.0089\n"
     ]
    },
    {
     "name": "stderr",
     "output_type": "stream",
     "text": [
      "Training Epoch 2/5: 100%|██████████| 394/394 [00:08<00:00, 46.84it/s]\n"
     ]
    },
    {
     "name": "stdout",
     "output_type": "stream",
     "text": [
      "Epoch [2/5], Training Loss: 0.0074, Validation Loss: 0.0012\n"
     ]
    },
    {
     "name": "stderr",
     "output_type": "stream",
     "text": [
      "Training Epoch 3/5: 100%|██████████| 394/394 [00:09<00:00, 43.52it/s]\n"
     ]
    },
    {
     "name": "stdout",
     "output_type": "stream",
     "text": [
      "Epoch [3/5], Training Loss: 0.0051, Validation Loss: 0.0041\n"
     ]
    },
    {
     "name": "stderr",
     "output_type": "stream",
     "text": [
      "Training Epoch 4/5: 100%|██████████| 394/394 [00:11<00:00, 35.37it/s]\n"
     ]
    },
    {
     "name": "stdout",
     "output_type": "stream",
     "text": [
      "Epoch [4/5], Training Loss: 0.0139, Validation Loss: 0.0007\n"
     ]
    },
    {
     "name": "stderr",
     "output_type": "stream",
     "text": [
      "Training Epoch 5/5: 100%|██████████| 394/394 [00:12<00:00, 32.56it/s]\n"
     ]
    },
    {
     "name": "stdout",
     "output_type": "stream",
     "text": [
      "Epoch [5/5], Training Loss: 0.0009, Validation Loss: 0.0002\n",
      "\n",
      "Accuracy on Validation Set\n",
      "Accuracy: 1.0000\n",
      "\n",
      "Classification CNN for 5 epochs with learning rate = 0.001, Dropout = 0.4, 2 convolutional layers, tanh activation and adam optimizer\n",
      "./figures/cnn_loss_plots/classification_loss_combination_2_lr_0.001_dropout_0.4_layers_2_activ_tanh_opt_adam.png\n"
     ]
    },
    {
     "name": "stderr",
     "output_type": "stream",
     "text": [
      "Training Epoch 1/5: 100%|██████████| 394/394 [00:11<00:00, 34.84it/s]\n"
     ]
    },
    {
     "name": "stdout",
     "output_type": "stream",
     "text": [
      "Epoch [1/5], Training Loss: 0.1942, Validation Loss: 0.0073\n"
     ]
    },
    {
     "name": "stderr",
     "output_type": "stream",
     "text": [
      "Training Epoch 2/5: 100%|██████████| 394/394 [00:11<00:00, 35.49it/s]\n"
     ]
    },
    {
     "name": "stdout",
     "output_type": "stream",
     "text": [
      "Epoch [2/5], Training Loss: 0.0230, Validation Loss: 0.0013\n"
     ]
    },
    {
     "name": "stderr",
     "output_type": "stream",
     "text": [
      "Training Epoch 3/5: 100%|██████████| 394/394 [00:12<00:00, 30.41it/s]\n"
     ]
    },
    {
     "name": "stdout",
     "output_type": "stream",
     "text": [
      "Epoch [3/5], Training Loss: 0.0097, Validation Loss: 0.0001\n"
     ]
    },
    {
     "name": "stderr",
     "output_type": "stream",
     "text": [
      "Training Epoch 4/5: 100%|██████████| 394/394 [00:13<00:00, 29.85it/s]\n"
     ]
    },
    {
     "name": "stdout",
     "output_type": "stream",
     "text": [
      "Epoch [4/5], Training Loss: 0.0032, Validation Loss: 0.0002\n"
     ]
    },
    {
     "name": "stderr",
     "output_type": "stream",
     "text": [
      "Training Epoch 5/5: 100%|██████████| 394/394 [00:12<00:00, 30.60it/s]\n"
     ]
    },
    {
     "name": "stdout",
     "output_type": "stream",
     "text": [
      "Epoch [5/5], Training Loss: 0.0237, Validation Loss: 0.0006\n",
      "\n",
      "Accuracy on Validation Set\n",
      "Accuracy: 1.0000\n",
      "\n",
      "Classification CNN for 10 epochs with learning rate = 0.001, Dropout = 0.2, 3 convolutional layers, relu activation and adam optimizer\n",
      "./figures/cnn_loss_plots/classification_loss_combination_3_lr_0.001_dropout_0.2_layers_3_activ_relu_opt_adam.png\n"
     ]
    },
    {
     "name": "stderr",
     "output_type": "stream",
     "text": [
      "Training Epoch 1/10: 100%|██████████| 394/394 [00:11<00:00, 35.76it/s]\n"
     ]
    },
    {
     "name": "stdout",
     "output_type": "stream",
     "text": [
      "Epoch [1/10], Training Loss: 0.2269, Validation Loss: 0.0032\n"
     ]
    },
    {
     "name": "stderr",
     "output_type": "stream",
     "text": [
      "Training Epoch 2/10: 100%|██████████| 394/394 [00:11<00:00, 35.46it/s]\n"
     ]
    },
    {
     "name": "stdout",
     "output_type": "stream",
     "text": [
      "Epoch [2/10], Training Loss: 0.0047, Validation Loss: 0.0003\n"
     ]
    },
    {
     "name": "stderr",
     "output_type": "stream",
     "text": [
      "Training Epoch 3/10: 100%|██████████| 394/394 [00:13<00:00, 28.60it/s]\n"
     ]
    },
    {
     "name": "stdout",
     "output_type": "stream",
     "text": [
      "Epoch [3/10], Training Loss: 0.0264, Validation Loss: 0.0040\n"
     ]
    },
    {
     "name": "stderr",
     "output_type": "stream",
     "text": [
      "Training Epoch 4/10: 100%|██████████| 394/394 [00:11<00:00, 35.25it/s]\n"
     ]
    },
    {
     "name": "stdout",
     "output_type": "stream",
     "text": [
      "Epoch [4/10], Training Loss: 0.0011, Validation Loss: 0.0002\n"
     ]
    },
    {
     "name": "stderr",
     "output_type": "stream",
     "text": [
      "Training Epoch 5/10: 100%|██████████| 394/394 [00:11<00:00, 34.99it/s]\n"
     ]
    },
    {
     "name": "stdout",
     "output_type": "stream",
     "text": [
      "Epoch [5/10], Training Loss: 0.0009, Validation Loss: 0.0001\n"
     ]
    },
    {
     "name": "stderr",
     "output_type": "stream",
     "text": [
      "Training Epoch 6/10: 100%|██████████| 394/394 [00:13<00:00, 29.03it/s]\n"
     ]
    },
    {
     "name": "stdout",
     "output_type": "stream",
     "text": [
      "Epoch [6/10], Training Loss: 0.0003, Validation Loss: 0.0000\n"
     ]
    },
    {
     "name": "stderr",
     "output_type": "stream",
     "text": [
      "Training Epoch 7/10: 100%|██████████| 394/394 [00:12<00:00, 31.65it/s]\n"
     ]
    },
    {
     "name": "stdout",
     "output_type": "stream",
     "text": [
      "Epoch [7/10], Training Loss: 0.0002, Validation Loss: 0.0000\n"
     ]
    },
    {
     "name": "stderr",
     "output_type": "stream",
     "text": [
      "Training Epoch 8/10: 100%|██████████| 394/394 [00:13<00:00, 28.93it/s]\n"
     ]
    },
    {
     "name": "stdout",
     "output_type": "stream",
     "text": [
      "Epoch [8/10], Training Loss: 0.0001, Validation Loss: 0.0000\n"
     ]
    },
    {
     "name": "stderr",
     "output_type": "stream",
     "text": [
      "Training Epoch 9/10: 100%|██████████| 394/394 [00:15<00:00, 25.05it/s]\n"
     ]
    },
    {
     "name": "stdout",
     "output_type": "stream",
     "text": [
      "Epoch [9/10], Training Loss: 0.0001, Validation Loss: 0.0000\n"
     ]
    },
    {
     "name": "stderr",
     "output_type": "stream",
     "text": [
      "Training Epoch 10/10: 100%|██████████| 394/394 [00:16<00:00, 24.48it/s]\n"
     ]
    },
    {
     "name": "stdout",
     "output_type": "stream",
     "text": [
      "Epoch [10/10], Training Loss: 0.0000, Validation Loss: 0.0000\n",
      "\n",
      "Accuracy on Validation Set\n",
      "Accuracy: 1.0000\n",
      "\n",
      "Classification CNN for 10 epochs with learning rate = 0.001, Dropout = 0.4, 3 convolutional layers, tanh activation and sgd optimizer\n",
      "./figures/cnn_loss_plots/classification_loss_combination_4_lr_0.001_dropout_0.4_layers_3_activ_tanh_opt_sgd.png\n"
     ]
    },
    {
     "name": "stderr",
     "output_type": "stream",
     "text": [
      "Training Epoch 1/10: 100%|██████████| 394/394 [00:14<00:00, 27.48it/s]\n"
     ]
    },
    {
     "name": "stdout",
     "output_type": "stream",
     "text": [
      "Epoch [1/10], Training Loss: 1.1710, Validation Loss: 1.1015\n"
     ]
    },
    {
     "name": "stderr",
     "output_type": "stream",
     "text": [
      "Training Epoch 2/10: 100%|██████████| 394/394 [00:14<00:00, 27.55it/s]\n"
     ]
    },
    {
     "name": "stdout",
     "output_type": "stream",
     "text": [
      "Epoch [2/10], Training Loss: 1.1382, Validation Loss: 1.0857\n"
     ]
    },
    {
     "name": "stderr",
     "output_type": "stream",
     "text": [
      "Training Epoch 3/10: 100%|██████████| 394/394 [00:14<00:00, 28.09it/s]\n"
     ]
    },
    {
     "name": "stdout",
     "output_type": "stream",
     "text": [
      "Epoch [3/10], Training Loss: 1.0960, Validation Loss: 0.9791\n"
     ]
    },
    {
     "name": "stderr",
     "output_type": "stream",
     "text": [
      "Training Epoch 4/10: 100%|██████████| 394/394 [00:12<00:00, 30.49it/s]\n"
     ]
    },
    {
     "name": "stdout",
     "output_type": "stream",
     "text": [
      "Epoch [4/10], Training Loss: 0.7676, Validation Loss: 0.4226\n"
     ]
    },
    {
     "name": "stderr",
     "output_type": "stream",
     "text": [
      "Training Epoch 5/10: 100%|██████████| 394/394 [00:13<00:00, 28.55it/s]\n"
     ]
    },
    {
     "name": "stdout",
     "output_type": "stream",
     "text": [
      "Epoch [5/10], Training Loss: 0.3211, Validation Loss: 0.1413\n"
     ]
    },
    {
     "name": "stderr",
     "output_type": "stream",
     "text": [
      "Training Epoch 6/10: 100%|██████████| 394/394 [00:11<00:00, 34.19it/s]\n"
     ]
    },
    {
     "name": "stdout",
     "output_type": "stream",
     "text": [
      "Epoch [6/10], Training Loss: 0.1120, Validation Loss: 0.0546\n"
     ]
    },
    {
     "name": "stderr",
     "output_type": "stream",
     "text": [
      "Training Epoch 7/10: 100%|██████████| 394/394 [00:12<00:00, 30.78it/s]\n"
     ]
    },
    {
     "name": "stdout",
     "output_type": "stream",
     "text": [
      "Epoch [7/10], Training Loss: 0.0567, Validation Loss: 0.0305\n"
     ]
    },
    {
     "name": "stderr",
     "output_type": "stream",
     "text": [
      "Training Epoch 8/10: 100%|██████████| 394/394 [00:12<00:00, 30.52it/s]\n"
     ]
    },
    {
     "name": "stdout",
     "output_type": "stream",
     "text": [
      "Epoch [8/10], Training Loss: 0.0348, Validation Loss: 0.0215\n"
     ]
    },
    {
     "name": "stderr",
     "output_type": "stream",
     "text": [
      "Training Epoch 9/10: 100%|██████████| 394/394 [00:14<00:00, 27.74it/s]\n"
     ]
    },
    {
     "name": "stdout",
     "output_type": "stream",
     "text": [
      "Epoch [9/10], Training Loss: 0.0246, Validation Loss: 0.0151\n"
     ]
    },
    {
     "name": "stderr",
     "output_type": "stream",
     "text": [
      "Training Epoch 10/10: 100%|██████████| 394/394 [00:12<00:00, 31.01it/s]\n"
     ]
    },
    {
     "name": "stdout",
     "output_type": "stream",
     "text": [
      "Epoch [10/10], Training Loss: 0.0186, Validation Loss: 0.0105\n",
      "\n",
      "Accuracy on Validation Set\n",
      "Accuracy: 0.9997\n",
      "\n",
      "Classification CNN for 5 epochs with learning rate = 0.0005, Dropout = 0.2, 2 convolutional layers, relu activation and adam optimizer\n",
      "./figures/cnn_loss_plots/classification_loss_combination_5_lr_0.0005_dropout_0.2_layers_2_activ_relu_opt_adam.png\n"
     ]
    },
    {
     "name": "stderr",
     "output_type": "stream",
     "text": [
      "Training Epoch 1/5: 100%|██████████| 394/394 [00:12<00:00, 31.78it/s]\n"
     ]
    },
    {
     "name": "stdout",
     "output_type": "stream",
     "text": [
      "Epoch [1/5], Training Loss: 0.3439, Validation Loss: 0.0421\n"
     ]
    },
    {
     "name": "stderr",
     "output_type": "stream",
     "text": [
      "Training Epoch 2/5: 100%|██████████| 394/394 [00:11<00:00, 34.08it/s]\n"
     ]
    },
    {
     "name": "stdout",
     "output_type": "stream",
     "text": [
      "Epoch [2/5], Training Loss: 0.0257, Validation Loss: 0.0066\n"
     ]
    },
    {
     "name": "stderr",
     "output_type": "stream",
     "text": [
      "Training Epoch 3/5: 100%|██████████| 394/394 [00:12<00:00, 32.60it/s]\n"
     ]
    },
    {
     "name": "stdout",
     "output_type": "stream",
     "text": [
      "Epoch [3/5], Training Loss: 0.0100, Validation Loss: 0.0031\n"
     ]
    },
    {
     "name": "stderr",
     "output_type": "stream",
     "text": [
      "Training Epoch 4/5: 100%|██████████| 394/394 [00:12<00:00, 32.48it/s]\n"
     ]
    },
    {
     "name": "stdout",
     "output_type": "stream",
     "text": [
      "Epoch [4/5], Training Loss: 0.0037, Validation Loss: 0.0015\n"
     ]
    },
    {
     "name": "stderr",
     "output_type": "stream",
     "text": [
      "Training Epoch 5/5: 100%|██████████| 394/394 [00:11<00:00, 35.74it/s]\n"
     ]
    },
    {
     "name": "stdout",
     "output_type": "stream",
     "text": [
      "Epoch [5/5], Training Loss: 0.0016, Validation Loss: 0.0017\n",
      "\n",
      "Accuracy on Validation Set\n",
      "Accuracy: 0.9997\n",
      "\n",
      "Classification CNN for 5 epochs with learning rate = 0.0005, Dropout = 0.4, 2 convolutional layers, tanh activation and sgd optimizer\n",
      "./figures/cnn_loss_plots/classification_loss_combination_6_lr_0.0005_dropout_0.4_layers_2_activ_tanh_opt_sgd.png\n"
     ]
    },
    {
     "name": "stderr",
     "output_type": "stream",
     "text": [
      "Training Epoch 1/5: 100%|██████████| 394/394 [00:11<00:00, 33.16it/s]\n"
     ]
    },
    {
     "name": "stdout",
     "output_type": "stream",
     "text": [
      "Epoch [1/5], Training Loss: 1.1529, Validation Loss: 1.0859\n"
     ]
    },
    {
     "name": "stderr",
     "output_type": "stream",
     "text": [
      "Training Epoch 2/5: 100%|██████████| 394/394 [00:14<00:00, 27.98it/s]\n"
     ]
    },
    {
     "name": "stdout",
     "output_type": "stream",
     "text": [
      "Epoch [2/5], Training Loss: 1.1171, Validation Loss: 1.0536\n"
     ]
    },
    {
     "name": "stderr",
     "output_type": "stream",
     "text": [
      "Training Epoch 3/5: 100%|██████████| 394/394 [00:11<00:00, 34.98it/s]\n"
     ]
    },
    {
     "name": "stdout",
     "output_type": "stream",
     "text": [
      "Epoch [3/5], Training Loss: 1.0663, Validation Loss: 0.9637\n"
     ]
    },
    {
     "name": "stderr",
     "output_type": "stream",
     "text": [
      "Training Epoch 4/5: 100%|██████████| 394/394 [00:09<00:00, 39.85it/s]\n"
     ]
    },
    {
     "name": "stdout",
     "output_type": "stream",
     "text": [
      "Epoch [4/5], Training Loss: 0.8846, Validation Loss: 0.6484\n"
     ]
    },
    {
     "name": "stderr",
     "output_type": "stream",
     "text": [
      "Training Epoch 5/5: 100%|██████████| 394/394 [00:11<00:00, 35.14it/s]\n"
     ]
    },
    {
     "name": "stdout",
     "output_type": "stream",
     "text": [
      "Epoch [5/5], Training Loss: 0.5343, Validation Loss: 0.3291\n",
      "\n",
      "Accuracy on Validation Set\n",
      "Accuracy: 0.9393\n",
      "\n",
      "Classification CNN for 5 epochs with learning rate = 0.0005, Dropout = 0.2, 3 convolutional layers, relu activation and adam optimizer\n",
      "./figures/cnn_loss_plots/classification_loss_combination_7_lr_0.0005_dropout_0.2_layers_3_activ_relu_opt_adam.png\n"
     ]
    },
    {
     "name": "stderr",
     "output_type": "stream",
     "text": [
      "Training Epoch 1/5: 100%|██████████| 394/394 [00:11<00:00, 33.41it/s]\n"
     ]
    },
    {
     "name": "stdout",
     "output_type": "stream",
     "text": [
      "Epoch [1/5], Training Loss: 0.3340, Validation Loss: 0.0164\n"
     ]
    },
    {
     "name": "stderr",
     "output_type": "stream",
     "text": [
      "Training Epoch 2/5: 100%|██████████| 394/394 [00:13<00:00, 30.29it/s]\n"
     ]
    },
    {
     "name": "stdout",
     "output_type": "stream",
     "text": [
      "Epoch [2/5], Training Loss: 0.0103, Validation Loss: 0.0023\n"
     ]
    },
    {
     "name": "stderr",
     "output_type": "stream",
     "text": [
      "Training Epoch 3/5: 100%|██████████| 394/394 [00:12<00:00, 30.88it/s]\n"
     ]
    },
    {
     "name": "stdout",
     "output_type": "stream",
     "text": [
      "Epoch [3/5], Training Loss: 0.0021, Validation Loss: 0.0010\n"
     ]
    },
    {
     "name": "stderr",
     "output_type": "stream",
     "text": [
      "Training Epoch 4/5: 100%|██████████| 394/394 [00:12<00:00, 32.52it/s]\n"
     ]
    },
    {
     "name": "stdout",
     "output_type": "stream",
     "text": [
      "Epoch [4/5], Training Loss: 0.0048, Validation Loss: 0.0004\n"
     ]
    },
    {
     "name": "stderr",
     "output_type": "stream",
     "text": [
      "Training Epoch 5/5: 100%|██████████| 394/394 [00:12<00:00, 31.61it/s]\n"
     ]
    },
    {
     "name": "stdout",
     "output_type": "stream",
     "text": [
      "Epoch [5/5], Training Loss: 0.0009, Validation Loss: 0.0001\n",
      "\n",
      "Accuracy on Validation Set\n",
      "Accuracy: 1.0000\n",
      "\n",
      "Classification CNN for 10 epochs with learning rate = 0.001, Dropout = 0.4, 3 convolutional layers, relu activation and sgd optimizer\n",
      "./figures/cnn_loss_plots/classification_loss_combination_8_lr_0.001_dropout_0.4_layers_3_activ_relu_opt_sgd.png\n"
     ]
    },
    {
     "name": "stderr",
     "output_type": "stream",
     "text": [
      "Training Epoch 1/10: 100%|██████████| 394/394 [00:11<00:00, 33.50it/s]\n"
     ]
    },
    {
     "name": "stdout",
     "output_type": "stream",
     "text": [
      "Epoch [1/10], Training Loss: 1.1827, Validation Loss: 1.0911\n"
     ]
    },
    {
     "name": "stderr",
     "output_type": "stream",
     "text": [
      "Training Epoch 2/10: 100%|██████████| 394/394 [00:12<00:00, 31.58it/s]\n"
     ]
    },
    {
     "name": "stdout",
     "output_type": "stream",
     "text": [
      "Epoch [2/10], Training Loss: 1.1322, Validation Loss: 1.0855\n"
     ]
    },
    {
     "name": "stderr",
     "output_type": "stream",
     "text": [
      "Training Epoch 3/10: 100%|██████████| 394/394 [00:11<00:00, 32.95it/s]\n"
     ]
    },
    {
     "name": "stdout",
     "output_type": "stream",
     "text": [
      "Epoch [3/10], Training Loss: 1.1160, Validation Loss: 1.0522\n"
     ]
    },
    {
     "name": "stderr",
     "output_type": "stream",
     "text": [
      "Training Epoch 4/10: 100%|██████████| 394/394 [00:11<00:00, 32.93it/s]\n"
     ]
    },
    {
     "name": "stdout",
     "output_type": "stream",
     "text": [
      "Epoch [4/10], Training Loss: 1.0403, Validation Loss: 0.8770\n"
     ]
    },
    {
     "name": "stderr",
     "output_type": "stream",
     "text": [
      "Training Epoch 5/10: 100%|██████████| 394/394 [00:12<00:00, 31.31it/s]\n"
     ]
    },
    {
     "name": "stdout",
     "output_type": "stream",
     "text": [
      "Epoch [5/10], Training Loss: 0.7886, Validation Loss: 0.5055\n"
     ]
    },
    {
     "name": "stderr",
     "output_type": "stream",
     "text": [
      "Training Epoch 6/10: 100%|██████████| 394/394 [00:12<00:00, 31.64it/s]\n"
     ]
    },
    {
     "name": "stdout",
     "output_type": "stream",
     "text": [
      "Epoch [6/10], Training Loss: 0.3443, Validation Loss: 0.1470\n"
     ]
    },
    {
     "name": "stderr",
     "output_type": "stream",
     "text": [
      "Training Epoch 7/10: 100%|██████████| 394/394 [00:12<00:00, 31.99it/s]\n"
     ]
    },
    {
     "name": "stdout",
     "output_type": "stream",
     "text": [
      "Epoch [7/10], Training Loss: 0.1644, Validation Loss: 0.0701\n"
     ]
    },
    {
     "name": "stderr",
     "output_type": "stream",
     "text": [
      "Training Epoch 8/10: 100%|██████████| 394/394 [00:12<00:00, 30.94it/s]\n"
     ]
    },
    {
     "name": "stdout",
     "output_type": "stream",
     "text": [
      "Epoch [8/10], Training Loss: 0.1245, Validation Loss: 0.0466\n"
     ]
    },
    {
     "name": "stderr",
     "output_type": "stream",
     "text": [
      "Training Epoch 9/10: 100%|██████████| 394/394 [00:12<00:00, 31.50it/s]\n"
     ]
    },
    {
     "name": "stdout",
     "output_type": "stream",
     "text": [
      "Epoch [9/10], Training Loss: 0.1049, Validation Loss: 0.0294\n"
     ]
    },
    {
     "name": "stderr",
     "output_type": "stream",
     "text": [
      "Training Epoch 10/10: 100%|██████████| 394/394 [00:12<00:00, 31.44it/s]\n"
     ]
    },
    {
     "name": "stdout",
     "output_type": "stream",
     "text": [
      "Epoch [10/10], Training Loss: 0.0814, Validation Loss: 0.0333\n",
      "\n",
      "Accuracy on Validation Set\n",
      "Accuracy: 0.9947\n",
      "\n",
      "Regression CNN for 5 epochs with learning rate = 0.001, Dropout = 0.2, 2 convolutional layers, relu activation and adam optimizer\n",
      "./figures/cnn_loss_plots/regression_loss_combination_1_lr_0.001_dropout_0.2_layers_2_activ_relu_opt_adam.png\n"
     ]
    },
    {
     "name": "stderr",
     "output_type": "stream",
     "text": [
      "Training Epoch 1/5: 100%|██████████| 394/394 [00:10<00:00, 36.12it/s]\n"
     ]
    },
    {
     "name": "stdout",
     "output_type": "stream",
     "text": [
      "Epoch [1/5], Training Loss: 0.1472, Validation Loss: 0.0220\n"
     ]
    },
    {
     "name": "stderr",
     "output_type": "stream",
     "text": [
      "Training Epoch 2/5: 100%|██████████| 394/394 [00:11<00:00, 34.87it/s]\n"
     ]
    },
    {
     "name": "stdout",
     "output_type": "stream",
     "text": [
      "Epoch [2/5], Training Loss: 0.0384, Validation Loss: 0.0325\n"
     ]
    },
    {
     "name": "stderr",
     "output_type": "stream",
     "text": [
      "Training Epoch 3/5: 100%|██████████| 394/394 [00:11<00:00, 33.07it/s]\n"
     ]
    },
    {
     "name": "stdout",
     "output_type": "stream",
     "text": [
      "Epoch [3/5], Training Loss: 0.0329, Validation Loss: 0.0090\n"
     ]
    },
    {
     "name": "stderr",
     "output_type": "stream",
     "text": [
      "Training Epoch 4/5: 100%|██████████| 394/394 [00:10<00:00, 36.95it/s]\n"
     ]
    },
    {
     "name": "stdout",
     "output_type": "stream",
     "text": [
      "Epoch [4/5], Training Loss: 0.0283, Validation Loss: 0.0068\n"
     ]
    },
    {
     "name": "stderr",
     "output_type": "stream",
     "text": [
      "Training Epoch 5/5: 100%|██████████| 394/394 [00:11<00:00, 33.36it/s]\n"
     ]
    },
    {
     "name": "stdout",
     "output_type": "stream",
     "text": [
      "Epoch [5/5], Training Loss: 0.0273, Validation Loss: 0.0086\n",
      "\n",
      "Accuracy on Validation Set\n",
      "Accuracy: 0.9997\n",
      "\n",
      "Regression CNN for 5 epochs with learning rate = 0.001, Dropout = 0.4, 2 convolutional layers, tanh activation and adam optimizer\n",
      "./figures/cnn_loss_plots/regression_loss_combination_2_lr_0.001_dropout_0.4_layers_2_activ_tanh_opt_adam.png\n"
     ]
    },
    {
     "name": "stderr",
     "output_type": "stream",
     "text": [
      "Training Epoch 1/5: 100%|██████████| 394/394 [00:13<00:00, 30.21it/s]\n"
     ]
    },
    {
     "name": "stdout",
     "output_type": "stream",
     "text": [
      "Epoch [1/5], Training Loss: 0.2471, Validation Loss: 0.0978\n"
     ]
    },
    {
     "name": "stderr",
     "output_type": "stream",
     "text": [
      "Training Epoch 2/5: 100%|██████████| 394/394 [00:12<00:00, 30.72it/s]\n"
     ]
    },
    {
     "name": "stdout",
     "output_type": "stream",
     "text": [
      "Epoch [2/5], Training Loss: 0.1160, Validation Loss: 0.0398\n"
     ]
    },
    {
     "name": "stderr",
     "output_type": "stream",
     "text": [
      "Training Epoch 3/5: 100%|██████████| 394/394 [00:13<00:00, 28.17it/s]\n"
     ]
    },
    {
     "name": "stdout",
     "output_type": "stream",
     "text": [
      "Epoch [3/5], Training Loss: 0.0804, Validation Loss: 0.0276\n"
     ]
    },
    {
     "name": "stderr",
     "output_type": "stream",
     "text": [
      "Training Epoch 4/5: 100%|██████████| 394/394 [00:13<00:00, 29.38it/s]\n"
     ]
    },
    {
     "name": "stdout",
     "output_type": "stream",
     "text": [
      "Epoch [4/5], Training Loss: 0.0686, Validation Loss: 0.0168\n"
     ]
    },
    {
     "name": "stderr",
     "output_type": "stream",
     "text": [
      "Training Epoch 5/5: 100%|██████████| 394/394 [00:13<00:00, 28.64it/s]\n"
     ]
    },
    {
     "name": "stdout",
     "output_type": "stream",
     "text": [
      "Epoch [5/5], Training Loss: 0.0615, Validation Loss: 0.0151\n",
      "\n",
      "Accuracy on Validation Set\n",
      "Accuracy: 0.9997\n",
      "\n",
      "Regression CNN for 10 epochs with learning rate = 0.001, Dropout = 0.2, 3 convolutional layers, relu activation and adam optimizer\n",
      "./figures/cnn_loss_plots/regression_loss_combination_3_lr_0.001_dropout_0.2_layers_3_activ_relu_opt_adam.png\n"
     ]
    },
    {
     "name": "stderr",
     "output_type": "stream",
     "text": [
      "Training Epoch 1/10: 100%|██████████| 394/394 [00:14<00:00, 27.03it/s]\n"
     ]
    },
    {
     "name": "stdout",
     "output_type": "stream",
     "text": [
      "Epoch [1/10], Training Loss: 0.2102, Validation Loss: 0.0339\n"
     ]
    },
    {
     "name": "stderr",
     "output_type": "stream",
     "text": [
      "Training Epoch 2/10: 100%|██████████| 394/394 [00:14<00:00, 26.87it/s]\n"
     ]
    },
    {
     "name": "stdout",
     "output_type": "stream",
     "text": [
      "Epoch [2/10], Training Loss: 0.0326, Validation Loss: 0.0079\n"
     ]
    },
    {
     "name": "stderr",
     "output_type": "stream",
     "text": [
      "Training Epoch 3/10: 100%|██████████| 394/394 [00:17<00:00, 23.15it/s]\n"
     ]
    },
    {
     "name": "stdout",
     "output_type": "stream",
     "text": [
      "Epoch [3/10], Training Loss: 0.0288, Validation Loss: 0.0166\n"
     ]
    },
    {
     "name": "stderr",
     "output_type": "stream",
     "text": [
      "Training Epoch 4/10: 100%|██████████| 394/394 [00:16<00:00, 24.31it/s]\n"
     ]
    },
    {
     "name": "stdout",
     "output_type": "stream",
     "text": [
      "Epoch [4/10], Training Loss: 0.0285, Validation Loss: 0.0068\n"
     ]
    },
    {
     "name": "stderr",
     "output_type": "stream",
     "text": [
      "Training Epoch 5/10: 100%|██████████| 394/394 [00:16<00:00, 24.24it/s]\n"
     ]
    },
    {
     "name": "stdout",
     "output_type": "stream",
     "text": [
      "Epoch [5/10], Training Loss: 0.0262, Validation Loss: 0.0157\n"
     ]
    },
    {
     "name": "stderr",
     "output_type": "stream",
     "text": [
      "Training Epoch 6/10: 100%|██████████| 394/394 [00:19<00:00, 20.03it/s]\n"
     ]
    },
    {
     "name": "stdout",
     "output_type": "stream",
     "text": [
      "Epoch [6/10], Training Loss: 0.0229, Validation Loss: 0.0056\n"
     ]
    },
    {
     "name": "stderr",
     "output_type": "stream",
     "text": [
      "Training Epoch 7/10: 100%|██████████| 394/394 [00:17<00:00, 22.50it/s]\n"
     ]
    },
    {
     "name": "stdout",
     "output_type": "stream",
     "text": [
      "Epoch [7/10], Training Loss: 0.0220, Validation Loss: 0.0129\n"
     ]
    },
    {
     "name": "stderr",
     "output_type": "stream",
     "text": [
      "Training Epoch 8/10: 100%|██████████| 394/394 [00:16<00:00, 23.35it/s]\n"
     ]
    },
    {
     "name": "stdout",
     "output_type": "stream",
     "text": [
      "Epoch [8/10], Training Loss: 0.0238, Validation Loss: 0.0140\n"
     ]
    },
    {
     "name": "stderr",
     "output_type": "stream",
     "text": [
      "Training Epoch 9/10: 100%|██████████| 394/394 [00:18<00:00, 21.37it/s]\n"
     ]
    },
    {
     "name": "stdout",
     "output_type": "stream",
     "text": [
      "Epoch [9/10], Training Loss: 0.0226, Validation Loss: 0.0036\n"
     ]
    },
    {
     "name": "stderr",
     "output_type": "stream",
     "text": [
      "Training Epoch 10/10: 100%|██████████| 394/394 [00:16<00:00, 24.42it/s]\n"
     ]
    },
    {
     "name": "stdout",
     "output_type": "stream",
     "text": [
      "Epoch [10/10], Training Loss: 0.0197, Validation Loss: 0.0052\n",
      "\n",
      "Accuracy on Validation Set\n",
      "Accuracy: 1.0000\n",
      "\n",
      "Regression CNN for 10 epochs with learning rate = 0.001, Dropout = 0.4, 3 convolutional layers, tanh activation and sgd optimizer\n",
      "./figures/cnn_loss_plots/regression_loss_combination_4_lr_0.001_dropout_0.4_layers_3_activ_tanh_opt_sgd.png\n"
     ]
    },
    {
     "name": "stderr",
     "output_type": "stream",
     "text": [
      "Training Epoch 1/10: 100%|██████████| 394/394 [00:13<00:00, 29.28it/s]\n"
     ]
    },
    {
     "name": "stdout",
     "output_type": "stream",
     "text": [
      "Epoch [1/10], Training Loss: 0.5132, Validation Loss: 0.1557\n"
     ]
    },
    {
     "name": "stderr",
     "output_type": "stream",
     "text": [
      "Training Epoch 2/10: 100%|██████████| 394/394 [00:14<00:00, 26.99it/s]\n"
     ]
    },
    {
     "name": "stdout",
     "output_type": "stream",
     "text": [
      "Epoch [2/10], Training Loss: 0.1655, Validation Loss: 0.0861\n"
     ]
    },
    {
     "name": "stderr",
     "output_type": "stream",
     "text": [
      "Training Epoch 3/10: 100%|██████████| 394/394 [00:13<00:00, 30.24it/s]\n"
     ]
    },
    {
     "name": "stdout",
     "output_type": "stream",
     "text": [
      "Epoch [3/10], Training Loss: 0.1213, Validation Loss: 0.0665\n"
     ]
    },
    {
     "name": "stderr",
     "output_type": "stream",
     "text": [
      "Training Epoch 4/10: 100%|██████████| 394/394 [00:10<00:00, 38.56it/s]\n"
     ]
    },
    {
     "name": "stdout",
     "output_type": "stream",
     "text": [
      "Epoch [4/10], Training Loss: 0.0962, Validation Loss: 0.0676\n"
     ]
    },
    {
     "name": "stderr",
     "output_type": "stream",
     "text": [
      "Training Epoch 5/10: 100%|██████████| 394/394 [00:11<00:00, 33.08it/s]\n"
     ]
    },
    {
     "name": "stdout",
     "output_type": "stream",
     "text": [
      "Epoch [5/10], Training Loss: 0.0786, Validation Loss: 0.0426\n"
     ]
    },
    {
     "name": "stderr",
     "output_type": "stream",
     "text": [
      "Training Epoch 6/10: 100%|██████████| 394/394 [00:11<00:00, 34.01it/s]\n"
     ]
    },
    {
     "name": "stdout",
     "output_type": "stream",
     "text": [
      "Epoch [6/10], Training Loss: 0.0612, Validation Loss: 0.0309\n"
     ]
    },
    {
     "name": "stderr",
     "output_type": "stream",
     "text": [
      "Training Epoch 7/10: 100%|██████████| 394/394 [00:12<00:00, 30.51it/s]\n"
     ]
    },
    {
     "name": "stdout",
     "output_type": "stream",
     "text": [
      "Epoch [7/10], Training Loss: 0.0469, Validation Loss: 0.0230\n"
     ]
    },
    {
     "name": "stderr",
     "output_type": "stream",
     "text": [
      "Training Epoch 8/10: 100%|██████████| 394/394 [00:11<00:00, 33.80it/s]\n"
     ]
    },
    {
     "name": "stdout",
     "output_type": "stream",
     "text": [
      "Epoch [8/10], Training Loss: 0.0369, Validation Loss: 0.0172\n"
     ]
    },
    {
     "name": "stderr",
     "output_type": "stream",
     "text": [
      "Training Epoch 9/10: 100%|██████████| 394/394 [00:13<00:00, 29.70it/s]\n"
     ]
    },
    {
     "name": "stdout",
     "output_type": "stream",
     "text": [
      "Epoch [9/10], Training Loss: 0.0294, Validation Loss: 0.0119\n"
     ]
    },
    {
     "name": "stderr",
     "output_type": "stream",
     "text": [
      "Training Epoch 10/10: 100%|██████████| 394/394 [00:12<00:00, 31.99it/s]\n"
     ]
    },
    {
     "name": "stdout",
     "output_type": "stream",
     "text": [
      "Epoch [10/10], Training Loss: 0.0255, Validation Loss: 0.0097\n",
      "\n",
      "Accuracy on Validation Set\n",
      "Accuracy: 1.0000\n",
      "\n",
      "Regression CNN for 5 epochs with learning rate = 0.0005, Dropout = 0.2, 2 convolutional layers, relu activation and adam optimizer\n",
      "./figures/cnn_loss_plots/regression_loss_combination_5_lr_0.0005_dropout_0.2_layers_2_activ_relu_opt_adam.png\n"
     ]
    },
    {
     "name": "stderr",
     "output_type": "stream",
     "text": [
      "Training Epoch 1/5: 100%|██████████| 394/394 [00:09<00:00, 41.71it/s]\n"
     ]
    },
    {
     "name": "stdout",
     "output_type": "stream",
     "text": [
      "Epoch [1/5], Training Loss: 0.1937, Validation Loss: 0.0223\n"
     ]
    },
    {
     "name": "stderr",
     "output_type": "stream",
     "text": [
      "Training Epoch 2/5: 100%|██████████| 394/394 [00:09<00:00, 42.46it/s]\n"
     ]
    },
    {
     "name": "stdout",
     "output_type": "stream",
     "text": [
      "Epoch [2/5], Training Loss: 0.0397, Validation Loss: 0.0166\n"
     ]
    },
    {
     "name": "stderr",
     "output_type": "stream",
     "text": [
      "Training Epoch 3/5: 100%|██████████| 394/394 [00:10<00:00, 37.57it/s]\n"
     ]
    },
    {
     "name": "stdout",
     "output_type": "stream",
     "text": [
      "Epoch [3/5], Training Loss: 0.0328, Validation Loss: 0.0123\n"
     ]
    },
    {
     "name": "stderr",
     "output_type": "stream",
     "text": [
      "Training Epoch 4/5: 100%|██████████| 394/394 [00:11<00:00, 33.17it/s]\n"
     ]
    },
    {
     "name": "stdout",
     "output_type": "stream",
     "text": [
      "Epoch [4/5], Training Loss: 0.0301, Validation Loss: 0.0148\n"
     ]
    },
    {
     "name": "stderr",
     "output_type": "stream",
     "text": [
      "Training Epoch 5/5: 100%|██████████| 394/394 [00:12<00:00, 32.36it/s]\n"
     ]
    },
    {
     "name": "stdout",
     "output_type": "stream",
     "text": [
      "Epoch [5/5], Training Loss: 0.0284, Validation Loss: 0.0176\n",
      "\n",
      "Accuracy on Validation Set\n",
      "Accuracy: 0.9987\n",
      "\n",
      "Regression CNN for 5 epochs with learning rate = 0.0005, Dropout = 0.4, 2 convolutional layers, tanh activation and sgd optimizer\n",
      "./figures/cnn_loss_plots/regression_loss_combination_6_lr_0.0005_dropout_0.4_layers_2_activ_tanh_opt_sgd.png\n"
     ]
    },
    {
     "name": "stderr",
     "output_type": "stream",
     "text": [
      "Training Epoch 1/5: 100%|██████████| 394/394 [00:10<00:00, 38.01it/s]\n"
     ]
    },
    {
     "name": "stdout",
     "output_type": "stream",
     "text": [
      "Epoch [1/5], Training Loss: 0.6326, Validation Loss: 0.3132\n"
     ]
    },
    {
     "name": "stderr",
     "output_type": "stream",
     "text": [
      "Training Epoch 2/5: 100%|██████████| 394/394 [00:10<00:00, 38.92it/s]\n"
     ]
    },
    {
     "name": "stdout",
     "output_type": "stream",
     "text": [
      "Epoch [2/5], Training Loss: 0.2106, Validation Loss: 0.0888\n"
     ]
    },
    {
     "name": "stderr",
     "output_type": "stream",
     "text": [
      "Training Epoch 3/5: 100%|██████████| 394/394 [00:10<00:00, 36.90it/s]\n"
     ]
    },
    {
     "name": "stdout",
     "output_type": "stream",
     "text": [
      "Epoch [3/5], Training Loss: 0.1494, Validation Loss: 0.0833\n"
     ]
    },
    {
     "name": "stderr",
     "output_type": "stream",
     "text": [
      "Training Epoch 4/5: 100%|██████████| 394/394 [00:09<00:00, 40.78it/s]\n"
     ]
    },
    {
     "name": "stdout",
     "output_type": "stream",
     "text": [
      "Epoch [4/5], Training Loss: 0.1390, Validation Loss: 0.0848\n"
     ]
    },
    {
     "name": "stderr",
     "output_type": "stream",
     "text": [
      "Training Epoch 5/5: 100%|██████████| 394/394 [00:10<00:00, 36.71it/s]\n"
     ]
    },
    {
     "name": "stdout",
     "output_type": "stream",
     "text": [
      "Epoch [5/5], Training Loss: 0.1293, Validation Loss: 0.0747\n",
      "\n",
      "Accuracy on Validation Set\n",
      "Accuracy: 0.9403\n",
      "\n",
      "Regression CNN for 5 epochs with learning rate = 0.0005, Dropout = 0.2, 3 convolutional layers, relu activation and adam optimizer\n",
      "./figures/cnn_loss_plots/regression_loss_combination_7_lr_0.0005_dropout_0.2_layers_3_activ_relu_opt_adam.png\n"
     ]
    },
    {
     "name": "stderr",
     "output_type": "stream",
     "text": [
      "Training Epoch 1/5: 100%|██████████| 394/394 [00:11<00:00, 35.34it/s]\n"
     ]
    },
    {
     "name": "stdout",
     "output_type": "stream",
     "text": [
      "Epoch [1/5], Training Loss: 0.2375, Validation Loss: 0.0181\n"
     ]
    },
    {
     "name": "stderr",
     "output_type": "stream",
     "text": [
      "Training Epoch 2/5: 100%|██████████| 394/394 [00:11<00:00, 34.23it/s]\n"
     ]
    },
    {
     "name": "stdout",
     "output_type": "stream",
     "text": [
      "Epoch [2/5], Training Loss: 0.0359, Validation Loss: 0.0131\n"
     ]
    },
    {
     "name": "stderr",
     "output_type": "stream",
     "text": [
      "Training Epoch 3/5: 100%|██████████| 394/394 [00:11<00:00, 35.15it/s]\n"
     ]
    },
    {
     "name": "stdout",
     "output_type": "stream",
     "text": [
      "Epoch [3/5], Training Loss: 0.0316, Validation Loss: 0.0080\n"
     ]
    },
    {
     "name": "stderr",
     "output_type": "stream",
     "text": [
      "Training Epoch 4/5: 100%|██████████| 394/394 [00:11<00:00, 34.44it/s]\n"
     ]
    },
    {
     "name": "stdout",
     "output_type": "stream",
     "text": [
      "Epoch [4/5], Training Loss: 0.0301, Validation Loss: 0.0081\n"
     ]
    },
    {
     "name": "stderr",
     "output_type": "stream",
     "text": [
      "Training Epoch 5/5: 100%|██████████| 394/394 [00:12<00:00, 30.33it/s]\n"
     ]
    },
    {
     "name": "stdout",
     "output_type": "stream",
     "text": [
      "Epoch [5/5], Training Loss: 0.0275, Validation Loss: 0.0056\n",
      "\n",
      "Accuracy on Validation Set\n",
      "Accuracy: 1.0000\n",
      "\n",
      "Regression CNN for 10 epochs with learning rate = 0.001, Dropout = 0.4, 3 convolutional layers, relu activation and sgd optimizer\n",
      "./figures/cnn_loss_plots/regression_loss_combination_8_lr_0.001_dropout_0.4_layers_3_activ_relu_opt_sgd.png\n"
     ]
    },
    {
     "name": "stderr",
     "output_type": "stream",
     "text": [
      "Training Epoch 1/10: 100%|██████████| 394/394 [00:13<00:00, 29.87it/s]\n"
     ]
    },
    {
     "name": "stdout",
     "output_type": "stream",
     "text": [
      "Epoch [1/10], Training Loss: 0.5897, Validation Loss: 0.1801\n"
     ]
    },
    {
     "name": "stderr",
     "output_type": "stream",
     "text": [
      "Training Epoch 2/10: 100%|██████████| 394/394 [00:11<00:00, 34.42it/s]\n"
     ]
    },
    {
     "name": "stdout",
     "output_type": "stream",
     "text": [
      "Epoch [2/10], Training Loss: 0.2077, Validation Loss: 0.1149\n"
     ]
    },
    {
     "name": "stderr",
     "output_type": "stream",
     "text": [
      "Training Epoch 3/10: 100%|██████████| 394/394 [00:10<00:00, 38.51it/s]\n"
     ]
    },
    {
     "name": "stdout",
     "output_type": "stream",
     "text": [
      "Epoch [3/10], Training Loss: 0.1481, Validation Loss: 0.0878\n"
     ]
    },
    {
     "name": "stderr",
     "output_type": "stream",
     "text": [
      "Training Epoch 4/10: 100%|██████████| 394/394 [00:12<00:00, 30.43it/s]\n"
     ]
    },
    {
     "name": "stdout",
     "output_type": "stream",
     "text": [
      "Epoch [4/10], Training Loss: 0.1212, Validation Loss: 0.0644\n"
     ]
    },
    {
     "name": "stderr",
     "output_type": "stream",
     "text": [
      "Training Epoch 5/10: 100%|██████████| 394/394 [00:11<00:00, 35.50it/s]\n"
     ]
    },
    {
     "name": "stdout",
     "output_type": "stream",
     "text": [
      "Epoch [5/10], Training Loss: 0.0869, Validation Loss: 0.0416\n"
     ]
    },
    {
     "name": "stderr",
     "output_type": "stream",
     "text": [
      "Training Epoch 6/10: 100%|██████████| 394/394 [00:10<00:00, 37.66it/s]\n"
     ]
    },
    {
     "name": "stdout",
     "output_type": "stream",
     "text": [
      "Epoch [6/10], Training Loss: 0.0529, Validation Loss: 0.0209\n"
     ]
    },
    {
     "name": "stderr",
     "output_type": "stream",
     "text": [
      "Training Epoch 7/10: 100%|██████████| 394/394 [00:10<00:00, 38.78it/s]\n"
     ]
    },
    {
     "name": "stdout",
     "output_type": "stream",
     "text": [
      "Epoch [7/10], Training Loss: 0.0400, Validation Loss: 0.0166\n"
     ]
    },
    {
     "name": "stderr",
     "output_type": "stream",
     "text": [
      "Training Epoch 8/10: 100%|██████████| 394/394 [00:13<00:00, 30.10it/s]\n"
     ]
    },
    {
     "name": "stdout",
     "output_type": "stream",
     "text": [
      "Epoch [8/10], Training Loss: 0.0350, Validation Loss: 0.0158\n"
     ]
    },
    {
     "name": "stderr",
     "output_type": "stream",
     "text": [
      "Training Epoch 9/10: 100%|██████████| 394/394 [00:14<00:00, 28.05it/s]\n"
     ]
    },
    {
     "name": "stdout",
     "output_type": "stream",
     "text": [
      "Epoch [9/10], Training Loss: 0.0311, Validation Loss: 0.0169\n"
     ]
    },
    {
     "name": "stderr",
     "output_type": "stream",
     "text": [
      "Training Epoch 10/10: 100%|██████████| 394/394 [00:12<00:00, 30.98it/s]\n"
     ]
    },
    {
     "name": "stdout",
     "output_type": "stream",
     "text": [
      "Epoch [10/10], Training Loss: 0.0287, Validation Loss: 0.0114\n",
      "\n",
      "Accuracy on Validation Set\n",
      "Accuracy: 0.9997\n",
      "Best Classification Model Combination: {'lr': 0.001, 'dropout_rate': 0.2, 'num_conv_layers': 3, 'optimizer_choice': 'adam', 'activation_function': 'relu', 'epochs': 10}\n",
      "Best Regression Model Combination: {'lr': 0.001, 'dropout_rate': 0.2, 'num_conv_layers': 3, 'optimizer_choice': 'adam', 'activation_function': 'relu', 'epochs': 10}\n",
      "Best parameters saved to ./figures/cnn_loss_plots/best_model_params.json\n"
     ]
    }
   ],
   "source": [
    "import os\n",
    "import json\n",
    "import torch.nn as nn\n",
    "import torch\n",
    "\n",
    "hyperparam_combinations = [\n",
    "    {'lr': 0.001, 'dropout_rate': 0.2, 'num_conv_layers': 2, 'optimizer_choice': 'adam', 'activation_function': 'relu', 'epochs': 5},\n",
    "    {'lr': 0.001, 'dropout_rate': 0.4, 'num_conv_layers': 2, 'optimizer_choice': 'adam', 'activation_function': 'tanh', 'epochs': 5},\n",
    "    {'lr': 0.001, 'dropout_rate': 0.2, 'num_conv_layers': 3, 'optimizer_choice': 'adam', 'activation_function': 'relu', 'epochs': 10},\n",
    "    {'lr': 0.001, 'dropout_rate': 0.4, 'num_conv_layers': 3, 'optimizer_choice': 'sgd', 'activation_function': 'tanh', 'epochs': 10},\n",
    "    {'lr': 0.0005, 'dropout_rate': 0.2, 'num_conv_layers': 2, 'optimizer_choice': 'adam', 'activation_function': 'relu', 'epochs': 5},\n",
    "    {'lr': 0.0005, 'dropout_rate': 0.4, 'num_conv_layers': 2, 'optimizer_choice': 'sgd', 'activation_function': 'tanh', 'epochs': 5},\n",
    "    {'lr': 0.0005, 'dropout_rate': 0.2, 'num_conv_layers': 3, 'optimizer_choice': 'adam', 'activation_function': 'relu', 'epochs': 5},\n",
    "    {'lr': 0.001, 'dropout_rate': 0.4, 'num_conv_layers': 3, 'optimizer_choice': 'sgd', 'activation_function': 'relu', 'epochs': 10}\n",
    "]\n",
    "\n",
    "\n",
    "\n",
    "plot_save_dir = \"./figures/cnn_loss_plots\"\n",
    "os.makedirs(plot_save_dir, exist_ok=True)\n",
    "\n",
    "best_classification_model, best_classification_loss, best_classification_combination = None, float('inf'), None\n",
    "best_regression_model, best_regression_loss, best_regression_combination = None, float('inf'), None\n",
    "\n",
    "for task in ['classification', 'regression']:\n",
    "    for idx, params in enumerate(hyperparam_combinations, 1):\n",
    "        print(f\"\\n{task.capitalize()} CNN for {params['epochs']} epochs with learning rate = {params['lr']}, Dropout = {params['dropout_rate']}, {params['num_conv_layers']} convolutional layers, {params['activation_function']} activation and {params['optimizer_choice']} optimizer\")\n",
    "        loss_figure_save_path = os.path.join(\n",
    "            plot_save_dir,\n",
    "            f\"{task}_loss_combination_{idx}_lr_{params['lr']}_dropout_{params['dropout_rate']}_layers_{params['num_conv_layers']}_activ_{params['activation_function']}_opt_{params['optimizer_choice']}.png\"\n",
    "        )\n",
    "        model = CNN(\n",
    "            task=task,\n",
    "            num_classes=4 if task == 'classification' else 1,\n",
    "            num_conv_layers=params['num_conv_layers'],\n",
    "            dropout_rate=params['dropout_rate'],\n",
    "            optimizer_choice=params['optimizer_choice'],\n",
    "            activation_function=params['activation_function'],\n",
    "            device=device,\n",
    "            loss_figure_save_path = loss_figure_save_path\n",
    "        )\n",
    "\n",
    "        model.fit(train_loader, val_loader, epochs=params['epochs'], lr=params['lr'])\n",
    "        \n",
    "        criterion = nn.CrossEntropyLoss() if task == 'classification' else nn.MSELoss()\n",
    "        val_loss = model.evaluate(val_loader, criterion=criterion)\n",
    "        print(\"\\nAccuracy on Validation Set\")\n",
    "        calculate_accuracy_cnn(model, val_loader)\n",
    "        \n",
    "        if task == 'classification':\n",
    "            if val_loss < best_classification_loss:\n",
    "                best_classification_model = model\n",
    "                best_classification_loss = val_loss\n",
    "                best_classification_combination = params\n",
    "        else:  # task == 'regression'\n",
    "            if val_loss < best_regression_loss:\n",
    "                best_regression_model = model\n",
    "                best_regression_loss = val_loss\n",
    "                best_regression_combination = params\n",
    "\n",
    "best_params = {\n",
    "    \"best_classification_combination\": best_classification_combination,\n",
    "    \"best_regression_combination\": best_regression_combination\n",
    "}\n",
    "\n",
    "params_file_path = os.path.join(plot_save_dir, \"best_model_params.json\")\n",
    "with open(params_file_path, 'w') as json_file:\n",
    "    json.dump(best_params, json_file, indent=4)\n",
    "\n",
    "print(\"Best Classification Model Combination:\", best_classification_combination)\n",
    "print(\"Best Regression Model Combination:\", best_regression_combination)\n",
    "print(f\"Best parameters saved to {params_file_path}\")"
   ]
  },
  {
   "cell_type": "code",
   "execution_count": null,
   "metadata": {},
   "outputs": [
    {
     "name": "stdout",
     "output_type": "stream",
     "text": [
      "Loaded Parameters: {'best_classification_combination': {'lr': 0.001, 'dropout_rate': 0.2, 'num_conv_layers': 3, 'optimizer_choice': 'adam', 'activation_function': 'relu', 'epochs': 10}, 'best_regression_combination': {'lr': 0.001, 'dropout_rate': 0.2, 'num_conv_layers': 3, 'optimizer_choice': 'adam', 'activation_function': 'relu', 'epochs': 10}}\n",
      "./figures/cnn_loss_plots/classifiction_best.png\n"
     ]
    },
    {
     "name": "stderr",
     "output_type": "stream",
     "text": [
      "Training Epoch 1/10: 100%|██████████| 394/394 [00:09<00:00, 41.48it/s]\n"
     ]
    },
    {
     "name": "stdout",
     "output_type": "stream",
     "text": [
      "Epoch [1/10], Training Loss: 0.2263, Validation Loss: 0.0037\n"
     ]
    },
    {
     "name": "stderr",
     "output_type": "stream",
     "text": [
      "Training Epoch 2/10: 100%|██████████| 394/394 [00:10<00:00, 38.71it/s]\n"
     ]
    },
    {
     "name": "stdout",
     "output_type": "stream",
     "text": [
      "Epoch [2/10], Training Loss: 0.0038, Validation Loss: 0.0005\n"
     ]
    },
    {
     "name": "stderr",
     "output_type": "stream",
     "text": [
      "Training Epoch 3/10: 100%|██████████| 394/394 [00:10<00:00, 39.14it/s]\n"
     ]
    },
    {
     "name": "stdout",
     "output_type": "stream",
     "text": [
      "Epoch [3/10], Training Loss: 0.0083, Validation Loss: 0.0005\n"
     ]
    },
    {
     "name": "stderr",
     "output_type": "stream",
     "text": [
      "Training Epoch 4/10: 100%|██████████| 394/394 [00:11<00:00, 33.88it/s]\n"
     ]
    },
    {
     "name": "stdout",
     "output_type": "stream",
     "text": [
      "Epoch [4/10], Training Loss: 0.0034, Validation Loss: 0.0002\n"
     ]
    },
    {
     "name": "stderr",
     "output_type": "stream",
     "text": [
      "Training Epoch 5/10: 100%|██████████| 394/394 [00:12<00:00, 31.13it/s]\n"
     ]
    },
    {
     "name": "stdout",
     "output_type": "stream",
     "text": [
      "Epoch [5/10], Training Loss: 0.0233, Validation Loss: 0.0005\n"
     ]
    },
    {
     "name": "stderr",
     "output_type": "stream",
     "text": [
      "Training Epoch 6/10: 100%|██████████| 394/394 [00:12<00:00, 31.71it/s]\n"
     ]
    },
    {
     "name": "stdout",
     "output_type": "stream",
     "text": [
      "Epoch [6/10], Training Loss: 0.0006, Validation Loss: 0.0001\n"
     ]
    },
    {
     "name": "stderr",
     "output_type": "stream",
     "text": [
      "Training Epoch 7/10: 100%|██████████| 394/394 [00:11<00:00, 34.19it/s]\n"
     ]
    },
    {
     "name": "stdout",
     "output_type": "stream",
     "text": [
      "Epoch [7/10], Training Loss: 0.0003, Validation Loss: 0.0001\n"
     ]
    },
    {
     "name": "stderr",
     "output_type": "stream",
     "text": [
      "Training Epoch 8/10: 100%|██████████| 394/394 [00:11<00:00, 33.09it/s]\n"
     ]
    },
    {
     "name": "stdout",
     "output_type": "stream",
     "text": [
      "Epoch [8/10], Training Loss: 0.0001, Validation Loss: 0.0000\n"
     ]
    },
    {
     "name": "stderr",
     "output_type": "stream",
     "text": [
      "Training Epoch 9/10: 100%|██████████| 394/394 [00:10<00:00, 37.64it/s]\n"
     ]
    }
   ],
   "source": [
    "def read_best_params(file_path):\n",
    "    with open(file_path, 'r') as json_file:\n",
    "        params = json.load(json_file)\n",
    "    return params\n",
    "\n",
    "loaded_params = read_best_params(params_file_path)\n",
    "print(\"Loaded Parameters:\", loaded_params)\n",
    "\n",
    "best_classification_model = CNN(\n",
    "    task='classification',\n",
    "    num_conv_layers=best_classification_combination['num_conv_layers'],\n",
    "    dropout_rate=best_classification_combination['dropout_rate'],\n",
    "    optimizer_choice=best_classification_combination['optimizer_choice'],\n",
    "    activation_function=best_classification_combination['activation_function'],\n",
    "    device=device,\n",
    "    loss_figure_save_path='./figures/cnn_loss_plots/classifiction_best.png'\n",
    "    \n",
    ")\n",
    "\n",
    "best_classification_model.fit(train_loader, val_loader, epochs=best_classification_combination['epochs'], lr=best_classification_combination['lr'])\n",
    "\n",
    "best_regression_model = CNN(\n",
    "    task='regression',\n",
    "    num_conv_layers=best_regression_combination['num_conv_layers'],\n",
    "    dropout_rate=best_regression_combination['dropout_rate'],\n",
    "    optimizer_choice=best_regression_combination['optimizer_choice'],\n",
    "    activation_function=best_regression_combination['activation_function'],\n",
    "    device=device,\n",
    "    loss_figure_save_path='./figures/cnn_loss_plots/regression_best.png'\n",
    ")\n",
    "\n",
    "best_regression_model.fit(train_loader, val_loader, epochs=best_regression_combination['epochs'], lr=best_regression_combination['lr'])\n",
    "\n",
    "print(\"Evaluating Best Classification Model:\")\n",
    "classification_val_accuracy = calculate_accuracy_cnn(best_classification_model, val_loader)\n",
    "classification_test_accuracy = calculate_accuracy_cnn(best_classification_model, test_loader)\n",
    "\n",
    "print(\"\\nEvaluating Best Regression Model:\")\n",
    "regression_val_accuracy = calculate_accuracy_cnn(best_regression_model, val_loader)\n",
    "regression_test_accuracy = calculate_accuracy_cnn(best_regression_model, test_loader)\n",
    "\n",
    "print(f\"\\nBest Classification Model Validation Accuracy: {classification_val_accuracy:.4f}\")\n",
    "print(f\"Best Classification Model Test Accuracy: {classification_test_accuracy:.4f}\")\n",
    "print(f\"Best Regression Model Validation Accuracy: {regression_val_accuracy:.4f}\")\n",
    "print(f\"Best Regression Model Test Accuracy: {regression_test_accuracy:.4f}\")\n",
    "\n"
   ]
  },
  {
   "cell_type": "code",
   "execution_count": null,
   "metadata": {},
   "outputs": [
    {
     "data": {
      "image/png": "[encoded data removed]",
      "text/plain": [
       "<Figure size 1500x800 with 20 Axes>"
      ]
     },
     "metadata": {},
     "output_type": "display_data"
    },
    {
     "data": {
      "image/png": "[encoded data removed]",
      "text/plain": [
       "<Figure size 1500x800 with 20 Axes>"
      ]
     },
     "metadata": {},
     "output_type": "display_data"
    },
    {
     "data": {
      "image/png": "[encoded data removed]",
      "text/plain": [
       "<Figure size 1500x800 with 20 Axes>"
      ]
     },
     "metadata": {},
     "output_type": "display_data"
    },
    {
     "data": {
      "image/png": "[encoded data removed]",
      "text/plain": [
       "<Figure size 1500x800 with 20 Axes>"
      ]
     },
     "metadata": {},
     "output_type": "display_data"
    }
   ],
   "source": [
    "import matplotlib.pyplot as plt\n",
    "import torch\n",
    "\n",
    "def visualize_feature_maps(model, data_loader, num_feature_maps=4):\n",
    "    model.eval()\n",
    "    label_images = {0: None, 1: None, 2: None, 3: None}\n",
    "    for images, labels in data_loader:\n",
    "        for img, label in zip(images, labels):\n",
    "            label = label.item() \n",
    "            if label in label_images and label_images[label] is None:\n",
    "                label_images[label] = img\n",
    "            if all(label_images[l] is not None for l in label_images):\n",
    "                break\n",
    "        if all(label_images[l] is not None for l in label_images):\n",
    "            break\n",
    "\n",
    "    selected_images = [label_images[label] for label in range(4) if label_images[label] is not None]\n",
    "    selected_images = torch.stack(selected_images)\n",
    "\n",
    "    with torch.no_grad():\n",
    "        feature_maps = model(selected_images.to(next(model.parameters()).device), return_feature_maps=True)[1]\n",
    "\n",
    "    for i in range(len(selected_images)):\n",
    "        fig, axes = plt.subplots(len(feature_maps) + 1, num_feature_maps + 1, figsize=(15, (len(feature_maps) + 1) * 2))\n",
    "        axes[0, 0].imshow(selected_images[i].cpu().numpy().squeeze(), cmap='gray')\n",
    "        axes[0, 0].set_title(f'Original Image - Label {i}')\n",
    "        axes[0, 0].axis('off')\n",
    "        for col in range(1, num_feature_maps + 1):\n",
    "            axes[0, col].axis('off')\n",
    "        for j in range(len(feature_maps)):\n",
    "            axes[j + 1, 0].set_title(f'Layer {j + 1}', fontsize=12, fontweight='bold')\n",
    "            axes[j + 1, 0].axis('off')  \n",
    "\n",
    "            for k in range(min(num_feature_maps, feature_maps[j].shape[1])):  \n",
    "                axes[j + 1, k + 1].imshow(feature_maps[j][i, k].cpu().numpy(), cmap='gray')\n",
    "                axes[j + 1, k + 1].axis('off')\n",
    "\n",
    "        plt.tight_layout()\n",
    "        plt.show()\n",
    "\n",
    "visualize_feature_maps(model, train_loader)\n"
   ]
  },
  {
   "cell_type": "code",
   "execution_count": 4,
   "metadata": {},
   "outputs": [],
   "source": [
    "def one_hot_encode_digit(digit):\n",
    "    \"\"\"Creates an 11-dimensional one-hot vector for a single digit or blank.\"\"\"\n",
    "    one_hot = np.zeros(11)\n",
    "    if digit == '*':\n",
    "        one_hot[10] = 1 \n",
    "    else:\n",
    "        one_hot[int(digit)] = 1\n",
    "    return one_hot\n",
    "\n",
    "def one_hot_encode_label(label):\n",
    "    \"\"\"Encodes the label (up to three digits) as a 33-dimensional vector.\"\"\"\n",
    "    label_str = str(label).ljust(3, '*')\n",
    "    one_hot_encoded = np.concatenate([one_hot_encode_digit(digit) for digit in label_str])\n",
    "    return one_hot_encoded"
   ]
  },
  {
   "cell_type": "code",
   "execution_count": 5,
   "metadata": {},
   "outputs": [],
   "source": [
    "images, labels = load_mnist_data(use_label_count=False)\n",
    "\n",
    "train_dataset = MultiMNISTDataset(images['train'], labels['train'], transform=transform)\n",
    "val_dataset = MultiMNISTDataset(images['val'], labels['val'], transform=transform)\n",
    "test_dataset = MultiMNISTDataset(images['test'], labels['test'], transform=transform)\n",
    "\n",
    "train_loader = DataLoader(train_dataset, batch_size=32, shuffle=True)\n",
    "val_loader = DataLoader(val_dataset, batch_size=32, shuffle=False)\n",
    "test_loader = DataLoader(test_dataset, batch_size=32, shuffle=False)"
   ]
  },
  {
   "cell_type": "code",
   "execution_count": null,
   "metadata": {},
   "outputs": [
    {
     "name": "stderr",
     "output_type": "stream",
     "text": [
      "Training Epoch 1/60: 100%|██████████| 394/394 [00:12<00:00, 30.67it/s]\n"
     ]
    },
    {
     "name": "stdout",
     "output_type": "stream",
     "text": [
      "Epoch [1/60], Training Loss: 4.9047, Training Accuracy: 6.61%\n",
      "Epoch [1/60], Validation Loss: 5.0548, Validation Accuracy: 4.70%\n"
     ]
    },
    {
     "name": "stderr",
     "output_type": "stream",
     "text": [
      "Training Epoch 2/60: 100%|██████████| 394/394 [00:10<00:00, 37.41it/s]\n"
     ]
    },
    {
     "name": "stdout",
     "output_type": "stream",
     "text": [
      "Epoch [2/60], Training Loss: 4.3434, Training Accuracy: 9.97%\n",
      "Epoch [2/60], Validation Loss: 5.3700, Validation Accuracy: 4.30%\n"
     ]
    },
    {
     "name": "stderr",
     "output_type": "stream",
     "text": [
      "Training Epoch 3/60: 100%|██████████| 394/394 [00:13<00:00, 30.30it/s]\n"
     ]
    },
    {
     "name": "stdout",
     "output_type": "stream",
     "text": [
      "Epoch [3/60], Training Loss: 4.1915, Training Accuracy: 11.50%\n",
      "Epoch [3/60], Validation Loss: 5.1928, Validation Accuracy: 5.10%\n"
     ]
    },
    {
     "name": "stderr",
     "output_type": "stream",
     "text": [
      "Training Epoch 4/60:  52%|█████▏    | 205/394 [00:08<00:08, 23.22it/s]\n"
     ]
    },
    {
     "ename": "KeyboardInterrupt",
     "evalue": "",
     "output_type": "error",
     "traceback": [
      "\u001b[0;31m---------------------------------------------------------------------------\u001b[0m",
      "\u001b[0;31mKeyboardInterrupt\u001b[0m                         Traceback (most recent call last)",
      "Cell \u001b[0;32mIn[6], line 3\u001b[0m\n\u001b[1;32m      1\u001b[0m model \u001b[38;5;241m=\u001b[39m MultiLabelCNN(num_conv_layers\u001b[38;5;241m=\u001b[39m\u001b[38;5;241m2\u001b[39m,dropout_rate\u001b[38;5;241m=\u001b[39m\u001b[38;5;241m0.25\u001b[39m)\u001b[38;5;241m.\u001b[39mto(device)\n\u001b[0;32m----> 3\u001b[0m \u001b[43mmodel\u001b[49m\u001b[38;5;241;43m.\u001b[39;49m\u001b[43mfit\u001b[49m\u001b[43m(\u001b[49m\u001b[43mtrain_loader\u001b[49m\u001b[43m,\u001b[49m\u001b[43m \u001b[49m\u001b[43mval_loader\u001b[49m\u001b[43m,\u001b[49m\u001b[43m \u001b[49m\u001b[43mepochs\u001b[49m\u001b[38;5;241;43m=\u001b[39;49m\u001b[38;5;241;43m60\u001b[39;49m\u001b[43m,\u001b[49m\u001b[43m \u001b[49m\u001b[43mlr\u001b[49m\u001b[38;5;241;43m=\u001b[39;49m\u001b[38;5;241;43m0.001\u001b[39;49m\u001b[43m)\u001b[49m\n",
      "File \u001b[0;32m~/semester5/smai/assignments/smai-m24-assignments-StarryBadger/models/cnn/multilabel_cnn.py:74\u001b[0m, in \u001b[0;36mMultiLabelCNN.fit\u001b[0;34m(self, train_loader, val_loader, epochs, lr)\u001b[0m\n\u001b[1;32m     71\u001b[0m labels \u001b[38;5;241m=\u001b[39m labels\u001b[38;5;241m.\u001b[39mfloat()\n\u001b[1;32m     72\u001b[0m loss \u001b[38;5;241m=\u001b[39m \u001b[38;5;28msum\u001b[39m(criterion(outputs[:, i:i\u001b[38;5;241m+\u001b[39m\u001b[38;5;241m11\u001b[39m], labels[:, i:i\u001b[38;5;241m+\u001b[39m\u001b[38;5;241m11\u001b[39m]) \u001b[38;5;28;01mfor\u001b[39;00m i \u001b[38;5;129;01min\u001b[39;00m \u001b[38;5;28mrange\u001b[39m(\u001b[38;5;241m0\u001b[39m, \u001b[38;5;241m33\u001b[39m, \u001b[38;5;241m11\u001b[39m))\n\u001b[0;32m---> 74\u001b[0m \u001b[43mloss\u001b[49m\u001b[38;5;241;43m.\u001b[39;49m\u001b[43mbackward\u001b[49m\u001b[43m(\u001b[49m\u001b[43m)\u001b[49m\n\u001b[1;32m     75\u001b[0m optimizer\u001b[38;5;241m.\u001b[39mstep()\n\u001b[1;32m     76\u001b[0m train_loss \u001b[38;5;241m+\u001b[39m\u001b[38;5;241m=\u001b[39m loss\u001b[38;5;241m.\u001b[39mitem()\n",
      "File \u001b[0;32m~/semester5/smai/assignments/smai-m24-assignments-StarryBadger/venv/lib/python3.12/site-packages/torch/_tensor.py:581\u001b[0m, in \u001b[0;36mTensor.backward\u001b[0;34m(self, gradient, retain_graph, create_graph, inputs)\u001b[0m\n\u001b[1;32m    571\u001b[0m \u001b[38;5;28;01mif\u001b[39;00m has_torch_function_unary(\u001b[38;5;28mself\u001b[39m):\n\u001b[1;32m    572\u001b[0m     \u001b[38;5;28;01mreturn\u001b[39;00m handle_torch_function(\n\u001b[1;32m    573\u001b[0m         Tensor\u001b[38;5;241m.\u001b[39mbackward,\n\u001b[1;32m    574\u001b[0m         (\u001b[38;5;28mself\u001b[39m,),\n\u001b[0;32m   (...)\u001b[0m\n\u001b[1;32m    579\u001b[0m         inputs\u001b[38;5;241m=\u001b[39minputs,\n\u001b[1;32m    580\u001b[0m     )\n\u001b[0;32m--> 581\u001b[0m \u001b[43mtorch\u001b[49m\u001b[38;5;241;43m.\u001b[39;49m\u001b[43mautograd\u001b[49m\u001b[38;5;241;43m.\u001b[39;49m\u001b[43mbackward\u001b[49m\u001b[43m(\u001b[49m\n\u001b[1;32m    582\u001b[0m \u001b[43m    \u001b[49m\u001b[38;5;28;43mself\u001b[39;49m\u001b[43m,\u001b[49m\u001b[43m \u001b[49m\u001b[43mgradient\u001b[49m\u001b[43m,\u001b[49m\u001b[43m \u001b[49m\u001b[43mretain_graph\u001b[49m\u001b[43m,\u001b[49m\u001b[43m \u001b[49m\u001b[43mcreate_graph\u001b[49m\u001b[43m,\u001b[49m\u001b[43m \u001b[49m\u001b[43minputs\u001b[49m\u001b[38;5;241;43m=\u001b[39;49m\u001b[43minputs\u001b[49m\n\u001b[1;32m    583\u001b[0m \u001b[43m\u001b[49m\u001b[43m)\u001b[49m\n",
      "File \u001b[0;32m~/semester5/smai/assignments/smai-m24-assignments-StarryBadger/venv/lib/python3.12/site-packages/torch/autograd/__init__.py:347\u001b[0m, in \u001b[0;36mbackward\u001b[0;34m(tensors, grad_tensors, retain_graph, create_graph, grad_variables, inputs)\u001b[0m\n\u001b[1;32m    342\u001b[0m     retain_graph \u001b[38;5;241m=\u001b[39m create_graph\n\u001b[1;32m    344\u001b[0m \u001b[38;5;66;03m# The reason we repeat the same comment below is that\u001b[39;00m\n\u001b[1;32m    345\u001b[0m \u001b[38;5;66;03m# some Python versions print out the first line of a multi-line function\u001b[39;00m\n\u001b[1;32m    346\u001b[0m \u001b[38;5;66;03m# calls in the traceback and some print out the last line\u001b[39;00m\n\u001b[0;32m--> 347\u001b[0m \u001b[43m_engine_run_backward\u001b[49m\u001b[43m(\u001b[49m\n\u001b[1;32m    348\u001b[0m \u001b[43m    \u001b[49m\u001b[43mtensors\u001b[49m\u001b[43m,\u001b[49m\n\u001b[1;32m    349\u001b[0m \u001b[43m    \u001b[49m\u001b[43mgrad_tensors_\u001b[49m\u001b[43m,\u001b[49m\n\u001b[1;32m    350\u001b[0m \u001b[43m    \u001b[49m\u001b[43mretain_graph\u001b[49m\u001b[43m,\u001b[49m\n\u001b[1;32m    351\u001b[0m \u001b[43m    \u001b[49m\u001b[43mcreate_graph\u001b[49m\u001b[43m,\u001b[49m\n\u001b[1;32m    352\u001b[0m \u001b[43m    \u001b[49m\u001b[43minputs\u001b[49m\u001b[43m,\u001b[49m\n\u001b[1;32m    353\u001b[0m \u001b[43m    \u001b[49m\u001b[43mallow_unreachable\u001b[49m\u001b[38;5;241;43m=\u001b[39;49m\u001b[38;5;28;43;01mTrue\u001b[39;49;00m\u001b[43m,\u001b[49m\n\u001b[1;32m    354\u001b[0m \u001b[43m    \u001b[49m\u001b[43maccumulate_grad\u001b[49m\u001b[38;5;241;43m=\u001b[39;49m\u001b[38;5;28;43;01mTrue\u001b[39;49;00m\u001b[43m,\u001b[49m\n\u001b[1;32m    355\u001b[0m \u001b[43m\u001b[49m\u001b[43m)\u001b[49m\n",
      "File \u001b[0;32m~/semester5/smai/assignments/smai-m24-assignments-StarryBadger/venv/lib/python3.12/site-packages/torch/autograd/graph.py:825\u001b[0m, in \u001b[0;36m_engine_run_backward\u001b[0;34m(t_outputs, *args, **kwargs)\u001b[0m\n\u001b[1;32m    823\u001b[0m     unregister_hooks \u001b[38;5;241m=\u001b[39m _register_logging_hooks_on_whole_graph(t_outputs)\n\u001b[1;32m    824\u001b[0m \u001b[38;5;28;01mtry\u001b[39;00m:\n\u001b[0;32m--> 825\u001b[0m     \u001b[38;5;28;01mreturn\u001b[39;00m \u001b[43mVariable\u001b[49m\u001b[38;5;241;43m.\u001b[39;49m\u001b[43m_execution_engine\u001b[49m\u001b[38;5;241;43m.\u001b[39;49m\u001b[43mrun_backward\u001b[49m\u001b[43m(\u001b[49m\u001b[43m  \u001b[49m\u001b[38;5;66;43;03m# Calls into the C++ engine to run the backward pass\u001b[39;49;00m\n\u001b[1;32m    826\u001b[0m \u001b[43m        \u001b[49m\u001b[43mt_outputs\u001b[49m\u001b[43m,\u001b[49m\u001b[43m \u001b[49m\u001b[38;5;241;43m*\u001b[39;49m\u001b[43margs\u001b[49m\u001b[43m,\u001b[49m\u001b[43m \u001b[49m\u001b[38;5;241;43m*\u001b[39;49m\u001b[38;5;241;43m*\u001b[39;49m\u001b[43mkwargs\u001b[49m\n\u001b[1;32m    827\u001b[0m \u001b[43m    \u001b[49m\u001b[43m)\u001b[49m  \u001b[38;5;66;03m# Calls into the C++ engine to run the backward pass\u001b[39;00m\n\u001b[1;32m    828\u001b[0m \u001b[38;5;28;01mfinally\u001b[39;00m:\n\u001b[1;32m    829\u001b[0m     \u001b[38;5;28;01mif\u001b[39;00m attach_logging_hooks:\n",
      "\u001b[0;31mKeyboardInterrupt\u001b[0m: "
     ]
    }
   ],
   "source": [
    "model = MultiLabelCNN(num_conv_layers=3,dropout_rate=0.25).to(device)\n",
    "\n",
    "model.fit(train_loader, val_loader, epochs=2, lr=0.001)"
   ]
  },
  {
   "cell_type": "code",
   "execution_count": 20,
   "metadata": {},
   "outputs": [
    {
     "name": "stdout",
     "output_type": "stream",
     "text": [
      "Exact Match Accuracy: 20.87%\n",
      "Hamming Accuracy: 94.51%\n"
     ]
    }
   ],
   "source": [
    "def evaluate_model(model, test_loader):\n",
    "    model.eval()\n",
    "    exact_match_correct = 0\n",
    "    total = 0\n",
    "    total_hamming_accuracy = 0\n",
    "    \n",
    "    with torch.no_grad():\n",
    "        for inputs, labels in test_loader:\n",
    "            inputs, labels = inputs.to(model.device), labels.to(model.device).float()\n",
    "            outputs = model(inputs)\n",
    "            \n",
    "            preds = model._set_segment_max_to_one(outputs)\n",
    "            exact_match_correct += model.exact_match_accuracy(preds, labels)\n",
    "            \n",
    "            hamming_accuracy = (preds == labels).float().mean()\n",
    "            total_hamming_accuracy += hamming_accuracy.item()\n",
    "            total += labels.size(0)\n",
    "\n",
    "    exact_match_acc = (exact_match_correct / total) * 100\n",
    "    avg_hamming_accuracy = (total_hamming_accuracy / len(test_loader)) * 100\n",
    "\n",
    "    print(f\"Exact Match Accuracy: {exact_match_acc:.2f}%\")\n",
    "    print(f\"Hamming Accuracy: {avg_hamming_accuracy:.2f}%\")\n",
    "\n",
    "evaluate_model(model, test_loader)\n"
   ]
  },
  {
   "cell_type": "markdown",
   "metadata": {},
   "source": []
  },
  {
   "cell_type": "code",
   "execution_count": 21,
   "metadata": {},
   "outputs": [
    {
     "name": "stdout",
     "output_type": "stream",
     "text": [
      "Starting Hyperparameter Tuning:\n",
      "\n",
      "Multilabel CNN for 15 epochs with learning rate = 0.001, Dropout = 0.2, 3 convolutional layers, relu activation and adam optimizer\n"
     ]
    },
    {
     "name": "stderr",
     "output_type": "stream",
     "text": [
      "Training Epoch 1/15: 100%|██████████| 394/394 [00:13<00:00, 30.02it/s]\n"
     ]
    },
    {
     "name": "stdout",
     "output_type": "stream",
     "text": [
      "Epoch [1/15], Training Loss: 4.8715, Training Accuracy: 7.31%\n",
      "Epoch [1/15], Validation Loss: 4.9581, Validation Accuracy: 5.30%\n"
     ]
    },
    {
     "name": "stderr",
     "output_type": "stream",
     "text": [
      "Training Epoch 2/15: 100%|██████████| 394/394 [00:14<00:00, 26.73it/s]\n"
     ]
    },
    {
     "name": "stdout",
     "output_type": "stream",
     "text": [
      "Epoch [2/15], Training Loss: 4.0157, Training Accuracy: 12.29%\n",
      "Epoch [2/15], Validation Loss: 4.6602, Validation Accuracy: 4.40%\n"
     ]
    },
    {
     "name": "stderr",
     "output_type": "stream",
     "text": [
      "Training Epoch 3/15: 100%|██████████| 394/394 [00:16<00:00, 23.80it/s]\n"
     ]
    },
    {
     "name": "stdout",
     "output_type": "stream",
     "text": [
      "Epoch [3/15], Training Loss: 3.5196, Training Accuracy: 16.42%\n",
      "Epoch [3/15], Validation Loss: 4.7965, Validation Accuracy: 3.93%\n"
     ]
    },
    {
     "name": "stderr",
     "output_type": "stream",
     "text": [
      "Training Epoch 4/15: 100%|██████████| 394/394 [00:15<00:00, 25.77it/s]\n"
     ]
    },
    {
     "name": "stdout",
     "output_type": "stream",
     "text": [
      "Epoch [4/15], Training Loss: 3.2404, Training Accuracy: 19.11%\n",
      "Epoch [4/15], Validation Loss: 4.6163, Validation Accuracy: 4.77%\n"
     ]
    },
    {
     "name": "stderr",
     "output_type": "stream",
     "text": [
      "Training Epoch 5/15: 100%|██████████| 394/394 [00:16<00:00, 24.14it/s]\n"
     ]
    },
    {
     "name": "stdout",
     "output_type": "stream",
     "text": [
      "Epoch [5/15], Training Loss: 3.0088, Training Accuracy: 23.12%\n",
      "Epoch [5/15], Validation Loss: 4.1579, Validation Accuracy: 7.77%\n"
     ]
    },
    {
     "name": "stderr",
     "output_type": "stream",
     "text": [
      "Training Epoch 6/15: 100%|██████████| 394/394 [00:15<00:00, 25.69it/s]\n"
     ]
    },
    {
     "name": "stdout",
     "output_type": "stream",
     "text": [
      "Epoch [6/15], Training Loss: 2.6986, Training Accuracy: 29.63%\n",
      "Epoch [6/15], Validation Loss: 3.8544, Validation Accuracy: 11.07%\n"
     ]
    },
    {
     "name": "stderr",
     "output_type": "stream",
     "text": [
      "Training Epoch 7/15: 100%|██████████| 394/394 [00:16<00:00, 23.97it/s]\n"
     ]
    },
    {
     "name": "stdout",
     "output_type": "stream",
     "text": [
      "Epoch [7/15], Training Loss: 2.3369, Training Accuracy: 36.71%\n",
      "Epoch [7/15], Validation Loss: 3.7199, Validation Accuracy: 16.27%\n"
     ]
    },
    {
     "name": "stderr",
     "output_type": "stream",
     "text": [
      "Training Epoch 8/15: 100%|██████████| 394/394 [00:16<00:00, 23.84it/s]\n"
     ]
    },
    {
     "name": "stdout",
     "output_type": "stream",
     "text": [
      "Epoch [8/15], Training Loss: 2.0621, Training Accuracy: 43.14%\n",
      "Epoch [8/15], Validation Loss: 3.4571, Validation Accuracy: 18.83%\n"
     ]
    },
    {
     "name": "stderr",
     "output_type": "stream",
     "text": [
      "Training Epoch 9/15: 100%|██████████| 394/394 [00:16<00:00, 23.70it/s]\n"
     ]
    },
    {
     "name": "stdout",
     "output_type": "stream",
     "text": [
      "Epoch [9/15], Training Loss: 1.8244, Training Accuracy: 48.87%\n",
      "Epoch [9/15], Validation Loss: 3.5780, Validation Accuracy: 23.27%\n"
     ]
    },
    {
     "name": "stderr",
     "output_type": "stream",
     "text": [
      "Training Epoch 10/15: 100%|██████████| 394/394 [00:16<00:00, 23.38it/s]\n"
     ]
    },
    {
     "name": "stdout",
     "output_type": "stream",
     "text": [
      "Epoch [10/15], Training Loss: 1.6398, Training Accuracy: 52.97%\n",
      "Epoch [10/15], Validation Loss: 2.9612, Validation Accuracy: 26.83%\n"
     ]
    },
    {
     "name": "stderr",
     "output_type": "stream",
     "text": [
      "Training Epoch 11/15: 100%|██████████| 394/394 [00:16<00:00, 23.40it/s]\n"
     ]
    },
    {
     "name": "stdout",
     "output_type": "stream",
     "text": [
      "Epoch [11/15], Training Loss: 1.4563, Training Accuracy: 57.52%\n",
      "Epoch [11/15], Validation Loss: 2.8617, Validation Accuracy: 31.70%\n"
     ]
    },
    {
     "name": "stderr",
     "output_type": "stream",
     "text": [
      "Training Epoch 12/15: 100%|██████████| 394/394 [00:17<00:00, 22.83it/s]\n"
     ]
    },
    {
     "name": "stdout",
     "output_type": "stream",
     "text": [
      "Epoch [12/15], Training Loss: 1.3287, Training Accuracy: 60.85%\n",
      "Epoch [12/15], Validation Loss: 2.9360, Validation Accuracy: 33.13%\n"
     ]
    },
    {
     "name": "stderr",
     "output_type": "stream",
     "text": [
      "Training Epoch 13/15: 100%|██████████| 394/394 [00:15<00:00, 25.76it/s]\n"
     ]
    },
    {
     "name": "stdout",
     "output_type": "stream",
     "text": [
      "Epoch [13/15], Training Loss: 1.2239, Training Accuracy: 63.44%\n",
      "Epoch [13/15], Validation Loss: 2.9124, Validation Accuracy: 36.03%\n"
     ]
    },
    {
     "name": "stderr",
     "output_type": "stream",
     "text": [
      "Training Epoch 14/15: 100%|██████████| 394/394 [00:16<00:00, 23.73it/s]\n"
     ]
    },
    {
     "name": "stdout",
     "output_type": "stream",
     "text": [
      "Epoch [14/15], Training Loss: 1.1232, Training Accuracy: 66.41%\n",
      "Epoch [14/15], Validation Loss: 2.8915, Validation Accuracy: 35.33%\n"
     ]
    },
    {
     "name": "stderr",
     "output_type": "stream",
     "text": [
      "Training Epoch 15/15: 100%|██████████| 394/394 [00:16<00:00, 24.27it/s]\n"
     ]
    },
    {
     "name": "stdout",
     "output_type": "stream",
     "text": [
      "Epoch [15/15], Training Loss: 1.0555, Training Accuracy: 69.10%\n",
      "Epoch [15/15], Validation Loss: 2.9758, Validation Accuracy: 35.40%\n",
      "Evaluation on Validation Set\n",
      "Exact Match Accuracy: 35.40%\n",
      "Hamming Accuracy: 95.65%\n",
      "Evaluation on Test Set\n",
      "Exact Match Accuracy: 28.89%\n",
      "Hamming Accuracy: 95.25%\n",
      "\n",
      "Multilabel CNN for 30 epochs with learning rate = 0.001, Dropout = 0.2, 3 convolutional layers, relu activation and adam optimizer\n"
     ]
    },
    {
     "name": "stderr",
     "output_type": "stream",
     "text": [
      "Training Epoch 1/30: 100%|██████████| 394/394 [00:15<00:00, 25.57it/s]\n"
     ]
    },
    {
     "name": "stdout",
     "output_type": "stream",
     "text": [
      "Epoch [1/30], Training Loss: 4.9308, Training Accuracy: 6.46%\n",
      "Epoch [1/30], Validation Loss: 5.2844, Validation Accuracy: 5.13%\n"
     ]
    },
    {
     "name": "stderr",
     "output_type": "stream",
     "text": [
      "Training Epoch 2/30: 100%|██████████| 394/394 [00:15<00:00, 25.90it/s]\n"
     ]
    },
    {
     "name": "stdout",
     "output_type": "stream",
     "text": [
      "Epoch [2/30], Training Loss: 4.1511, Training Accuracy: 11.24%\n",
      "Epoch [2/30], Validation Loss: 4.7547, Validation Accuracy: 4.50%\n"
     ]
    },
    {
     "name": "stderr",
     "output_type": "stream",
     "text": [
      "Training Epoch 3/30: 100%|██████████| 394/394 [00:18<00:00, 21.73it/s]\n"
     ]
    },
    {
     "name": "stdout",
     "output_type": "stream",
     "text": [
      "Epoch [3/30], Training Loss: 3.6971, Training Accuracy: 14.96%\n",
      "Epoch [3/30], Validation Loss: 4.5733, Validation Accuracy: 5.70%\n"
     ]
    },
    {
     "name": "stderr",
     "output_type": "stream",
     "text": [
      "Training Epoch 4/30: 100%|██████████| 394/394 [00:15<00:00, 24.72it/s]\n"
     ]
    },
    {
     "name": "stdout",
     "output_type": "stream",
     "text": [
      "Epoch [4/30], Training Loss: 3.4048, Training Accuracy: 17.10%\n",
      "Epoch [4/30], Validation Loss: 4.4989, Validation Accuracy: 4.83%\n"
     ]
    },
    {
     "name": "stderr",
     "output_type": "stream",
     "text": [
      "Training Epoch 5/30: 100%|██████████| 394/394 [00:15<00:00, 24.77it/s]\n"
     ]
    },
    {
     "name": "stdout",
     "output_type": "stream",
     "text": [
      "Epoch [5/30], Training Loss: 3.2203, Training Accuracy: 19.75%\n",
      "Epoch [5/30], Validation Loss: 4.4521, Validation Accuracy: 4.33%\n"
     ]
    },
    {
     "name": "stderr",
     "output_type": "stream",
     "text": [
      "Training Epoch 6/30: 100%|██████████| 394/394 [00:17<00:00, 22.15it/s]\n"
     ]
    },
    {
     "name": "stdout",
     "output_type": "stream",
     "text": [
      "Epoch [6/30], Training Loss: 3.0510, Training Accuracy: 22.30%\n",
      "Epoch [6/30], Validation Loss: 4.4781, Validation Accuracy: 6.47%\n"
     ]
    },
    {
     "name": "stderr",
     "output_type": "stream",
     "text": [
      "Training Epoch 7/30: 100%|██████████| 394/394 [00:15<00:00, 25.35it/s]\n"
     ]
    },
    {
     "name": "stdout",
     "output_type": "stream",
     "text": [
      "Epoch [7/30], Training Loss: 2.8988, Training Accuracy: 24.98%\n",
      "Epoch [7/30], Validation Loss: 4.4486, Validation Accuracy: 6.93%\n"
     ]
    },
    {
     "name": "stderr",
     "output_type": "stream",
     "text": [
      "Training Epoch 8/30: 100%|██████████| 394/394 [00:16<00:00, 23.92it/s]\n"
     ]
    },
    {
     "name": "stdout",
     "output_type": "stream",
     "text": [
      "Epoch [8/30], Training Loss: 2.6916, Training Accuracy: 28.92%\n",
      "Epoch [8/30], Validation Loss: 4.0273, Validation Accuracy: 10.63%\n"
     ]
    },
    {
     "name": "stderr",
     "output_type": "stream",
     "text": [
      "Training Epoch 9/30: 100%|██████████| 394/394 [00:17<00:00, 23.12it/s]\n"
     ]
    },
    {
     "name": "stdout",
     "output_type": "stream",
     "text": [
      "Epoch [9/30], Training Loss: 2.4977, Training Accuracy: 34.36%\n",
      "Epoch [9/30], Validation Loss: 4.4296, Validation Accuracy: 12.33%\n"
     ]
    },
    {
     "name": "stderr",
     "output_type": "stream",
     "text": [
      "Training Epoch 10/30: 100%|██████████| 394/394 [00:17<00:00, 21.92it/s]\n"
     ]
    },
    {
     "name": "stdout",
     "output_type": "stream",
     "text": [
      "Epoch [10/30], Training Loss: 2.2506, Training Accuracy: 39.06%\n",
      "Epoch [10/30], Validation Loss: 3.5817, Validation Accuracy: 16.83%\n"
     ]
    },
    {
     "name": "stderr",
     "output_type": "stream",
     "text": [
      "Training Epoch 11/30: 100%|██████████| 394/394 [00:16<00:00, 23.51it/s]\n"
     ]
    },
    {
     "name": "stdout",
     "output_type": "stream",
     "text": [
      "Epoch [11/30], Training Loss: 2.0292, Training Accuracy: 44.38%\n",
      "Epoch [11/30], Validation Loss: 3.7054, Validation Accuracy: 18.90%\n"
     ]
    },
    {
     "name": "stderr",
     "output_type": "stream",
     "text": [
      "Training Epoch 12/30: 100%|██████████| 394/394 [00:17<00:00, 22.39it/s]\n"
     ]
    },
    {
     "name": "stdout",
     "output_type": "stream",
     "text": [
      "Epoch [12/30], Training Loss: 1.8460, Training Accuracy: 48.61%\n",
      "Epoch [12/30], Validation Loss: 3.2214, Validation Accuracy: 25.10%\n"
     ]
    },
    {
     "name": "stderr",
     "output_type": "stream",
     "text": [
      "Training Epoch 13/30: 100%|██████████| 394/394 [00:17<00:00, 22.02it/s]\n"
     ]
    },
    {
     "name": "stdout",
     "output_type": "stream",
     "text": [
      "Epoch [13/30], Training Loss: 1.6637, Training Accuracy: 52.45%\n",
      "Epoch [13/30], Validation Loss: 3.4210, Validation Accuracy: 23.03%\n"
     ]
    },
    {
     "name": "stderr",
     "output_type": "stream",
     "text": [
      "Training Epoch 14/30: 100%|██████████| 394/394 [00:17<00:00, 22.50it/s]\n"
     ]
    },
    {
     "name": "stdout",
     "output_type": "stream",
     "text": [
      "Epoch [14/30], Training Loss: 1.5002, Training Accuracy: 57.26%\n",
      "Epoch [14/30], Validation Loss: 3.0146, Validation Accuracy: 29.00%\n"
     ]
    },
    {
     "name": "stderr",
     "output_type": "stream",
     "text": [
      "Training Epoch 15/30: 100%|██████████| 394/394 [00:17<00:00, 22.12it/s]\n"
     ]
    },
    {
     "name": "stdout",
     "output_type": "stream",
     "text": [
      "Epoch [15/30], Training Loss: 1.3447, Training Accuracy: 61.17%\n",
      "Epoch [15/30], Validation Loss: 3.2112, Validation Accuracy: 29.30%\n"
     ]
    },
    {
     "name": "stderr",
     "output_type": "stream",
     "text": [
      "Training Epoch 16/30: 100%|██████████| 394/394 [00:16<00:00, 24.11it/s]\n"
     ]
    },
    {
     "name": "stdout",
     "output_type": "stream",
     "text": [
      "Epoch [16/30], Training Loss: 1.2215, Training Accuracy: 64.45%\n",
      "Epoch [16/30], Validation Loss: 2.8222, Validation Accuracy: 36.13%\n"
     ]
    },
    {
     "name": "stderr",
     "output_type": "stream",
     "text": [
      "Training Epoch 17/30: 100%|██████████| 394/394 [00:16<00:00, 24.01it/s]\n"
     ]
    },
    {
     "name": "stdout",
     "output_type": "stream",
     "text": [
      "Epoch [17/30], Training Loss: 1.0981, Training Accuracy: 67.73%\n",
      "Epoch [17/30], Validation Loss: 2.7964, Validation Accuracy: 36.17%\n"
     ]
    },
    {
     "name": "stderr",
     "output_type": "stream",
     "text": [
      "Training Epoch 18/30: 100%|██████████| 394/394 [00:17<00:00, 23.01it/s]\n"
     ]
    },
    {
     "name": "stdout",
     "output_type": "stream",
     "text": [
      "Epoch [18/30], Training Loss: 1.0013, Training Accuracy: 70.48%\n",
      "Epoch [18/30], Validation Loss: 2.7917, Validation Accuracy: 38.93%\n"
     ]
    },
    {
     "name": "stderr",
     "output_type": "stream",
     "text": [
      "Training Epoch 19/30: 100%|██████████| 394/394 [00:16<00:00, 24.08it/s]\n"
     ]
    },
    {
     "name": "stdout",
     "output_type": "stream",
     "text": [
      "Epoch [19/30], Training Loss: 0.9251, Training Accuracy: 72.68%\n",
      "Epoch [19/30], Validation Loss: 2.9862, Validation Accuracy: 39.57%\n"
     ]
    },
    {
     "name": "stderr",
     "output_type": "stream",
     "text": [
      "Training Epoch 20/30: 100%|██████████| 394/394 [00:18<00:00, 21.65it/s]\n"
     ]
    },
    {
     "name": "stdout",
     "output_type": "stream",
     "text": [
      "Epoch [20/30], Training Loss: 0.8399, Training Accuracy: 74.29%\n",
      "Epoch [20/30], Validation Loss: 2.8159, Validation Accuracy: 40.37%\n"
     ]
    },
    {
     "name": "stderr",
     "output_type": "stream",
     "text": [
      "Training Epoch 21/30: 100%|██████████| 394/394 [00:13<00:00, 29.44it/s]\n"
     ]
    },
    {
     "name": "stdout",
     "output_type": "stream",
     "text": [
      "Epoch [21/30], Training Loss: 0.7705, Training Accuracy: 76.17%\n",
      "Epoch [21/30], Validation Loss: 2.8457, Validation Accuracy: 41.80%\n"
     ]
    },
    {
     "name": "stderr",
     "output_type": "stream",
     "text": [
      "Training Epoch 22/30: 100%|██████████| 394/394 [00:13<00:00, 28.33it/s]\n"
     ]
    },
    {
     "name": "stdout",
     "output_type": "stream",
     "text": [
      "Epoch [22/30], Training Loss: 0.7280, Training Accuracy: 77.70%\n",
      "Epoch [22/30], Validation Loss: 2.8155, Validation Accuracy: 41.03%\n"
     ]
    },
    {
     "name": "stderr",
     "output_type": "stream",
     "text": [
      "Training Epoch 23/30: 100%|██████████| 394/394 [00:13<00:00, 28.68it/s]\n"
     ]
    },
    {
     "name": "stdout",
     "output_type": "stream",
     "text": [
      "Epoch [23/30], Training Loss: 0.6706, Training Accuracy: 78.81%\n",
      "Epoch [23/30], Validation Loss: 3.1681, Validation Accuracy: 38.90%\n"
     ]
    },
    {
     "name": "stderr",
     "output_type": "stream",
     "text": [
      "Training Epoch 24/30: 100%|██████████| 394/394 [00:13<00:00, 29.44it/s]\n"
     ]
    },
    {
     "name": "stdout",
     "output_type": "stream",
     "text": [
      "Epoch [24/30], Training Loss: 0.6148, Training Accuracy: 80.76%\n",
      "Epoch [24/30], Validation Loss: 3.2948, Validation Accuracy: 38.67%\n"
     ]
    },
    {
     "name": "stderr",
     "output_type": "stream",
     "text": [
      "Training Epoch 25/30: 100%|██████████| 394/394 [00:13<00:00, 30.13it/s]\n"
     ]
    },
    {
     "name": "stdout",
     "output_type": "stream",
     "text": [
      "Epoch [25/30], Training Loss: 0.5720, Training Accuracy: 81.34%\n",
      "Epoch [25/30], Validation Loss: 2.9173, Validation Accuracy: 44.03%\n"
     ]
    },
    {
     "name": "stderr",
     "output_type": "stream",
     "text": [
      "Training Epoch 26/30: 100%|██████████| 394/394 [00:13<00:00, 29.56it/s]\n"
     ]
    },
    {
     "name": "stdout",
     "output_type": "stream",
     "text": [
      "Epoch [26/30], Training Loss: 0.5308, Training Accuracy: 83.24%\n",
      "Epoch [26/30], Validation Loss: 3.0958, Validation Accuracy: 42.70%\n"
     ]
    },
    {
     "name": "stderr",
     "output_type": "stream",
     "text": [
      "Training Epoch 27/30: 100%|██████████| 394/394 [00:13<00:00, 29.24it/s]\n"
     ]
    },
    {
     "name": "stdout",
     "output_type": "stream",
     "text": [
      "Epoch [27/30], Training Loss: 0.4930, Training Accuracy: 84.04%\n",
      "Epoch [27/30], Validation Loss: 3.1636, Validation Accuracy: 43.53%\n"
     ]
    },
    {
     "name": "stderr",
     "output_type": "stream",
     "text": [
      "Training Epoch 28/30: 100%|██████████| 394/394 [00:13<00:00, 28.73it/s]\n"
     ]
    },
    {
     "name": "stdout",
     "output_type": "stream",
     "text": [
      "Epoch [28/30], Training Loss: 0.4539, Training Accuracy: 85.01%\n",
      "Epoch [28/30], Validation Loss: 3.4537, Validation Accuracy: 41.97%\n"
     ]
    },
    {
     "name": "stderr",
     "output_type": "stream",
     "text": [
      "Training Epoch 29/30: 100%|██████████| 394/394 [00:13<00:00, 29.87it/s]\n"
     ]
    },
    {
     "name": "stdout",
     "output_type": "stream",
     "text": [
      "Epoch [29/30], Training Loss: 0.4287, Training Accuracy: 85.49%\n",
      "Epoch [29/30], Validation Loss: 3.3945, Validation Accuracy: 45.03%\n"
     ]
    },
    {
     "name": "stderr",
     "output_type": "stream",
     "text": [
      "Training Epoch 30/30: 100%|██████████| 394/394 [00:13<00:00, 30.00it/s]\n"
     ]
    },
    {
     "name": "stdout",
     "output_type": "stream",
     "text": [
      "Epoch [30/30], Training Loss: 0.4028, Training Accuracy: 86.68%\n",
      "Epoch [30/30], Validation Loss: 3.3088, Validation Accuracy: 45.43%\n",
      "Evaluation on Validation Set\n",
      "Exact Match Accuracy: 45.43%\n",
      "Hamming Accuracy: 96.26%\n",
      "Evaluation on Test Set\n",
      "Exact Match Accuracy: 37.13%\n",
      "Hamming Accuracy: 95.94%\n",
      "\n",
      "Multilabel CNN for 45 epochs with learning rate = 0.001, Dropout = 0.2, 3 convolutional layers, relu activation and adam optimizer\n"
     ]
    },
    {
     "name": "stderr",
     "output_type": "stream",
     "text": [
      "Training Epoch 1/45: 100%|██████████| 394/394 [00:12<00:00, 32.65it/s]\n"
     ]
    },
    {
     "name": "stdout",
     "output_type": "stream",
     "text": [
      "Epoch [1/45], Training Loss: 4.8985, Training Accuracy: 7.21%\n",
      "Epoch [1/45], Validation Loss: 5.0569, Validation Accuracy: 5.73%\n"
     ]
    },
    {
     "name": "stderr",
     "output_type": "stream",
     "text": [
      "Training Epoch 2/45: 100%|██████████| 394/394 [00:11<00:00, 34.20it/s]\n"
     ]
    },
    {
     "name": "stdout",
     "output_type": "stream",
     "text": [
      "Epoch [2/45], Training Loss: 4.0724, Training Accuracy: 11.94%\n",
      "Epoch [2/45], Validation Loss: 4.9115, Validation Accuracy: 4.20%\n"
     ]
    },
    {
     "name": "stderr",
     "output_type": "stream",
     "text": [
      "Training Epoch 3/45: 100%|██████████| 394/394 [00:13<00:00, 28.28it/s]\n"
     ]
    },
    {
     "name": "stdout",
     "output_type": "stream",
     "text": [
      "Epoch [3/45], Training Loss: 3.6110, Training Accuracy: 16.27%\n",
      "Epoch [3/45], Validation Loss: 5.0442, Validation Accuracy: 5.57%\n"
     ]
    },
    {
     "name": "stderr",
     "output_type": "stream",
     "text": [
      "Training Epoch 4/45: 100%|██████████| 394/394 [00:16<00:00, 24.57it/s]\n"
     ]
    },
    {
     "name": "stdout",
     "output_type": "stream",
     "text": [
      "Epoch [4/45], Training Loss: 3.3639, Training Accuracy: 18.66%\n",
      "Epoch [4/45], Validation Loss: 5.1463, Validation Accuracy: 4.17%\n"
     ]
    },
    {
     "name": "stderr",
     "output_type": "stream",
     "text": [
      "Training Epoch 5/45: 100%|██████████| 394/394 [00:13<00:00, 29.68it/s]\n"
     ]
    },
    {
     "name": "stdout",
     "output_type": "stream",
     "text": [
      "Epoch [5/45], Training Loss: 3.1581, Training Accuracy: 20.90%\n",
      "Epoch [5/45], Validation Loss: 5.2007, Validation Accuracy: 6.00%\n"
     ]
    },
    {
     "name": "stderr",
     "output_type": "stream",
     "text": [
      "Training Epoch 6/45: 100%|██████████| 394/394 [00:13<00:00, 29.38it/s]\n"
     ]
    },
    {
     "name": "stdout",
     "output_type": "stream",
     "text": [
      "Epoch [6/45], Training Loss: 2.9738, Training Accuracy: 24.22%\n",
      "Epoch [6/45], Validation Loss: 4.3416, Validation Accuracy: 6.30%\n"
     ]
    },
    {
     "name": "stderr",
     "output_type": "stream",
     "text": [
      "Training Epoch 7/45: 100%|██████████| 394/394 [00:13<00:00, 29.26it/s]\n"
     ]
    },
    {
     "name": "stdout",
     "output_type": "stream",
     "text": [
      "Epoch [7/45], Training Loss: 2.7443, Training Accuracy: 29.48%\n",
      "Epoch [7/45], Validation Loss: 4.0671, Validation Accuracy: 7.97%\n"
     ]
    },
    {
     "name": "stderr",
     "output_type": "stream",
     "text": [
      "Training Epoch 8/45: 100%|██████████| 394/394 [00:13<00:00, 28.52it/s]\n"
     ]
    },
    {
     "name": "stdout",
     "output_type": "stream",
     "text": [
      "Epoch [8/45], Training Loss: 2.5084, Training Accuracy: 33.97%\n",
      "Epoch [8/45], Validation Loss: 4.2245, Validation Accuracy: 9.83%\n"
     ]
    },
    {
     "name": "stderr",
     "output_type": "stream",
     "text": [
      "Training Epoch 9/45: 100%|██████████| 394/394 [00:14<00:00, 27.39it/s]\n"
     ]
    },
    {
     "name": "stdout",
     "output_type": "stream",
     "text": [
      "Epoch [9/45], Training Loss: 2.3211, Training Accuracy: 37.19%\n",
      "Epoch [9/45], Validation Loss: 3.6561, Validation Accuracy: 11.80%\n"
     ]
    },
    {
     "name": "stderr",
     "output_type": "stream",
     "text": [
      "Training Epoch 10/45: 100%|██████████| 394/394 [00:14<00:00, 27.68it/s]\n"
     ]
    },
    {
     "name": "stdout",
     "output_type": "stream",
     "text": [
      "Epoch [10/45], Training Loss: 2.1297, Training Accuracy: 40.99%\n",
      "Epoch [10/45], Validation Loss: 3.6994, Validation Accuracy: 14.97%\n"
     ]
    },
    {
     "name": "stderr",
     "output_type": "stream",
     "text": [
      "Training Epoch 11/45: 100%|██████████| 394/394 [00:13<00:00, 28.98it/s]\n"
     ]
    },
    {
     "name": "stdout",
     "output_type": "stream",
     "text": [
      "Epoch [11/45], Training Loss: 1.9727, Training Accuracy: 44.52%\n",
      "Epoch [11/45], Validation Loss: 3.5209, Validation Accuracy: 18.27%\n"
     ]
    },
    {
     "name": "stderr",
     "output_type": "stream",
     "text": [
      "Training Epoch 12/45: 100%|██████████| 394/394 [00:13<00:00, 29.57it/s]\n"
     ]
    },
    {
     "name": "stdout",
     "output_type": "stream",
     "text": [
      "Epoch [12/45], Training Loss: 1.8256, Training Accuracy: 48.06%\n",
      "Epoch [12/45], Validation Loss: 3.5001, Validation Accuracy: 19.60%\n"
     ]
    },
    {
     "name": "stderr",
     "output_type": "stream",
     "text": [
      "Training Epoch 13/45: 100%|██████████| 394/394 [00:14<00:00, 28.08it/s]\n"
     ]
    },
    {
     "name": "stdout",
     "output_type": "stream",
     "text": [
      "Epoch [13/45], Training Loss: 1.6712, Training Accuracy: 52.40%\n",
      "Epoch [13/45], Validation Loss: 3.0927, Validation Accuracy: 23.77%\n"
     ]
    },
    {
     "name": "stderr",
     "output_type": "stream",
     "text": [
      "Training Epoch 14/45: 100%|██████████| 394/394 [00:14<00:00, 27.79it/s]\n"
     ]
    },
    {
     "name": "stdout",
     "output_type": "stream",
     "text": [
      "Epoch [14/45], Training Loss: 1.5198, Training Accuracy: 56.10%\n",
      "Epoch [14/45], Validation Loss: 3.2933, Validation Accuracy: 24.87%\n"
     ]
    },
    {
     "name": "stderr",
     "output_type": "stream",
     "text": [
      "Training Epoch 15/45: 100%|██████████| 394/394 [00:13<00:00, 29.71it/s]\n"
     ]
    },
    {
     "name": "stdout",
     "output_type": "stream",
     "text": [
      "Epoch [15/45], Training Loss: 1.4070, Training Accuracy: 59.29%\n",
      "Epoch [15/45], Validation Loss: 3.0764, Validation Accuracy: 28.27%\n"
     ]
    },
    {
     "name": "stderr",
     "output_type": "stream",
     "text": [
      "Training Epoch 16/45: 100%|██████████| 394/394 [00:12<00:00, 30.58it/s]\n"
     ]
    },
    {
     "name": "stdout",
     "output_type": "stream",
     "text": [
      "Epoch [16/45], Training Loss: 1.2945, Training Accuracy: 62.18%\n",
      "Epoch [16/45], Validation Loss: 3.3551, Validation Accuracy: 28.43%\n"
     ]
    },
    {
     "name": "stderr",
     "output_type": "stream",
     "text": [
      "Training Epoch 17/45: 100%|██████████| 394/394 [00:14<00:00, 28.10it/s]\n"
     ]
    },
    {
     "name": "stdout",
     "output_type": "stream",
     "text": [
      "Epoch [17/45], Training Loss: 1.1923, Training Accuracy: 64.37%\n",
      "Epoch [17/45], Validation Loss: 3.0231, Validation Accuracy: 33.83%\n"
     ]
    },
    {
     "name": "stderr",
     "output_type": "stream",
     "text": [
      "Training Epoch 18/45: 100%|██████████| 394/394 [00:13<00:00, 29.36it/s]\n"
     ]
    },
    {
     "name": "stdout",
     "output_type": "stream",
     "text": [
      "Epoch [18/45], Training Loss: 1.0972, Training Accuracy: 67.19%\n",
      "Epoch [18/45], Validation Loss: 3.0660, Validation Accuracy: 34.47%\n"
     ]
    },
    {
     "name": "stderr",
     "output_type": "stream",
     "text": [
      "Training Epoch 19/45: 100%|██████████| 394/394 [00:15<00:00, 25.54it/s]\n"
     ]
    },
    {
     "name": "stdout",
     "output_type": "stream",
     "text": [
      "Epoch [19/45], Training Loss: 1.0019, Training Accuracy: 69.49%\n",
      "Epoch [19/45], Validation Loss: 3.1530, Validation Accuracy: 35.73%\n"
     ]
    },
    {
     "name": "stderr",
     "output_type": "stream",
     "text": [
      "Training Epoch 20/45: 100%|██████████| 394/394 [00:17<00:00, 22.15it/s]\n"
     ]
    },
    {
     "name": "stdout",
     "output_type": "stream",
     "text": [
      "Epoch [20/45], Training Loss: 0.9274, Training Accuracy: 71.93%\n",
      "Epoch [20/45], Validation Loss: 3.0942, Validation Accuracy: 37.60%\n"
     ]
    },
    {
     "name": "stderr",
     "output_type": "stream",
     "text": [
      "Training Epoch 21/45: 100%|██████████| 394/394 [00:16<00:00, 23.40it/s]\n"
     ]
    },
    {
     "name": "stdout",
     "output_type": "stream",
     "text": [
      "Epoch [21/45], Training Loss: 0.8612, Training Accuracy: 73.83%\n",
      "Epoch [21/45], Validation Loss: 3.3791, Validation Accuracy: 37.90%\n"
     ]
    },
    {
     "name": "stderr",
     "output_type": "stream",
     "text": [
      "Training Epoch 22/45: 100%|██████████| 394/394 [00:16<00:00, 24.25it/s]\n"
     ]
    },
    {
     "name": "stdout",
     "output_type": "stream",
     "text": [
      "Epoch [22/45], Training Loss: 0.7910, Training Accuracy: 75.48%\n",
      "Epoch [22/45], Validation Loss: 3.1707, Validation Accuracy: 38.97%\n"
     ]
    },
    {
     "name": "stderr",
     "output_type": "stream",
     "text": [
      "Training Epoch 23/45: 100%|██████████| 394/394 [00:17<00:00, 22.42it/s]\n"
     ]
    },
    {
     "name": "stdout",
     "output_type": "stream",
     "text": [
      "Epoch [23/45], Training Loss: 0.7270, Training Accuracy: 77.22%\n",
      "Epoch [23/45], Validation Loss: 3.1219, Validation Accuracy: 38.73%\n"
     ]
    },
    {
     "name": "stderr",
     "output_type": "stream",
     "text": [
      "Training Epoch 24/45: 100%|██████████| 394/394 [00:18<00:00, 21.76it/s]\n"
     ]
    },
    {
     "name": "stdout",
     "output_type": "stream",
     "text": [
      "Epoch [24/45], Training Loss: 0.6868, Training Accuracy: 78.24%\n",
      "Epoch [24/45], Validation Loss: 3.1842, Validation Accuracy: 40.07%\n"
     ]
    },
    {
     "name": "stderr",
     "output_type": "stream",
     "text": [
      "Training Epoch 25/45: 100%|██████████| 394/394 [00:18<00:00, 21.79it/s]\n"
     ]
    },
    {
     "name": "stdout",
     "output_type": "stream",
     "text": [
      "Epoch [25/45], Training Loss: 0.6284, Training Accuracy: 80.46%\n",
      "Epoch [25/45], Validation Loss: 3.0709, Validation Accuracy: 42.50%\n"
     ]
    },
    {
     "name": "stderr",
     "output_type": "stream",
     "text": [
      "Training Epoch 26/45: 100%|██████████| 394/394 [00:18<00:00, 21.54it/s]\n"
     ]
    },
    {
     "name": "stdout",
     "output_type": "stream",
     "text": [
      "Epoch [26/45], Training Loss: 0.6021, Training Accuracy: 81.03%\n",
      "Epoch [26/45], Validation Loss: 3.0067, Validation Accuracy: 41.23%\n"
     ]
    },
    {
     "name": "stderr",
     "output_type": "stream",
     "text": [
      "Training Epoch 27/45: 100%|██████████| 394/394 [00:17<00:00, 22.01it/s]\n"
     ]
    },
    {
     "name": "stdout",
     "output_type": "stream",
     "text": [
      "Epoch [27/45], Training Loss: 0.5585, Training Accuracy: 81.99%\n",
      "Epoch [27/45], Validation Loss: 3.1734, Validation Accuracy: 41.80%\n"
     ]
    },
    {
     "name": "stderr",
     "output_type": "stream",
     "text": [
      "Training Epoch 28/45: 100%|██████████| 394/394 [00:18<00:00, 20.95it/s]\n"
     ]
    },
    {
     "name": "stdout",
     "output_type": "stream",
     "text": [
      "Epoch [28/45], Training Loss: 0.5121, Training Accuracy: 82.94%\n",
      "Epoch [28/45], Validation Loss: 3.1917, Validation Accuracy: 42.03%\n"
     ]
    },
    {
     "name": "stderr",
     "output_type": "stream",
     "text": [
      "Training Epoch 29/45: 100%|██████████| 394/394 [00:17<00:00, 22.23it/s]\n"
     ]
    },
    {
     "name": "stdout",
     "output_type": "stream",
     "text": [
      "Epoch [29/45], Training Loss: 0.4749, Training Accuracy: 84.66%\n",
      "Epoch [29/45], Validation Loss: 3.7961, Validation Accuracy: 41.60%\n"
     ]
    },
    {
     "name": "stderr",
     "output_type": "stream",
     "text": [
      "Training Epoch 30/45: 100%|██████████| 394/394 [00:18<00:00, 21.07it/s]\n"
     ]
    },
    {
     "name": "stdout",
     "output_type": "stream",
     "text": [
      "Epoch [30/45], Training Loss: 0.4529, Training Accuracy: 85.06%\n",
      "Epoch [30/45], Validation Loss: 3.4726, Validation Accuracy: 44.43%\n"
     ]
    },
    {
     "name": "stderr",
     "output_type": "stream",
     "text": [
      "Training Epoch 31/45: 100%|██████████| 394/394 [00:19<00:00, 20.43it/s]\n"
     ]
    },
    {
     "name": "stdout",
     "output_type": "stream",
     "text": [
      "Epoch [31/45], Training Loss: 0.4304, Training Accuracy: 85.87%\n",
      "Epoch [31/45], Validation Loss: 3.6565, Validation Accuracy: 43.20%\n"
     ]
    },
    {
     "name": "stderr",
     "output_type": "stream",
     "text": [
      "Training Epoch 32/45: 100%|██████████| 394/394 [00:17<00:00, 22.45it/s]\n"
     ]
    },
    {
     "name": "stdout",
     "output_type": "stream",
     "text": [
      "Epoch [32/45], Training Loss: 0.3900, Training Accuracy: 87.28%\n",
      "Epoch [32/45], Validation Loss: 3.2712, Validation Accuracy: 44.77%\n"
     ]
    },
    {
     "name": "stderr",
     "output_type": "stream",
     "text": [
      "Training Epoch 33/45: 100%|██████████| 394/394 [00:17<00:00, 22.63it/s]\n"
     ]
    },
    {
     "name": "stdout",
     "output_type": "stream",
     "text": [
      "Epoch [33/45], Training Loss: 0.3815, Training Accuracy: 87.51%\n",
      "Epoch [33/45], Validation Loss: 3.8526, Validation Accuracy: 44.17%\n"
     ]
    },
    {
     "name": "stderr",
     "output_type": "stream",
     "text": [
      "Training Epoch 34/45: 100%|██████████| 394/394 [00:19<00:00, 20.64it/s]\n"
     ]
    },
    {
     "name": "stdout",
     "output_type": "stream",
     "text": [
      "Epoch [34/45], Training Loss: 0.3520, Training Accuracy: 88.37%\n",
      "Epoch [34/45], Validation Loss: 3.4152, Validation Accuracy: 44.93%\n"
     ]
    },
    {
     "name": "stderr",
     "output_type": "stream",
     "text": [
      "Training Epoch 35/45: 100%|██████████| 394/394 [00:19<00:00, 20.51it/s]\n"
     ]
    },
    {
     "name": "stdout",
     "output_type": "stream",
     "text": [
      "Epoch [35/45], Training Loss: 0.3246, Training Accuracy: 89.13%\n",
      "Epoch [35/45], Validation Loss: 3.7834, Validation Accuracy: 47.30%\n"
     ]
    },
    {
     "name": "stderr",
     "output_type": "stream",
     "text": [
      "Training Epoch 36/45: 100%|██████████| 394/394 [00:18<00:00, 21.28it/s]\n"
     ]
    },
    {
     "name": "stdout",
     "output_type": "stream",
     "text": [
      "Epoch [36/45], Training Loss: 0.3158, Training Accuracy: 89.42%\n",
      "Epoch [36/45], Validation Loss: 3.7468, Validation Accuracy: 44.33%\n"
     ]
    },
    {
     "name": "stderr",
     "output_type": "stream",
     "text": [
      "Training Epoch 37/45: 100%|██████████| 394/394 [00:17<00:00, 22.81it/s]\n"
     ]
    },
    {
     "name": "stdout",
     "output_type": "stream",
     "text": [
      "Epoch [37/45], Training Loss: 0.3021, Training Accuracy: 89.64%\n",
      "Epoch [37/45], Validation Loss: 4.1676, Validation Accuracy: 43.83%\n"
     ]
    },
    {
     "name": "stderr",
     "output_type": "stream",
     "text": [
      "Training Epoch 38/45: 100%|██████████| 394/394 [00:18<00:00, 21.38it/s]\n"
     ]
    },
    {
     "name": "stdout",
     "output_type": "stream",
     "text": [
      "Epoch [38/45], Training Loss: 0.2843, Training Accuracy: 90.73%\n",
      "Epoch [38/45], Validation Loss: 3.8185, Validation Accuracy: 46.20%\n"
     ]
    },
    {
     "name": "stderr",
     "output_type": "stream",
     "text": [
      "Training Epoch 39/45: 100%|██████████| 394/394 [00:17<00:00, 21.96it/s]\n"
     ]
    },
    {
     "name": "stdout",
     "output_type": "stream",
     "text": [
      "Epoch [39/45], Training Loss: 0.2651, Training Accuracy: 90.98%\n",
      "Epoch [39/45], Validation Loss: 3.9187, Validation Accuracy: 46.27%\n"
     ]
    },
    {
     "name": "stderr",
     "output_type": "stream",
     "text": [
      "Training Epoch 40/45: 100%|██████████| 394/394 [00:17<00:00, 22.36it/s]\n"
     ]
    },
    {
     "name": "stdout",
     "output_type": "stream",
     "text": [
      "Epoch [40/45], Training Loss: 0.2698, Training Accuracy: 90.90%\n",
      "Epoch [40/45], Validation Loss: 3.7907, Validation Accuracy: 45.47%\n"
     ]
    },
    {
     "name": "stderr",
     "output_type": "stream",
     "text": [
      "Training Epoch 41/45: 100%|██████████| 394/394 [00:17<00:00, 22.63it/s]\n"
     ]
    },
    {
     "name": "stdout",
     "output_type": "stream",
     "text": [
      "Epoch [41/45], Training Loss: 0.2454, Training Accuracy: 91.70%\n",
      "Epoch [41/45], Validation Loss: 4.0968, Validation Accuracy: 47.33%\n"
     ]
    },
    {
     "name": "stderr",
     "output_type": "stream",
     "text": [
      "Training Epoch 42/45: 100%|██████████| 394/394 [00:17<00:00, 22.51it/s]\n"
     ]
    },
    {
     "name": "stdout",
     "output_type": "stream",
     "text": [
      "Epoch [42/45], Training Loss: 0.2363, Training Accuracy: 91.90%\n",
      "Epoch [42/45], Validation Loss: 3.8759, Validation Accuracy: 46.23%\n"
     ]
    },
    {
     "name": "stderr",
     "output_type": "stream",
     "text": [
      "Training Epoch 43/45: 100%|██████████| 394/394 [00:19<00:00, 19.91it/s]\n"
     ]
    },
    {
     "name": "stdout",
     "output_type": "stream",
     "text": [
      "Epoch [43/45], Training Loss: 0.2145, Training Accuracy: 92.58%\n",
      "Epoch [43/45], Validation Loss: 4.2223, Validation Accuracy: 45.40%\n"
     ]
    },
    {
     "name": "stderr",
     "output_type": "stream",
     "text": [
      "Training Epoch 44/45: 100%|██████████| 394/394 [00:17<00:00, 21.90it/s]\n"
     ]
    },
    {
     "name": "stdout",
     "output_type": "stream",
     "text": [
      "Epoch [44/45], Training Loss: 0.2401, Training Accuracy: 91.98%\n",
      "Epoch [44/45], Validation Loss: 3.5583, Validation Accuracy: 48.43%\n"
     ]
    },
    {
     "name": "stderr",
     "output_type": "stream",
     "text": [
      "Training Epoch 45/45: 100%|██████████| 394/394 [00:19<00:00, 20.72it/s]\n"
     ]
    },
    {
     "name": "stdout",
     "output_type": "stream",
     "text": [
      "Epoch [45/45], Training Loss: 0.2175, Training Accuracy: 92.63%\n",
      "Epoch [45/45], Validation Loss: 3.9295, Validation Accuracy: 45.83%\n",
      "Evaluation on Validation Set\n",
      "Exact Match Accuracy: 45.83%\n",
      "Hamming Accuracy: 96.45%\n",
      "Evaluation on Test Set\n",
      "Exact Match Accuracy: 33.48%\n",
      "Hamming Accuracy: 95.70%\n",
      "\n",
      "Multilabel CNN for 30 epochs with learning rate = 0.001, Dropout = 0.4, 3 convolutional layers, relu activation and adam optimizer\n"
     ]
    },
    {
     "name": "stderr",
     "output_type": "stream",
     "text": [
      "Training Epoch 1/30: 100%|██████████| 394/394 [00:15<00:00, 25.70it/s]\n"
     ]
    },
    {
     "name": "stdout",
     "output_type": "stream",
     "text": [
      "Epoch [1/30], Training Loss: 5.1043, Training Accuracy: 6.06%\n",
      "Epoch [1/30], Validation Loss: 5.1870, Validation Accuracy: 3.63%\n"
     ]
    },
    {
     "name": "stderr",
     "output_type": "stream",
     "text": [
      "Training Epoch 2/30: 100%|██████████| 394/394 [00:16<00:00, 23.85it/s]\n"
     ]
    },
    {
     "name": "stdout",
     "output_type": "stream",
     "text": [
      "Epoch [2/30], Training Loss: 4.3426, Training Accuracy: 9.77%\n",
      "Epoch [2/30], Validation Loss: 5.1040, Validation Accuracy: 3.90%\n"
     ]
    },
    {
     "name": "stderr",
     "output_type": "stream",
     "text": [
      "Training Epoch 3/30: 100%|██████████| 394/394 [00:17<00:00, 22.22it/s]\n"
     ]
    },
    {
     "name": "stdout",
     "output_type": "stream",
     "text": [
      "Epoch [3/30], Training Loss: 3.9750, Training Accuracy: 12.22%\n",
      "Epoch [3/30], Validation Loss: 4.8127, Validation Accuracy: 5.13%\n"
     ]
    },
    {
     "name": "stderr",
     "output_type": "stream",
     "text": [
      "Training Epoch 4/30: 100%|██████████| 394/394 [00:18<00:00, 21.87it/s]\n"
     ]
    },
    {
     "name": "stdout",
     "output_type": "stream",
     "text": [
      "Epoch [4/30], Training Loss: 3.6727, Training Accuracy: 15.01%\n",
      "Epoch [4/30], Validation Loss: 4.5890, Validation Accuracy: 4.57%\n"
     ]
    },
    {
     "name": "stderr",
     "output_type": "stream",
     "text": [
      "Training Epoch 5/30: 100%|██████████| 394/394 [00:18<00:00, 21.28it/s]\n"
     ]
    },
    {
     "name": "stdout",
     "output_type": "stream",
     "text": [
      "Epoch [5/30], Training Loss: 3.4296, Training Accuracy: 17.42%\n",
      "Epoch [5/30], Validation Loss: 4.7914, Validation Accuracy: 4.50%\n"
     ]
    },
    {
     "name": "stderr",
     "output_type": "stream",
     "text": [
      "Training Epoch 6/30: 100%|██████████| 394/394 [00:17<00:00, 22.26it/s]\n"
     ]
    },
    {
     "name": "stdout",
     "output_type": "stream",
     "text": [
      "Epoch [6/30], Training Loss: 3.2483, Training Accuracy: 20.16%\n",
      "Epoch [6/30], Validation Loss: 4.2746, Validation Accuracy: 6.57%\n"
     ]
    },
    {
     "name": "stderr",
     "output_type": "stream",
     "text": [
      "Training Epoch 7/30: 100%|██████████| 394/394 [00:17<00:00, 22.39it/s]\n"
     ]
    },
    {
     "name": "stdout",
     "output_type": "stream",
     "text": [
      "Epoch [7/30], Training Loss: 3.0897, Training Accuracy: 21.79%\n",
      "Epoch [7/30], Validation Loss: 4.4112, Validation Accuracy: 6.13%\n"
     ]
    },
    {
     "name": "stderr",
     "output_type": "stream",
     "text": [
      "Training Epoch 8/30: 100%|██████████| 394/394 [00:17<00:00, 22.06it/s]\n"
     ]
    },
    {
     "name": "stdout",
     "output_type": "stream",
     "text": [
      "Epoch [8/30], Training Loss: 2.9681, Training Accuracy: 23.74%\n",
      "Epoch [8/30], Validation Loss: 4.2127, Validation Accuracy: 7.00%\n"
     ]
    },
    {
     "name": "stderr",
     "output_type": "stream",
     "text": [
      "Training Epoch 9/30: 100%|██████████| 394/394 [00:18<00:00, 21.88it/s]\n"
     ]
    },
    {
     "name": "stdout",
     "output_type": "stream",
     "text": [
      "Epoch [9/30], Training Loss: 2.8587, Training Accuracy: 25.59%\n",
      "Epoch [9/30], Validation Loss: 4.1955, Validation Accuracy: 8.27%\n"
     ]
    },
    {
     "name": "stderr",
     "output_type": "stream",
     "text": [
      "Training Epoch 10/30: 100%|██████████| 394/394 [00:18<00:00, 21.67it/s]\n"
     ]
    },
    {
     "name": "stdout",
     "output_type": "stream",
     "text": [
      "Epoch [10/30], Training Loss: 2.7747, Training Accuracy: 27.02%\n",
      "Epoch [10/30], Validation Loss: 4.2378, Validation Accuracy: 9.23%\n"
     ]
    },
    {
     "name": "stderr",
     "output_type": "stream",
     "text": [
      "Training Epoch 11/30: 100%|██████████| 394/394 [00:18<00:00, 21.60it/s]\n"
     ]
    },
    {
     "name": "stdout",
     "output_type": "stream",
     "text": [
      "Epoch [11/30], Training Loss: 2.6418, Training Accuracy: 30.02%\n",
      "Epoch [11/30], Validation Loss: 4.1950, Validation Accuracy: 10.27%\n"
     ]
    },
    {
     "name": "stderr",
     "output_type": "stream",
     "text": [
      "Training Epoch 12/30: 100%|██████████| 394/394 [00:16<00:00, 23.62it/s]\n"
     ]
    },
    {
     "name": "stdout",
     "output_type": "stream",
     "text": [
      "Epoch [12/30], Training Loss: 2.5219, Training Accuracy: 32.61%\n",
      "Epoch [12/30], Validation Loss: 3.9935, Validation Accuracy: 10.30%\n"
     ]
    },
    {
     "name": "stderr",
     "output_type": "stream",
     "text": [
      "Training Epoch 13/30: 100%|██████████| 394/394 [00:18<00:00, 21.87it/s]\n"
     ]
    },
    {
     "name": "stdout",
     "output_type": "stream",
     "text": [
      "Epoch [13/30], Training Loss: 2.3844, Training Accuracy: 35.28%\n",
      "Epoch [13/30], Validation Loss: 3.7494, Validation Accuracy: 14.60%\n"
     ]
    },
    {
     "name": "stderr",
     "output_type": "stream",
     "text": [
      "Training Epoch 14/30: 100%|██████████| 394/394 [00:18<00:00, 21.87it/s]\n"
     ]
    },
    {
     "name": "stdout",
     "output_type": "stream",
     "text": [
      "Epoch [14/30], Training Loss: 2.2497, Training Accuracy: 38.75%\n",
      "Epoch [14/30], Validation Loss: 3.9250, Validation Accuracy: 14.67%\n"
     ]
    },
    {
     "name": "stderr",
     "output_type": "stream",
     "text": [
      "Training Epoch 15/30: 100%|██████████| 394/394 [00:18<00:00, 21.21it/s]\n"
     ]
    },
    {
     "name": "stdout",
     "output_type": "stream",
     "text": [
      "Epoch [15/30], Training Loss: 2.1441, Training Accuracy: 40.43%\n",
      "Epoch [15/30], Validation Loss: 3.8497, Validation Accuracy: 15.97%\n"
     ]
    },
    {
     "name": "stderr",
     "output_type": "stream",
     "text": [
      "Training Epoch 16/30: 100%|██████████| 394/394 [00:17<00:00, 22.70it/s]\n"
     ]
    },
    {
     "name": "stdout",
     "output_type": "stream",
     "text": [
      "Epoch [16/30], Training Loss: 2.0291, Training Accuracy: 43.82%\n",
      "Epoch [16/30], Validation Loss: 3.6493, Validation Accuracy: 16.90%\n"
     ]
    },
    {
     "name": "stderr",
     "output_type": "stream",
     "text": [
      "Training Epoch 17/30: 100%|██████████| 394/394 [00:17<00:00, 22.31it/s]\n"
     ]
    },
    {
     "name": "stdout",
     "output_type": "stream",
     "text": [
      "Epoch [17/30], Training Loss: 1.9598, Training Accuracy: 44.76%\n",
      "Epoch [17/30], Validation Loss: 3.6306, Validation Accuracy: 19.63%\n"
     ]
    },
    {
     "name": "stderr",
     "output_type": "stream",
     "text": [
      "Training Epoch 18/30: 100%|██████████| 394/394 [00:17<00:00, 22.28it/s]\n"
     ]
    },
    {
     "name": "stdout",
     "output_type": "stream",
     "text": [
      "Epoch [18/30], Training Loss: 1.8579, Training Accuracy: 47.57%\n",
      "Epoch [18/30], Validation Loss: 3.5377, Validation Accuracy: 22.67%\n"
     ]
    },
    {
     "name": "stderr",
     "output_type": "stream",
     "text": [
      "Training Epoch 19/30: 100%|██████████| 394/394 [00:21<00:00, 18.15it/s]\n"
     ]
    },
    {
     "name": "stdout",
     "output_type": "stream",
     "text": [
      "Epoch [19/30], Training Loss: 1.7550, Training Accuracy: 49.81%\n",
      "Epoch [19/30], Validation Loss: 3.2761, Validation Accuracy: 25.10%\n"
     ]
    },
    {
     "name": "stderr",
     "output_type": "stream",
     "text": [
      "Training Epoch 20/30: 100%|██████████| 394/394 [00:16<00:00, 23.42it/s]\n"
     ]
    },
    {
     "name": "stdout",
     "output_type": "stream",
     "text": [
      "Epoch [20/30], Training Loss: 1.6627, Training Accuracy: 52.64%\n",
      "Epoch [20/30], Validation Loss: 3.4964, Validation Accuracy: 26.77%\n"
     ]
    },
    {
     "name": "stderr",
     "output_type": "stream",
     "text": [
      "Training Epoch 21/30: 100%|██████████| 394/394 [00:15<00:00, 26.20it/s]\n"
     ]
    },
    {
     "name": "stdout",
     "output_type": "stream",
     "text": [
      "Epoch [21/30], Training Loss: 1.5773, Training Accuracy: 55.19%\n",
      "Epoch [21/30], Validation Loss: 3.4724, Validation Accuracy: 29.00%\n"
     ]
    },
    {
     "name": "stderr",
     "output_type": "stream",
     "text": [
      "Training Epoch 22/30: 100%|██████████| 394/394 [00:15<00:00, 25.93it/s]\n"
     ]
    },
    {
     "name": "stdout",
     "output_type": "stream",
     "text": [
      "Epoch [22/30], Training Loss: 1.4736, Training Accuracy: 57.47%\n",
      "Epoch [22/30], Validation Loss: 3.5863, Validation Accuracy: 30.23%\n"
     ]
    },
    {
     "name": "stderr",
     "output_type": "stream",
     "text": [
      "Training Epoch 23/30: 100%|██████████| 394/394 [00:14<00:00, 26.42it/s]\n"
     ]
    },
    {
     "name": "stdout",
     "output_type": "stream",
     "text": [
      "Epoch [23/30], Training Loss: 1.3906, Training Accuracy: 59.59%\n",
      "Epoch [23/30], Validation Loss: 3.4706, Validation Accuracy: 32.50%\n"
     ]
    },
    {
     "name": "stderr",
     "output_type": "stream",
     "text": [
      "Training Epoch 24/30: 100%|██████████| 394/394 [00:13<00:00, 29.85it/s]\n"
     ]
    },
    {
     "name": "stdout",
     "output_type": "stream",
     "text": [
      "Epoch [24/30], Training Loss: 1.3286, Training Accuracy: 61.30%\n",
      "Epoch [24/30], Validation Loss: 3.1774, Validation Accuracy: 35.63%\n"
     ]
    },
    {
     "name": "stderr",
     "output_type": "stream",
     "text": [
      "Training Epoch 25/30: 100%|██████████| 394/394 [00:14<00:00, 26.93it/s]\n"
     ]
    },
    {
     "name": "stdout",
     "output_type": "stream",
     "text": [
      "Epoch [25/30], Training Loss: 1.2636, Training Accuracy: 62.82%\n",
      "Epoch [25/30], Validation Loss: 3.3070, Validation Accuracy: 36.43%\n"
     ]
    },
    {
     "name": "stderr",
     "output_type": "stream",
     "text": [
      "Training Epoch 26/30: 100%|██████████| 394/394 [00:14<00:00, 27.24it/s]\n"
     ]
    },
    {
     "name": "stdout",
     "output_type": "stream",
     "text": [
      "Epoch [26/30], Training Loss: 1.1841, Training Accuracy: 65.06%\n",
      "Epoch [26/30], Validation Loss: 3.3548, Validation Accuracy: 36.03%\n"
     ]
    },
    {
     "name": "stderr",
     "output_type": "stream",
     "text": [
      "Training Epoch 27/30: 100%|██████████| 394/394 [00:14<00:00, 27.19it/s]\n"
     ]
    },
    {
     "name": "stdout",
     "output_type": "stream",
     "text": [
      "Epoch [27/30], Training Loss: 1.1439, Training Accuracy: 65.80%\n",
      "Epoch [27/30], Validation Loss: 3.2966, Validation Accuracy: 36.00%\n"
     ]
    },
    {
     "name": "stderr",
     "output_type": "stream",
     "text": [
      "Training Epoch 28/30: 100%|██████████| 394/394 [00:14<00:00, 26.75it/s]\n"
     ]
    },
    {
     "name": "stdout",
     "output_type": "stream",
     "text": [
      "Epoch [28/30], Training Loss: 1.0851, Training Accuracy: 67.59%\n",
      "Epoch [28/30], Validation Loss: 3.2984, Validation Accuracy: 36.00%\n"
     ]
    },
    {
     "name": "stderr",
     "output_type": "stream",
     "text": [
      "Training Epoch 29/30: 100%|██████████| 394/394 [00:17<00:00, 22.96it/s]\n"
     ]
    },
    {
     "name": "stdout",
     "output_type": "stream",
     "text": [
      "Epoch [29/30], Training Loss: 1.0362, Training Accuracy: 68.37%\n",
      "Epoch [29/30], Validation Loss: 3.0783, Validation Accuracy: 39.57%\n"
     ]
    },
    {
     "name": "stderr",
     "output_type": "stream",
     "text": [
      "Training Epoch 30/30: 100%|██████████| 394/394 [00:22<00:00, 17.80it/s]\n"
     ]
    },
    {
     "name": "stdout",
     "output_type": "stream",
     "text": [
      "Epoch [30/30], Training Loss: 1.0013, Training Accuracy: 69.56%\n",
      "Epoch [30/30], Validation Loss: 3.1204, Validation Accuracy: 41.03%\n",
      "Evaluation on Validation Set\n",
      "Exact Match Accuracy: 41.03%\n",
      "Hamming Accuracy: 96.04%\n",
      "Evaluation on Test Set\n",
      "Exact Match Accuracy: 30.72%\n",
      "Hamming Accuracy: 95.47%\n",
      "\n",
      "Multilabel CNN for 30 epochs with learning rate = 0.001, Dropout = 0.2, 2 convolutional layers, tanh activation and adam optimizer\n"
     ]
    },
    {
     "name": "stderr",
     "output_type": "stream",
     "text": [
      "Training Epoch 1/30: 100%|██████████| 394/394 [00:14<00:00, 26.38it/s]\n"
     ]
    },
    {
     "name": "stdout",
     "output_type": "stream",
     "text": [
      "Epoch [1/30], Training Loss: 4.7631, Training Accuracy: 7.39%\n",
      "Epoch [1/30], Validation Loss: 4.9630, Validation Accuracy: 4.63%\n"
     ]
    },
    {
     "name": "stderr",
     "output_type": "stream",
     "text": [
      "Training Epoch 2/30: 100%|██████████| 394/394 [00:15<00:00, 25.79it/s]\n"
     ]
    },
    {
     "name": "stdout",
     "output_type": "stream",
     "text": [
      "Epoch [2/30], Training Loss: 4.2743, Training Accuracy: 10.42%\n",
      "Epoch [2/30], Validation Loss: 4.7790, Validation Accuracy: 4.53%\n"
     ]
    },
    {
     "name": "stderr",
     "output_type": "stream",
     "text": [
      "Training Epoch 3/30: 100%|██████████| 394/394 [00:14<00:00, 27.40it/s]\n"
     ]
    },
    {
     "name": "stdout",
     "output_type": "stream",
     "text": [
      "Epoch [3/30], Training Loss: 3.9434, Training Accuracy: 13.07%\n",
      "Epoch [3/30], Validation Loss: 4.5076, Validation Accuracy: 7.03%\n"
     ]
    },
    {
     "name": "stderr",
     "output_type": "stream",
     "text": [
      "Training Epoch 4/30: 100%|██████████| 394/394 [00:15<00:00, 25.43it/s]\n"
     ]
    },
    {
     "name": "stdout",
     "output_type": "stream",
     "text": [
      "Epoch [4/30], Training Loss: 3.6491, Training Accuracy: 15.68%\n",
      "Epoch [4/30], Validation Loss: 4.3375, Validation Accuracy: 7.20%\n"
     ]
    },
    {
     "name": "stderr",
     "output_type": "stream",
     "text": [
      "Training Epoch 5/30: 100%|██████████| 394/394 [00:15<00:00, 24.91it/s]\n"
     ]
    },
    {
     "name": "stdout",
     "output_type": "stream",
     "text": [
      "Epoch [5/30], Training Loss: 3.4104, Training Accuracy: 18.40%\n",
      "Epoch [5/30], Validation Loss: 4.1050, Validation Accuracy: 7.90%\n"
     ]
    },
    {
     "name": "stderr",
     "output_type": "stream",
     "text": [
      "Training Epoch 6/30: 100%|██████████| 394/394 [00:16<00:00, 23.74it/s]\n"
     ]
    },
    {
     "name": "stdout",
     "output_type": "stream",
     "text": [
      "Epoch [6/30], Training Loss: 3.1114, Training Accuracy: 23.14%\n",
      "Epoch [6/30], Validation Loss: 4.0081, Validation Accuracy: 9.53%\n"
     ]
    },
    {
     "name": "stderr",
     "output_type": "stream",
     "text": [
      "Training Epoch 7/30: 100%|██████████| 394/394 [00:15<00:00, 25.06it/s]\n"
     ]
    },
    {
     "name": "stdout",
     "output_type": "stream",
     "text": [
      "Epoch [7/30], Training Loss: 2.6511, Training Accuracy: 31.48%\n",
      "Epoch [7/30], Validation Loss: 3.6442, Validation Accuracy: 13.13%\n"
     ]
    },
    {
     "name": "stderr",
     "output_type": "stream",
     "text": [
      "Training Epoch 8/30: 100%|██████████| 394/394 [00:15<00:00, 25.21it/s]\n"
     ]
    },
    {
     "name": "stdout",
     "output_type": "stream",
     "text": [
      "Epoch [8/30], Training Loss: 2.1466, Training Accuracy: 42.21%\n",
      "Epoch [8/30], Validation Loss: 3.3762, Validation Accuracy: 18.23%\n"
     ]
    },
    {
     "name": "stderr",
     "output_type": "stream",
     "text": [
      "Training Epoch 9/30: 100%|██████████| 394/394 [00:14<00:00, 27.18it/s]\n"
     ]
    },
    {
     "name": "stdout",
     "output_type": "stream",
     "text": [
      "Epoch [9/30], Training Loss: 1.7098, Training Accuracy: 52.40%\n",
      "Epoch [9/30], Validation Loss: 3.0342, Validation Accuracy: 23.90%\n"
     ]
    },
    {
     "name": "stderr",
     "output_type": "stream",
     "text": [
      "Training Epoch 10/30: 100%|██████████| 394/394 [00:14<00:00, 27.50it/s]\n"
     ]
    },
    {
     "name": "stdout",
     "output_type": "stream",
     "text": [
      "Epoch [10/30], Training Loss: 1.4034, Training Accuracy: 59.60%\n",
      "Epoch [10/30], Validation Loss: 3.0576, Validation Accuracy: 24.97%\n"
     ]
    },
    {
     "name": "stderr",
     "output_type": "stream",
     "text": [
      "Training Epoch 11/30: 100%|██████████| 394/394 [00:15<00:00, 24.93it/s]\n"
     ]
    },
    {
     "name": "stdout",
     "output_type": "stream",
     "text": [
      "Epoch [11/30], Training Loss: 1.1523, Training Accuracy: 67.10%\n",
      "Epoch [11/30], Validation Loss: 2.8536, Validation Accuracy: 28.13%\n"
     ]
    },
    {
     "name": "stderr",
     "output_type": "stream",
     "text": [
      "Training Epoch 12/30: 100%|██████████| 394/394 [00:13<00:00, 29.16it/s]\n"
     ]
    },
    {
     "name": "stdout",
     "output_type": "stream",
     "text": [
      "Epoch [12/30], Training Loss: 0.9406, Training Accuracy: 71.94%\n",
      "Epoch [12/30], Validation Loss: 2.7067, Validation Accuracy: 30.87%\n"
     ]
    },
    {
     "name": "stderr",
     "output_type": "stream",
     "text": [
      "Training Epoch 13/30: 100%|██████████| 394/394 [00:15<00:00, 26.05it/s]\n"
     ]
    },
    {
     "name": "stdout",
     "output_type": "stream",
     "text": [
      "Epoch [13/30], Training Loss: 0.7569, Training Accuracy: 77.91%\n",
      "Epoch [13/30], Validation Loss: 2.7656, Validation Accuracy: 32.30%\n"
     ]
    },
    {
     "name": "stderr",
     "output_type": "stream",
     "text": [
      "Training Epoch 14/30: 100%|██████████| 394/394 [00:14<00:00, 26.51it/s]\n"
     ]
    },
    {
     "name": "stdout",
     "output_type": "stream",
     "text": [
      "Epoch [14/30], Training Loss: 0.6123, Training Accuracy: 82.79%\n",
      "Epoch [14/30], Validation Loss: 2.8016, Validation Accuracy: 33.43%\n"
     ]
    },
    {
     "name": "stderr",
     "output_type": "stream",
     "text": [
      "Training Epoch 15/30: 100%|██████████| 394/394 [00:15<00:00, 25.37it/s]\n"
     ]
    },
    {
     "name": "stdout",
     "output_type": "stream",
     "text": [
      "Epoch [15/30], Training Loss: 0.4900, Training Accuracy: 85.85%\n",
      "Epoch [15/30], Validation Loss: 3.0689, Validation Accuracy: 32.53%\n"
     ]
    },
    {
     "name": "stderr",
     "output_type": "stream",
     "text": [
      "Training Epoch 16/30: 100%|██████████| 394/394 [00:14<00:00, 27.00it/s]\n"
     ]
    },
    {
     "name": "stdout",
     "output_type": "stream",
     "text": [
      "Epoch [16/30], Training Loss: 0.4041, Training Accuracy: 88.87%\n",
      "Epoch [16/30], Validation Loss: 2.9607, Validation Accuracy: 34.17%\n"
     ]
    },
    {
     "name": "stderr",
     "output_type": "stream",
     "text": [
      "Training Epoch 17/30: 100%|██████████| 394/394 [00:15<00:00, 25.90it/s]\n"
     ]
    },
    {
     "name": "stdout",
     "output_type": "stream",
     "text": [
      "Epoch [17/30], Training Loss: 0.3332, Training Accuracy: 90.97%\n",
      "Epoch [17/30], Validation Loss: 2.9789, Validation Accuracy: 34.90%\n"
     ]
    },
    {
     "name": "stderr",
     "output_type": "stream",
     "text": [
      "Training Epoch 18/30: 100%|██████████| 394/394 [00:15<00:00, 25.77it/s]\n"
     ]
    },
    {
     "name": "stdout",
     "output_type": "stream",
     "text": [
      "Epoch [18/30], Training Loss: 0.2719, Training Accuracy: 92.83%\n",
      "Epoch [18/30], Validation Loss: 2.8641, Validation Accuracy: 35.97%\n"
     ]
    },
    {
     "name": "stderr",
     "output_type": "stream",
     "text": [
      "Training Epoch 19/30: 100%|██████████| 394/394 [00:14<00:00, 26.52it/s]\n"
     ]
    },
    {
     "name": "stdout",
     "output_type": "stream",
     "text": [
      "Epoch [19/30], Training Loss: 0.2357, Training Accuracy: 93.90%\n",
      "Epoch [19/30], Validation Loss: 3.1211, Validation Accuracy: 35.87%\n"
     ]
    },
    {
     "name": "stderr",
     "output_type": "stream",
     "text": [
      "Training Epoch 20/30: 100%|██████████| 394/394 [00:14<00:00, 26.84it/s]\n"
     ]
    },
    {
     "name": "stdout",
     "output_type": "stream",
     "text": [
      "Epoch [20/30], Training Loss: 0.2064, Training Accuracy: 94.44%\n",
      "Epoch [20/30], Validation Loss: 3.1779, Validation Accuracy: 34.43%\n"
     ]
    },
    {
     "name": "stderr",
     "output_type": "stream",
     "text": [
      "Training Epoch 21/30: 100%|██████████| 394/394 [00:15<00:00, 24.77it/s]\n"
     ]
    },
    {
     "name": "stdout",
     "output_type": "stream",
     "text": [
      "Epoch [21/30], Training Loss: 0.1802, Training Accuracy: 95.06%\n",
      "Epoch [21/30], Validation Loss: 3.3010, Validation Accuracy: 34.40%\n"
     ]
    },
    {
     "name": "stderr",
     "output_type": "stream",
     "text": [
      "Training Epoch 22/30: 100%|██████████| 394/394 [00:15<00:00, 25.52it/s]\n"
     ]
    },
    {
     "name": "stdout",
     "output_type": "stream",
     "text": [
      "Epoch [22/30], Training Loss: 0.1536, Training Accuracy: 95.82%\n",
      "Epoch [22/30], Validation Loss: 3.1397, Validation Accuracy: 36.37%\n"
     ]
    },
    {
     "name": "stderr",
     "output_type": "stream",
     "text": [
      "Training Epoch 23/30: 100%|██████████| 394/394 [00:15<00:00, 25.63it/s]\n"
     ]
    },
    {
     "name": "stdout",
     "output_type": "stream",
     "text": [
      "Epoch [23/30], Training Loss: 0.1390, Training Accuracy: 96.49%\n",
      "Epoch [23/30], Validation Loss: 3.0765, Validation Accuracy: 36.97%\n"
     ]
    },
    {
     "name": "stderr",
     "output_type": "stream",
     "text": [
      "Training Epoch 24/30: 100%|██████████| 394/394 [00:14<00:00, 26.35it/s]\n"
     ]
    },
    {
     "name": "stdout",
     "output_type": "stream",
     "text": [
      "Epoch [24/30], Training Loss: 0.1450, Training Accuracy: 95.90%\n",
      "Epoch [24/30], Validation Loss: 3.4806, Validation Accuracy: 35.67%\n"
     ]
    },
    {
     "name": "stderr",
     "output_type": "stream",
     "text": [
      "Training Epoch 25/30: 100%|██████████| 394/394 [00:15<00:00, 25.90it/s]\n"
     ]
    },
    {
     "name": "stdout",
     "output_type": "stream",
     "text": [
      "Epoch [25/30], Training Loss: 0.1177, Training Accuracy: 96.70%\n",
      "Epoch [25/30], Validation Loss: 3.5673, Validation Accuracy: 35.67%\n"
     ]
    },
    {
     "name": "stderr",
     "output_type": "stream",
     "text": [
      "Training Epoch 26/30: 100%|██████████| 394/394 [00:14<00:00, 27.79it/s]\n"
     ]
    },
    {
     "name": "stdout",
     "output_type": "stream",
     "text": [
      "Epoch [26/30], Training Loss: 0.1188, Training Accuracy: 96.71%\n",
      "Epoch [26/30], Validation Loss: 3.5397, Validation Accuracy: 36.30%\n"
     ]
    },
    {
     "name": "stderr",
     "output_type": "stream",
     "text": [
      "Training Epoch 27/30: 100%|██████████| 394/394 [00:14<00:00, 26.50it/s]\n"
     ]
    },
    {
     "name": "stdout",
     "output_type": "stream",
     "text": [
      "Epoch [27/30], Training Loss: 0.1079, Training Accuracy: 97.04%\n",
      "Epoch [27/30], Validation Loss: 3.6159, Validation Accuracy: 37.63%\n"
     ]
    },
    {
     "name": "stderr",
     "output_type": "stream",
     "text": [
      "Training Epoch 28/30: 100%|██████████| 394/394 [00:14<00:00, 26.87it/s]\n"
     ]
    },
    {
     "name": "stdout",
     "output_type": "stream",
     "text": [
      "Epoch [28/30], Training Loss: 0.0965, Training Accuracy: 97.37%\n",
      "Epoch [28/30], Validation Loss: 3.3693, Validation Accuracy: 37.30%\n"
     ]
    },
    {
     "name": "stderr",
     "output_type": "stream",
     "text": [
      "Training Epoch 29/30: 100%|██████████| 394/394 [00:14<00:00, 27.81it/s]\n"
     ]
    },
    {
     "name": "stdout",
     "output_type": "stream",
     "text": [
      "Epoch [29/30], Training Loss: 0.0942, Training Accuracy: 97.38%\n",
      "Epoch [29/30], Validation Loss: 3.7012, Validation Accuracy: 38.17%\n"
     ]
    },
    {
     "name": "stderr",
     "output_type": "stream",
     "text": [
      "Training Epoch 30/30: 100%|██████████| 394/394 [00:14<00:00, 26.27it/s]\n"
     ]
    },
    {
     "name": "stdout",
     "output_type": "stream",
     "text": [
      "Epoch [30/30], Training Loss: 0.0856, Training Accuracy: 97.72%\n",
      "Epoch [30/30], Validation Loss: 3.7241, Validation Accuracy: 36.00%\n",
      "Evaluation on Validation Set\n",
      "Exact Match Accuracy: 36.00%\n",
      "Hamming Accuracy: 95.45%\n",
      "Evaluation on Test Set\n",
      "Exact Match Accuracy: 29.17%\n",
      "Hamming Accuracy: 95.13%\n",
      "\n",
      "Multilabel CNN for 30 epochs with learning rate = 0.0012, Dropout = 0.2, 3 convolutional layers, relu activation and adam optimizer\n"
     ]
    },
    {
     "name": "stderr",
     "output_type": "stream",
     "text": [
      "Training Epoch 1/30: 100%|██████████| 394/394 [00:16<00:00, 23.40it/s]\n"
     ]
    },
    {
     "name": "stdout",
     "output_type": "stream",
     "text": [
      "Epoch [1/30], Training Loss: 4.8593, Training Accuracy: 7.43%\n",
      "Epoch [1/30], Validation Loss: 4.9073, Validation Accuracy: 4.87%\n"
     ]
    },
    {
     "name": "stderr",
     "output_type": "stream",
     "text": [
      "Training Epoch 2/30: 100%|██████████| 394/394 [00:16<00:00, 23.96it/s]\n"
     ]
    },
    {
     "name": "stdout",
     "output_type": "stream",
     "text": [
      "Epoch [2/30], Training Loss: 4.1196, Training Accuracy: 11.52%\n",
      "Epoch [2/30], Validation Loss: 4.8245, Validation Accuracy: 4.37%\n"
     ]
    },
    {
     "name": "stderr",
     "output_type": "stream",
     "text": [
      "Training Epoch 3/30: 100%|██████████| 394/394 [00:18<00:00, 20.76it/s]\n"
     ]
    },
    {
     "name": "stdout",
     "output_type": "stream",
     "text": [
      "Epoch [3/30], Training Loss: 3.6255, Training Accuracy: 16.14%\n",
      "Epoch [3/30], Validation Loss: 4.6242, Validation Accuracy: 4.00%\n"
     ]
    },
    {
     "name": "stderr",
     "output_type": "stream",
     "text": [
      "Training Epoch 4/30: 100%|██████████| 394/394 [00:16<00:00, 23.76it/s]\n"
     ]
    },
    {
     "name": "stdout",
     "output_type": "stream",
     "text": [
      "Epoch [4/30], Training Loss: 3.3257, Training Accuracy: 18.58%\n",
      "Epoch [4/30], Validation Loss: 4.1913, Validation Accuracy: 6.57%\n"
     ]
    },
    {
     "name": "stderr",
     "output_type": "stream",
     "text": [
      "Training Epoch 5/30: 100%|██████████| 394/394 [00:17<00:00, 22.29it/s]\n"
     ]
    },
    {
     "name": "stdout",
     "output_type": "stream",
     "text": [
      "Epoch [5/30], Training Loss: 3.1375, Training Accuracy: 21.25%\n",
      "Epoch [5/30], Validation Loss: 4.4958, Validation Accuracy: 7.50%\n"
     ]
    },
    {
     "name": "stderr",
     "output_type": "stream",
     "text": [
      "Training Epoch 6/30: 100%|██████████| 394/394 [00:17<00:00, 22.28it/s]\n"
     ]
    },
    {
     "name": "stdout",
     "output_type": "stream",
     "text": [
      "Epoch [6/30], Training Loss: 2.9396, Training Accuracy: 23.67%\n",
      "Epoch [6/30], Validation Loss: 4.1153, Validation Accuracy: 7.73%\n"
     ]
    },
    {
     "name": "stderr",
     "output_type": "stream",
     "text": [
      "Training Epoch 7/30: 100%|██████████| 394/394 [00:19<00:00, 20.39it/s]\n"
     ]
    },
    {
     "name": "stdout",
     "output_type": "stream",
     "text": [
      "Epoch [7/30], Training Loss: 2.7932, Training Accuracy: 27.22%\n",
      "Epoch [7/30], Validation Loss: 4.2662, Validation Accuracy: 8.13%\n"
     ]
    },
    {
     "name": "stderr",
     "output_type": "stream",
     "text": [
      "Training Epoch 8/30: 100%|██████████| 394/394 [00:17<00:00, 22.08it/s]\n"
     ]
    },
    {
     "name": "stdout",
     "output_type": "stream",
     "text": [
      "Epoch [8/30], Training Loss: 2.6025, Training Accuracy: 30.71%\n",
      "Epoch [8/30], Validation Loss: 3.7135, Validation Accuracy: 13.23%\n"
     ]
    },
    {
     "name": "stderr",
     "output_type": "stream",
     "text": [
      "Training Epoch 9/30: 100%|██████████| 394/394 [00:17<00:00, 22.15it/s]\n"
     ]
    },
    {
     "name": "stdout",
     "output_type": "stream",
     "text": [
      "Epoch [9/30], Training Loss: 2.3567, Training Accuracy: 36.81%\n",
      "Epoch [9/30], Validation Loss: 3.4182, Validation Accuracy: 17.37%\n"
     ]
    },
    {
     "name": "stderr",
     "output_type": "stream",
     "text": [
      "Training Epoch 10/30: 100%|██████████| 394/394 [00:17<00:00, 22.30it/s]\n"
     ]
    },
    {
     "name": "stdout",
     "output_type": "stream",
     "text": [
      "Epoch [10/30], Training Loss: 2.1262, Training Accuracy: 41.66%\n",
      "Epoch [10/30], Validation Loss: 3.1991, Validation Accuracy: 21.50%\n"
     ]
    },
    {
     "name": "stderr",
     "output_type": "stream",
     "text": [
      "Training Epoch 11/30: 100%|██████████| 394/394 [00:18<00:00, 21.82it/s]\n"
     ]
    },
    {
     "name": "stdout",
     "output_type": "stream",
     "text": [
      "Epoch [11/30], Training Loss: 1.9609, Training Accuracy: 45.57%\n",
      "Epoch [11/30], Validation Loss: 3.3757, Validation Accuracy: 22.20%\n"
     ]
    },
    {
     "name": "stderr",
     "output_type": "stream",
     "text": [
      "Training Epoch 12/30: 100%|██████████| 394/394 [00:17<00:00, 22.30it/s]\n"
     ]
    },
    {
     "name": "stdout",
     "output_type": "stream",
     "text": [
      "Epoch [12/30], Training Loss: 1.7971, Training Accuracy: 49.10%\n",
      "Epoch [12/30], Validation Loss: 3.0847, Validation Accuracy: 23.80%\n"
     ]
    },
    {
     "name": "stderr",
     "output_type": "stream",
     "text": [
      "Training Epoch 13/30: 100%|██████████| 394/394 [00:17<00:00, 22.09it/s]\n"
     ]
    },
    {
     "name": "stdout",
     "output_type": "stream",
     "text": [
      "Epoch [13/30], Training Loss: 1.6618, Training Accuracy: 52.77%\n",
      "Epoch [13/30], Validation Loss: 3.3069, Validation Accuracy: 24.97%\n"
     ]
    },
    {
     "name": "stderr",
     "output_type": "stream",
     "text": [
      "Training Epoch 14/30: 100%|██████████| 394/394 [00:18<00:00, 21.47it/s]\n"
     ]
    },
    {
     "name": "stdout",
     "output_type": "stream",
     "text": [
      "Epoch [14/30], Training Loss: 1.5517, Training Accuracy: 55.25%\n",
      "Epoch [14/30], Validation Loss: 3.2234, Validation Accuracy: 28.87%\n"
     ]
    },
    {
     "name": "stderr",
     "output_type": "stream",
     "text": [
      "Training Epoch 15/30: 100%|██████████| 394/394 [00:19<00:00, 20.38it/s]\n"
     ]
    },
    {
     "name": "stdout",
     "output_type": "stream",
     "text": [
      "Epoch [15/30], Training Loss: 1.4451, Training Accuracy: 58.28%\n",
      "Epoch [15/30], Validation Loss: 3.1389, Validation Accuracy: 29.03%\n"
     ]
    },
    {
     "name": "stderr",
     "output_type": "stream",
     "text": [
      "Training Epoch 16/30: 100%|██████████| 394/394 [00:18<00:00, 20.86it/s]\n"
     ]
    },
    {
     "name": "stdout",
     "output_type": "stream",
     "text": [
      "Epoch [16/30], Training Loss: 1.3128, Training Accuracy: 61.52%\n",
      "Epoch [16/30], Validation Loss: 3.1421, Validation Accuracy: 32.23%\n"
     ]
    },
    {
     "name": "stderr",
     "output_type": "stream",
     "text": [
      "Training Epoch 17/30: 100%|██████████| 394/394 [00:17<00:00, 22.00it/s]\n"
     ]
    },
    {
     "name": "stdout",
     "output_type": "stream",
     "text": [
      "Epoch [17/30], Training Loss: 1.1963, Training Accuracy: 64.53%\n",
      "Epoch [17/30], Validation Loss: 2.8311, Validation Accuracy: 34.93%\n"
     ]
    },
    {
     "name": "stderr",
     "output_type": "stream",
     "text": [
      "Training Epoch 18/30: 100%|██████████| 394/394 [00:18<00:00, 21.55it/s]\n"
     ]
    },
    {
     "name": "stdout",
     "output_type": "stream",
     "text": [
      "Epoch [18/30], Training Loss: 1.1003, Training Accuracy: 67.55%\n",
      "Epoch [18/30], Validation Loss: 3.0127, Validation Accuracy: 36.80%\n"
     ]
    },
    {
     "name": "stderr",
     "output_type": "stream",
     "text": [
      "Training Epoch 19/30: 100%|██████████| 394/394 [00:17<00:00, 22.08it/s]\n"
     ]
    },
    {
     "name": "stdout",
     "output_type": "stream",
     "text": [
      "Epoch [19/30], Training Loss: 1.0126, Training Accuracy: 69.37%\n",
      "Epoch [19/30], Validation Loss: 3.0871, Validation Accuracy: 38.50%\n"
     ]
    },
    {
     "name": "stderr",
     "output_type": "stream",
     "text": [
      "Training Epoch 20/30: 100%|██████████| 394/394 [00:17<00:00, 22.01it/s]\n"
     ]
    },
    {
     "name": "stdout",
     "output_type": "stream",
     "text": [
      "Epoch [20/30], Training Loss: 0.9307, Training Accuracy: 71.93%\n",
      "Epoch [20/30], Validation Loss: 2.7683, Validation Accuracy: 40.00%\n"
     ]
    },
    {
     "name": "stderr",
     "output_type": "stream",
     "text": [
      "Training Epoch 21/30: 100%|██████████| 394/394 [00:18<00:00, 21.10it/s]\n"
     ]
    },
    {
     "name": "stdout",
     "output_type": "stream",
     "text": [
      "Epoch [21/30], Training Loss: 0.8559, Training Accuracy: 74.23%\n",
      "Epoch [21/30], Validation Loss: 2.8789, Validation Accuracy: 42.00%\n"
     ]
    },
    {
     "name": "stderr",
     "output_type": "stream",
     "text": [
      "Training Epoch 22/30: 100%|██████████| 394/394 [00:18<00:00, 21.59it/s]\n"
     ]
    },
    {
     "name": "stdout",
     "output_type": "stream",
     "text": [
      "Epoch [22/30], Training Loss: 0.7939, Training Accuracy: 75.52%\n",
      "Epoch [22/30], Validation Loss: 2.6451, Validation Accuracy: 43.33%\n"
     ]
    },
    {
     "name": "stderr",
     "output_type": "stream",
     "text": [
      "Training Epoch 23/30: 100%|██████████| 394/394 [00:17<00:00, 22.73it/s]\n"
     ]
    },
    {
     "name": "stdout",
     "output_type": "stream",
     "text": [
      "Epoch [23/30], Training Loss: 0.7443, Training Accuracy: 76.74%\n",
      "Epoch [23/30], Validation Loss: 3.0045, Validation Accuracy: 39.97%\n"
     ]
    },
    {
     "name": "stderr",
     "output_type": "stream",
     "text": [
      "Training Epoch 24/30: 100%|██████████| 394/394 [00:19<00:00, 20.24it/s]\n"
     ]
    },
    {
     "name": "stdout",
     "output_type": "stream",
     "text": [
      "Epoch [24/30], Training Loss: 0.6805, Training Accuracy: 78.33%\n",
      "Epoch [24/30], Validation Loss: 3.2163, Validation Accuracy: 42.37%\n"
     ]
    },
    {
     "name": "stderr",
     "output_type": "stream",
     "text": [
      "Training Epoch 25/30: 100%|██████████| 394/394 [00:18<00:00, 21.62it/s]\n"
     ]
    },
    {
     "name": "stdout",
     "output_type": "stream",
     "text": [
      "Epoch [25/30], Training Loss: 0.6435, Training Accuracy: 79.70%\n",
      "Epoch [25/30], Validation Loss: 3.0178, Validation Accuracy: 43.60%\n"
     ]
    },
    {
     "name": "stderr",
     "output_type": "stream",
     "text": [
      "Training Epoch 26/30: 100%|██████████| 394/394 [00:17<00:00, 22.53it/s]\n"
     ]
    },
    {
     "name": "stdout",
     "output_type": "stream",
     "text": [
      "Epoch [26/30], Training Loss: 0.6248, Training Accuracy: 80.13%\n",
      "Epoch [26/30], Validation Loss: 3.0639, Validation Accuracy: 42.27%\n"
     ]
    },
    {
     "name": "stderr",
     "output_type": "stream",
     "text": [
      "Training Epoch 27/30: 100%|██████████| 394/394 [00:18<00:00, 20.81it/s]\n"
     ]
    },
    {
     "name": "stdout",
     "output_type": "stream",
     "text": [
      "Epoch [27/30], Training Loss: 0.5714, Training Accuracy: 81.46%\n",
      "Epoch [27/30], Validation Loss: 3.0723, Validation Accuracy: 46.30%\n"
     ]
    },
    {
     "name": "stderr",
     "output_type": "stream",
     "text": [
      "Training Epoch 28/30: 100%|██████████| 394/394 [00:17<00:00, 22.06it/s]\n"
     ]
    },
    {
     "name": "stdout",
     "output_type": "stream",
     "text": [
      "Epoch [28/30], Training Loss: 0.5311, Training Accuracy: 82.83%\n",
      "Epoch [28/30], Validation Loss: 3.0213, Validation Accuracy: 43.57%\n"
     ]
    },
    {
     "name": "stderr",
     "output_type": "stream",
     "text": [
      "Training Epoch 29/30: 100%|██████████| 394/394 [00:17<00:00, 22.14it/s]\n"
     ]
    },
    {
     "name": "stdout",
     "output_type": "stream",
     "text": [
      "Epoch [29/30], Training Loss: 0.5006, Training Accuracy: 83.82%\n",
      "Epoch [29/30], Validation Loss: 2.9515, Validation Accuracy: 45.60%\n"
     ]
    },
    {
     "name": "stderr",
     "output_type": "stream",
     "text": [
      "Training Epoch 30/30: 100%|██████████| 394/394 [00:20<00:00, 19.19it/s]\n"
     ]
    },
    {
     "name": "stdout",
     "output_type": "stream",
     "text": [
      "Epoch [30/30], Training Loss: 0.4702, Training Accuracy: 84.85%\n",
      "Epoch [30/30], Validation Loss: 3.4737, Validation Accuracy: 43.33%\n",
      "Evaluation on Validation Set\n",
      "Exact Match Accuracy: 43.33%\n",
      "Hamming Accuracy: 96.16%\n",
      "Evaluation on Test Set\n",
      "Exact Match Accuracy: 32.37%\n",
      "Hamming Accuracy: 95.60%\n",
      "\n",
      "Multilabel CNN for 30 epochs with learning rate = 0.0007, Dropout = 0.2, 2 convolutional layers, tanh activation and sgd optimizer\n"
     ]
    },
    {
     "name": "stderr",
     "output_type": "stream",
     "text": [
      "Training Epoch 1/30: 100%|██████████| 394/394 [00:12<00:00, 30.90it/s]\n"
     ]
    },
    {
     "name": "stdout",
     "output_type": "stream",
     "text": [
      "Epoch [1/30], Training Loss: 5.8393, Training Accuracy: 3.60%\n",
      "Epoch [1/30], Validation Loss: 5.8921, Validation Accuracy: 0.00%\n"
     ]
    },
    {
     "name": "stderr",
     "output_type": "stream",
     "text": [
      "Training Epoch 2/30: 100%|██████████| 394/394 [00:13<00:00, 29.16it/s]\n"
     ]
    },
    {
     "name": "stdout",
     "output_type": "stream",
     "text": [
      "Epoch [2/30], Training Loss: 5.6690, Training Accuracy: 4.29%\n",
      "Epoch [2/30], Validation Loss: 5.7101, Validation Accuracy: 0.00%\n"
     ]
    },
    {
     "name": "stderr",
     "output_type": "stream",
     "text": [
      "Training Epoch 3/30: 100%|██████████| 394/394 [00:14<00:00, 26.93it/s]\n"
     ]
    },
    {
     "name": "stdout",
     "output_type": "stream",
     "text": [
      "Epoch [3/30], Training Loss: 5.2365, Training Accuracy: 4.79%\n",
      "Epoch [3/30], Validation Loss: 5.1298, Validation Accuracy: 3.43%\n"
     ]
    },
    {
     "name": "stderr",
     "output_type": "stream",
     "text": [
      "Training Epoch 4/30: 100%|██████████| 394/394 [00:13<00:00, 29.99it/s]\n"
     ]
    },
    {
     "name": "stdout",
     "output_type": "stream",
     "text": [
      "Epoch [4/30], Training Loss: 4.8038, Training Accuracy: 5.74%\n",
      "Epoch [4/30], Validation Loss: 4.9702, Validation Accuracy: 3.33%\n"
     ]
    },
    {
     "name": "stderr",
     "output_type": "stream",
     "text": [
      "Training Epoch 5/30: 100%|██████████| 394/394 [00:13<00:00, 28.29it/s]\n"
     ]
    },
    {
     "name": "stdout",
     "output_type": "stream",
     "text": [
      "Epoch [5/30], Training Loss: 4.6618, Training Accuracy: 6.44%\n",
      "Epoch [5/30], Validation Loss: 4.8987, Validation Accuracy: 3.87%\n"
     ]
    },
    {
     "name": "stderr",
     "output_type": "stream",
     "text": [
      "Training Epoch 6/30: 100%|██████████| 394/394 [00:12<00:00, 30.46it/s]\n"
     ]
    },
    {
     "name": "stdout",
     "output_type": "stream",
     "text": [
      "Epoch [6/30], Training Loss: 4.5955, Training Accuracy: 6.87%\n",
      "Epoch [6/30], Validation Loss: 4.9028, Validation Accuracy: 3.57%\n"
     ]
    },
    {
     "name": "stderr",
     "output_type": "stream",
     "text": [
      "Training Epoch 7/30: 100%|██████████| 394/394 [00:13<00:00, 28.21it/s]\n"
     ]
    },
    {
     "name": "stdout",
     "output_type": "stream",
     "text": [
      "Epoch [7/30], Training Loss: 4.5507, Training Accuracy: 7.09%\n",
      "Epoch [7/30], Validation Loss: 4.8610, Validation Accuracy: 4.40%\n"
     ]
    },
    {
     "name": "stderr",
     "output_type": "stream",
     "text": [
      "Training Epoch 8/30: 100%|██████████| 394/394 [00:13<00:00, 29.09it/s]\n"
     ]
    },
    {
     "name": "stdout",
     "output_type": "stream",
     "text": [
      "Epoch [8/30], Training Loss: 4.5123, Training Accuracy: 7.42%\n",
      "Epoch [8/30], Validation Loss: 4.8759, Validation Accuracy: 4.90%\n"
     ]
    },
    {
     "name": "stderr",
     "output_type": "stream",
     "text": [
      "Training Epoch 9/30: 100%|██████████| 394/394 [00:13<00:00, 30.06it/s]\n"
     ]
    },
    {
     "name": "stdout",
     "output_type": "stream",
     "text": [
      "Epoch [9/30], Training Loss: 4.4816, Training Accuracy: 7.56%\n",
      "Epoch [9/30], Validation Loss: 4.8691, Validation Accuracy: 4.90%\n"
     ]
    },
    {
     "name": "stderr",
     "output_type": "stream",
     "text": [
      "Training Epoch 10/30: 100%|██████████| 394/394 [00:13<00:00, 29.58it/s]\n"
     ]
    },
    {
     "name": "stdout",
     "output_type": "stream",
     "text": [
      "Epoch [10/30], Training Loss: 4.4518, Training Accuracy: 8.24%\n",
      "Epoch [10/30], Validation Loss: 4.8691, Validation Accuracy: 4.67%\n"
     ]
    },
    {
     "name": "stderr",
     "output_type": "stream",
     "text": [
      "Training Epoch 11/30: 100%|██████████| 394/394 [00:13<00:00, 28.90it/s]\n"
     ]
    },
    {
     "name": "stdout",
     "output_type": "stream",
     "text": [
      "Epoch [11/30], Training Loss: 4.4166, Training Accuracy: 8.64%\n",
      "Epoch [11/30], Validation Loss: 4.8355, Validation Accuracy: 4.97%\n"
     ]
    },
    {
     "name": "stderr",
     "output_type": "stream",
     "text": [
      "Training Epoch 12/30: 100%|██████████| 394/394 [00:13<00:00, 29.54it/s]\n"
     ]
    },
    {
     "name": "stdout",
     "output_type": "stream",
     "text": [
      "Epoch [12/30], Training Loss: 4.3875, Training Accuracy: 8.87%\n",
      "Epoch [12/30], Validation Loss: 4.8476, Validation Accuracy: 5.03%\n"
     ]
    },
    {
     "name": "stderr",
     "output_type": "stream",
     "text": [
      "Training Epoch 13/30: 100%|██████████| 394/394 [00:12<00:00, 30.61it/s]\n"
     ]
    },
    {
     "name": "stdout",
     "output_type": "stream",
     "text": [
      "Epoch [13/30], Training Loss: 4.3600, Training Accuracy: 9.07%\n",
      "Epoch [13/30], Validation Loss: 4.7919, Validation Accuracy: 5.63%\n"
     ]
    },
    {
     "name": "stderr",
     "output_type": "stream",
     "text": [
      "Training Epoch 14/30: 100%|██████████| 394/394 [00:13<00:00, 28.70it/s]\n"
     ]
    },
    {
     "name": "stdout",
     "output_type": "stream",
     "text": [
      "Epoch [14/30], Training Loss: 4.3380, Training Accuracy: 9.63%\n",
      "Epoch [14/30], Validation Loss: 4.8309, Validation Accuracy: 6.37%\n"
     ]
    },
    {
     "name": "stderr",
     "output_type": "stream",
     "text": [
      "Training Epoch 15/30: 100%|██████████| 394/394 [00:13<00:00, 29.20it/s]\n"
     ]
    },
    {
     "name": "stdout",
     "output_type": "stream",
     "text": [
      "Epoch [15/30], Training Loss: 4.3154, Training Accuracy: 9.62%\n",
      "Epoch [15/30], Validation Loss: 4.8504, Validation Accuracy: 5.10%\n"
     ]
    },
    {
     "name": "stderr",
     "output_type": "stream",
     "text": [
      "Training Epoch 16/30: 100%|██████████| 394/394 [00:13<00:00, 28.75it/s]\n"
     ]
    },
    {
     "name": "stdout",
     "output_type": "stream",
     "text": [
      "Epoch [16/30], Training Loss: 4.2988, Training Accuracy: 10.13%\n",
      "Epoch [16/30], Validation Loss: 4.9453, Validation Accuracy: 4.27%\n"
     ]
    },
    {
     "name": "stderr",
     "output_type": "stream",
     "text": [
      "Training Epoch 17/30: 100%|██████████| 394/394 [00:14<00:00, 28.00it/s]\n"
     ]
    },
    {
     "name": "stdout",
     "output_type": "stream",
     "text": [
      "Epoch [17/30], Training Loss: 4.2728, Training Accuracy: 10.21%\n",
      "Epoch [17/30], Validation Loss: 4.9141, Validation Accuracy: 5.20%\n"
     ]
    },
    {
     "name": "stderr",
     "output_type": "stream",
     "text": [
      "Training Epoch 18/30: 100%|██████████| 394/394 [00:15<00:00, 25.97it/s]\n"
     ]
    },
    {
     "name": "stdout",
     "output_type": "stream",
     "text": [
      "Epoch [18/30], Training Loss: 4.2504, Training Accuracy: 10.48%\n",
      "Epoch [18/30], Validation Loss: 4.8881, Validation Accuracy: 5.10%\n"
     ]
    },
    {
     "name": "stderr",
     "output_type": "stream",
     "text": [
      "Training Epoch 19/30: 100%|██████████| 394/394 [00:15<00:00, 24.94it/s]\n"
     ]
    },
    {
     "name": "stdout",
     "output_type": "stream",
     "text": [
      "Epoch [19/30], Training Loss: 4.2258, Training Accuracy: 10.63%\n",
      "Epoch [19/30], Validation Loss: 4.8573, Validation Accuracy: 6.20%\n"
     ]
    },
    {
     "name": "stderr",
     "output_type": "stream",
     "text": [
      "Training Epoch 20/30: 100%|██████████| 394/394 [00:14<00:00, 26.71it/s]\n"
     ]
    },
    {
     "name": "stdout",
     "output_type": "stream",
     "text": [
      "Epoch [20/30], Training Loss: 4.2075, Training Accuracy: 10.82%\n",
      "Epoch [20/30], Validation Loss: 4.8816, Validation Accuracy: 5.80%\n"
     ]
    },
    {
     "name": "stderr",
     "output_type": "stream",
     "text": [
      "Training Epoch 21/30: 100%|██████████| 394/394 [00:14<00:00, 28.01it/s]\n"
     ]
    },
    {
     "name": "stdout",
     "output_type": "stream",
     "text": [
      "Epoch [21/30], Training Loss: 4.2001, Training Accuracy: 11.27%\n",
      "Epoch [21/30], Validation Loss: 4.8242, Validation Accuracy: 5.07%\n"
     ]
    },
    {
     "name": "stderr",
     "output_type": "stream",
     "text": [
      "Training Epoch 22/30: 100%|██████████| 394/394 [00:13<00:00, 29.11it/s]\n"
     ]
    },
    {
     "name": "stdout",
     "output_type": "stream",
     "text": [
      "Epoch [22/30], Training Loss: 4.1867, Training Accuracy: 10.75%\n",
      "Epoch [22/30], Validation Loss: 4.7884, Validation Accuracy: 5.93%\n"
     ]
    },
    {
     "name": "stderr",
     "output_type": "stream",
     "text": [
      "Training Epoch 23/30: 100%|██████████| 394/394 [00:16<00:00, 23.47it/s]\n"
     ]
    },
    {
     "name": "stdout",
     "output_type": "stream",
     "text": [
      "Epoch [23/30], Training Loss: 4.1691, Training Accuracy: 11.05%\n",
      "Epoch [23/30], Validation Loss: 4.8270, Validation Accuracy: 5.23%\n"
     ]
    },
    {
     "name": "stderr",
     "output_type": "stream",
     "text": [
      "Training Epoch 24/30: 100%|██████████| 394/394 [00:14<00:00, 28.14it/s]\n"
     ]
    },
    {
     "name": "stdout",
     "output_type": "stream",
     "text": [
      "Epoch [24/30], Training Loss: 4.1492, Training Accuracy: 11.45%\n",
      "Epoch [24/30], Validation Loss: 4.9104, Validation Accuracy: 6.00%\n"
     ]
    },
    {
     "name": "stderr",
     "output_type": "stream",
     "text": [
      "Training Epoch 25/30: 100%|██████████| 394/394 [00:14<00:00, 26.33it/s]\n"
     ]
    },
    {
     "name": "stdout",
     "output_type": "stream",
     "text": [
      "Epoch [25/30], Training Loss: 4.1345, Training Accuracy: 11.26%\n",
      "Epoch [25/30], Validation Loss: 4.8805, Validation Accuracy: 4.73%\n"
     ]
    },
    {
     "name": "stderr",
     "output_type": "stream",
     "text": [
      "Training Epoch 26/30: 100%|██████████| 394/394 [00:14<00:00, 26.44it/s]\n"
     ]
    },
    {
     "name": "stdout",
     "output_type": "stream",
     "text": [
      "Epoch [26/30], Training Loss: 4.1216, Training Accuracy: 11.17%\n",
      "Epoch [26/30], Validation Loss: 4.8197, Validation Accuracy: 5.07%\n"
     ]
    },
    {
     "name": "stderr",
     "output_type": "stream",
     "text": [
      "Training Epoch 27/30: 100%|██████████| 394/394 [00:12<00:00, 30.88it/s]\n"
     ]
    },
    {
     "name": "stdout",
     "output_type": "stream",
     "text": [
      "Epoch [27/30], Training Loss: 4.1044, Training Accuracy: 12.03%\n",
      "Epoch [27/30], Validation Loss: 4.8827, Validation Accuracy: 4.87%\n"
     ]
    },
    {
     "name": "stderr",
     "output_type": "stream",
     "text": [
      "Training Epoch 28/30: 100%|██████████| 394/394 [00:10<00:00, 38.10it/s]\n"
     ]
    },
    {
     "name": "stdout",
     "output_type": "stream",
     "text": [
      "Epoch [28/30], Training Loss: 4.0960, Training Accuracy: 11.85%\n",
      "Epoch [28/30], Validation Loss: 4.8264, Validation Accuracy: 5.83%\n"
     ]
    },
    {
     "name": "stderr",
     "output_type": "stream",
     "text": [
      "Training Epoch 29/30: 100%|██████████| 394/394 [00:12<00:00, 30.71it/s]\n"
     ]
    },
    {
     "name": "stdout",
     "output_type": "stream",
     "text": [
      "Epoch [29/30], Training Loss: 4.0840, Training Accuracy: 11.91%\n",
      "Epoch [29/30], Validation Loss: 4.9537, Validation Accuracy: 4.57%\n"
     ]
    },
    {
     "name": "stderr",
     "output_type": "stream",
     "text": [
      "Training Epoch 30/30: 100%|██████████| 394/394 [00:14<00:00, 27.02it/s]\n"
     ]
    },
    {
     "name": "stdout",
     "output_type": "stream",
     "text": [
      "Epoch [30/30], Training Loss: 4.0736, Training Accuracy: 11.77%\n",
      "Epoch [30/30], Validation Loss: 4.8498, Validation Accuracy: 5.20%\n",
      "Evaluation on Validation Set\n",
      "Exact Match Accuracy: 5.20%\n",
      "Hamming Accuracy: 89.86%\n",
      "Evaluation on Test Set\n",
      "Exact Match Accuracy: 2.54%\n",
      "Hamming Accuracy: 90.06%\n",
      "\n",
      "Multilabel CNN for 30 epochs with learning rate = 0.0007, Dropout = 0.2, 3 convolutional layers, relu activation and sgd optimizer\n"
     ]
    },
    {
     "name": "stderr",
     "output_type": "stream",
     "text": [
      "Training Epoch 1/30: 100%|██████████| 394/394 [00:11<00:00, 34.25it/s]\n"
     ]
    },
    {
     "name": "stdout",
     "output_type": "stream",
     "text": [
      "Epoch [1/30], Training Loss: 6.1081, Training Accuracy: 3.55%\n",
      "Epoch [1/30], Validation Loss: 5.9530, Validation Accuracy: 0.00%\n"
     ]
    },
    {
     "name": "stderr",
     "output_type": "stream",
     "text": [
      "Training Epoch 2/30: 100%|██████████| 394/394 [00:12<00:00, 31.36it/s]\n"
     ]
    },
    {
     "name": "stdout",
     "output_type": "stream",
     "text": [
      "Epoch [2/30], Training Loss: 5.7797, Training Accuracy: 3.55%\n",
      "Epoch [2/30], Validation Loss: 5.9225, Validation Accuracy: 0.00%\n"
     ]
    },
    {
     "name": "stderr",
     "output_type": "stream",
     "text": [
      "Training Epoch 3/30: 100%|██████████| 394/394 [00:15<00:00, 26.16it/s]\n"
     ]
    },
    {
     "name": "stdout",
     "output_type": "stream",
     "text": [
      "Epoch [3/30], Training Loss: 5.7616, Training Accuracy: 3.82%\n",
      "Epoch [3/30], Validation Loss: 5.9042, Validation Accuracy: 3.33%\n"
     ]
    },
    {
     "name": "stderr",
     "output_type": "stream",
     "text": [
      "Training Epoch 4/30: 100%|██████████| 394/394 [00:15<00:00, 24.89it/s]\n"
     ]
    },
    {
     "name": "stdout",
     "output_type": "stream",
     "text": [
      "Epoch [4/30], Training Loss: 5.7515, Training Accuracy: 3.96%\n",
      "Epoch [4/30], Validation Loss: 5.9054, Validation Accuracy: 0.00%\n"
     ]
    },
    {
     "name": "stderr",
     "output_type": "stream",
     "text": [
      "Training Epoch 5/30: 100%|██████████| 394/394 [00:14<00:00, 28.09it/s]\n"
     ]
    },
    {
     "name": "stdout",
     "output_type": "stream",
     "text": [
      "Epoch [5/30], Training Loss: 5.7404, Training Accuracy: 3.90%\n",
      "Epoch [5/30], Validation Loss: 5.8827, Validation Accuracy: 0.00%\n"
     ]
    },
    {
     "name": "stderr",
     "output_type": "stream",
     "text": [
      "Training Epoch 6/30: 100%|██████████| 394/394 [00:12<00:00, 30.56it/s]\n"
     ]
    },
    {
     "name": "stdout",
     "output_type": "stream",
     "text": [
      "Epoch [6/30], Training Loss: 5.7150, Training Accuracy: 3.89%\n",
      "Epoch [6/30], Validation Loss: 5.8374, Validation Accuracy: 3.33%\n"
     ]
    },
    {
     "name": "stderr",
     "output_type": "stream",
     "text": [
      "Training Epoch 7/30: 100%|██████████| 394/394 [00:13<00:00, 30.03it/s]\n"
     ]
    },
    {
     "name": "stdout",
     "output_type": "stream",
     "text": [
      "Epoch [7/30], Training Loss: 5.5926, Training Accuracy: 4.01%\n",
      "Epoch [7/30], Validation Loss: 5.6037, Validation Accuracy: 0.00%\n"
     ]
    },
    {
     "name": "stderr",
     "output_type": "stream",
     "text": [
      "Training Epoch 8/30: 100%|██████████| 394/394 [00:12<00:00, 31.25it/s]\n"
     ]
    },
    {
     "name": "stdout",
     "output_type": "stream",
     "text": [
      "Epoch [8/30], Training Loss: 5.2041, Training Accuracy: 5.21%\n",
      "Epoch [8/30], Validation Loss: 5.2101, Validation Accuracy: 3.33%\n"
     ]
    },
    {
     "name": "stderr",
     "output_type": "stream",
     "text": [
      "Training Epoch 9/30: 100%|██████████| 394/394 [00:13<00:00, 30.20it/s]\n"
     ]
    },
    {
     "name": "stdout",
     "output_type": "stream",
     "text": [
      "Epoch [9/30], Training Loss: 4.9155, Training Accuracy: 6.16%\n",
      "Epoch [9/30], Validation Loss: 5.0203, Validation Accuracy: 3.93%\n"
     ]
    },
    {
     "name": "stderr",
     "output_type": "stream",
     "text": [
      "Training Epoch 10/30: 100%|██████████| 394/394 [00:12<00:00, 30.68it/s]\n"
     ]
    },
    {
     "name": "stdout",
     "output_type": "stream",
     "text": [
      "Epoch [10/30], Training Loss: 4.6954, Training Accuracy: 7.32%\n",
      "Epoch [10/30], Validation Loss: 4.9785, Validation Accuracy: 4.53%\n"
     ]
    },
    {
     "name": "stderr",
     "output_type": "stream",
     "text": [
      "Training Epoch 11/30: 100%|██████████| 394/394 [00:12<00:00, 30.52it/s]\n"
     ]
    },
    {
     "name": "stdout",
     "output_type": "stream",
     "text": [
      "Epoch [11/30], Training Loss: 4.5499, Training Accuracy: 8.74%\n",
      "Epoch [11/30], Validation Loss: 5.0161, Validation Accuracy: 5.03%\n"
     ]
    },
    {
     "name": "stderr",
     "output_type": "stream",
     "text": [
      "Training Epoch 12/30: 100%|██████████| 394/394 [00:12<00:00, 31.88it/s]\n"
     ]
    },
    {
     "name": "stdout",
     "output_type": "stream",
     "text": [
      "Epoch [12/30], Training Loss: 4.4409, Training Accuracy: 9.19%\n",
      "Epoch [12/30], Validation Loss: 4.9938, Validation Accuracy: 4.83%\n"
     ]
    },
    {
     "name": "stderr",
     "output_type": "stream",
     "text": [
      "Training Epoch 13/30: 100%|██████████| 394/394 [00:11<00:00, 34.15it/s]\n"
     ]
    },
    {
     "name": "stdout",
     "output_type": "stream",
     "text": [
      "Epoch [13/30], Training Loss: 4.3704, Training Accuracy: 9.62%\n",
      "Epoch [13/30], Validation Loss: 4.9200, Validation Accuracy: 5.93%\n"
     ]
    },
    {
     "name": "stderr",
     "output_type": "stream",
     "text": [
      "Training Epoch 14/30: 100%|██████████| 394/394 [00:12<00:00, 30.64it/s]\n"
     ]
    },
    {
     "name": "stdout",
     "output_type": "stream",
     "text": [
      "Epoch [14/30], Training Loss: 4.3105, Training Accuracy: 10.43%\n",
      "Epoch [14/30], Validation Loss: 4.9812, Validation Accuracy: 4.47%\n"
     ]
    },
    {
     "name": "stderr",
     "output_type": "stream",
     "text": [
      "Training Epoch 15/30: 100%|██████████| 394/394 [00:13<00:00, 29.22it/s]\n"
     ]
    },
    {
     "name": "stdout",
     "output_type": "stream",
     "text": [
      "Epoch [15/30], Training Loss: 4.2654, Training Accuracy: 10.73%\n",
      "Epoch [15/30], Validation Loss: 5.0193, Validation Accuracy: 4.90%\n"
     ]
    },
    {
     "name": "stderr",
     "output_type": "stream",
     "text": [
      "Training Epoch 16/30: 100%|██████████| 394/394 [00:12<00:00, 32.20it/s]\n"
     ]
    },
    {
     "name": "stdout",
     "output_type": "stream",
     "text": [
      "Epoch [16/30], Training Loss: 4.2254, Training Accuracy: 11.06%\n",
      "Epoch [16/30], Validation Loss: 5.0904, Validation Accuracy: 4.97%\n"
     ]
    },
    {
     "name": "stderr",
     "output_type": "stream",
     "text": [
      "Training Epoch 17/30: 100%|██████████| 394/394 [00:12<00:00, 31.67it/s]\n"
     ]
    },
    {
     "name": "stdout",
     "output_type": "stream",
     "text": [
      "Epoch [17/30], Training Loss: 4.1936, Training Accuracy: 11.57%\n",
      "Epoch [17/30], Validation Loss: 5.0640, Validation Accuracy: 4.97%\n"
     ]
    },
    {
     "name": "stderr",
     "output_type": "stream",
     "text": [
      "Training Epoch 18/30: 100%|██████████| 394/394 [00:12<00:00, 32.13it/s]\n"
     ]
    },
    {
     "name": "stdout",
     "output_type": "stream",
     "text": [
      "Epoch [18/30], Training Loss: 4.1700, Training Accuracy: 11.45%\n",
      "Epoch [18/30], Validation Loss: 5.1512, Validation Accuracy: 5.57%\n"
     ]
    },
    {
     "name": "stderr",
     "output_type": "stream",
     "text": [
      "Training Epoch 19/30: 100%|██████████| 394/394 [00:12<00:00, 31.21it/s]\n"
     ]
    },
    {
     "name": "stdout",
     "output_type": "stream",
     "text": [
      "Epoch [19/30], Training Loss: 4.1501, Training Accuracy: 11.26%\n",
      "Epoch [19/30], Validation Loss: 5.1695, Validation Accuracy: 4.43%\n"
     ]
    },
    {
     "name": "stderr",
     "output_type": "stream",
     "text": [
      "Training Epoch 20/30: 100%|██████████| 394/394 [00:12<00:00, 32.29it/s]\n"
     ]
    },
    {
     "name": "stdout",
     "output_type": "stream",
     "text": [
      "Epoch [20/30], Training Loss: 4.1390, Training Accuracy: 11.48%\n",
      "Epoch [20/30], Validation Loss: 5.1135, Validation Accuracy: 4.17%\n"
     ]
    },
    {
     "name": "stderr",
     "output_type": "stream",
     "text": [
      "Training Epoch 21/30: 100%|██████████| 394/394 [00:12<00:00, 30.82it/s]\n"
     ]
    },
    {
     "name": "stdout",
     "output_type": "stream",
     "text": [
      "Epoch [21/30], Training Loss: 4.1192, Training Accuracy: 11.70%\n",
      "Epoch [21/30], Validation Loss: 5.1737, Validation Accuracy: 3.97%\n"
     ]
    },
    {
     "name": "stderr",
     "output_type": "stream",
     "text": [
      "Training Epoch 22/30: 100%|██████████| 394/394 [00:13<00:00, 29.52it/s]\n"
     ]
    },
    {
     "name": "stdout",
     "output_type": "stream",
     "text": [
      "Epoch [22/30], Training Loss: 4.1093, Training Accuracy: 12.24%\n",
      "Epoch [22/30], Validation Loss: 5.1757, Validation Accuracy: 4.43%\n"
     ]
    },
    {
     "name": "stderr",
     "output_type": "stream",
     "text": [
      "Training Epoch 23/30: 100%|██████████| 394/394 [00:13<00:00, 29.38it/s]\n"
     ]
    },
    {
     "name": "stdout",
     "output_type": "stream",
     "text": [
      "Epoch [23/30], Training Loss: 4.0988, Training Accuracy: 12.06%\n",
      "Epoch [23/30], Validation Loss: 5.2817, Validation Accuracy: 4.33%\n"
     ]
    },
    {
     "name": "stderr",
     "output_type": "stream",
     "text": [
      "Training Epoch 24/30: 100%|██████████| 394/394 [00:12<00:00, 31.04it/s]\n"
     ]
    },
    {
     "name": "stdout",
     "output_type": "stream",
     "text": [
      "Epoch [24/30], Training Loss: 4.0896, Training Accuracy: 12.39%\n",
      "Epoch [24/30], Validation Loss: 5.0543, Validation Accuracy: 4.47%\n"
     ]
    },
    {
     "name": "stderr",
     "output_type": "stream",
     "text": [
      "Training Epoch 25/30: 100%|██████████| 394/394 [00:13<00:00, 29.56it/s]\n"
     ]
    },
    {
     "name": "stdout",
     "output_type": "stream",
     "text": [
      "Epoch [25/30], Training Loss: 4.0703, Training Accuracy: 12.54%\n",
      "Epoch [25/30], Validation Loss: 5.2750, Validation Accuracy: 5.00%\n"
     ]
    },
    {
     "name": "stderr",
     "output_type": "stream",
     "text": [
      "Training Epoch 26/30: 100%|██████████| 394/394 [00:13<00:00, 29.76it/s]\n"
     ]
    },
    {
     "name": "stdout",
     "output_type": "stream",
     "text": [
      "Epoch [26/30], Training Loss: 4.0648, Training Accuracy: 12.33%\n",
      "Epoch [26/30], Validation Loss: 5.2414, Validation Accuracy: 3.67%\n"
     ]
    },
    {
     "name": "stderr",
     "output_type": "stream",
     "text": [
      "Training Epoch 27/30: 100%|██████████| 394/394 [00:13<00:00, 29.89it/s]\n"
     ]
    },
    {
     "name": "stdout",
     "output_type": "stream",
     "text": [
      "Epoch [27/30], Training Loss: 4.0585, Training Accuracy: 12.44%\n",
      "Epoch [27/30], Validation Loss: 5.2814, Validation Accuracy: 4.57%\n"
     ]
    },
    {
     "name": "stderr",
     "output_type": "stream",
     "text": [
      "Training Epoch 28/30: 100%|██████████| 394/394 [00:13<00:00, 28.27it/s]\n"
     ]
    },
    {
     "name": "stdout",
     "output_type": "stream",
     "text": [
      "Epoch [28/30], Training Loss: 4.0451, Training Accuracy: 12.59%\n",
      "Epoch [28/30], Validation Loss: 5.3886, Validation Accuracy: 4.67%\n"
     ]
    },
    {
     "name": "stderr",
     "output_type": "stream",
     "text": [
      "Training Epoch 29/30: 100%|██████████| 394/394 [00:12<00:00, 32.47it/s]\n"
     ]
    },
    {
     "name": "stdout",
     "output_type": "stream",
     "text": [
      "Epoch [29/30], Training Loss: 4.0433, Training Accuracy: 12.59%\n",
      "Epoch [29/30], Validation Loss: 5.3926, Validation Accuracy: 4.17%\n"
     ]
    },
    {
     "name": "stderr",
     "output_type": "stream",
     "text": [
      "Training Epoch 30/30: 100%|██████████| 394/394 [00:12<00:00, 31.08it/s]\n"
     ]
    },
    {
     "name": "stdout",
     "output_type": "stream",
     "text": [
      "Epoch [30/30], Training Loss: 4.0364, Training Accuracy: 12.98%\n",
      "Epoch [30/30], Validation Loss: 5.2930, Validation Accuracy: 3.93%\n",
      "Evaluation on Validation Set\n",
      "Exact Match Accuracy: 3.93%\n",
      "Hamming Accuracy: 89.85%\n",
      "Evaluation on Test Set\n",
      "Exact Match Accuracy: 2.43%\n",
      "Hamming Accuracy: 90.01%\n"
     ]
    }
   ],
   "source": [
    "import torch.nn as nn\n",
    "\n",
    "hyperparam_combinations = [\n",
    "    {'lr': 0.001, 'dropout_rate': 0.2, 'num_conv_layers': 3, 'optimizer_choice': 'adam', 'activation_function': 'relu', 'epochs': 15},\n",
    "    {'lr': 0.001, 'dropout_rate': 0.2, 'num_conv_layers': 3, 'optimizer_choice': 'adam', 'activation_function': 'relu', 'epochs': 30},\n",
    "    {'lr': 0.001, 'dropout_rate': 0.2, 'num_conv_layers': 3, 'optimizer_choice': 'adam', 'activation_function': 'relu', 'epochs': 45},\n",
    "    {'lr': 0.001, 'dropout_rate': 0.4, 'num_conv_layers': 3, 'optimizer_choice': 'adam', 'activation_function': 'relu', 'epochs': 30},\n",
    "    {'lr': 0.001, 'dropout_rate': 0.2, 'num_conv_layers': 2, 'optimizer_choice': 'adam', 'activation_function': 'tanh', 'epochs': 30},\n",
    "    {'lr': 0.0012, 'dropout_rate': 0.2, 'num_conv_layers': 3, 'optimizer_choice': 'adam', 'activation_function': 'relu', 'epochs': 30},\n",
    "    {'lr': 0.0007, 'dropout_rate': 0.2, 'num_conv_layers': 2, 'optimizer_choice': 'sgd', 'activation_function': 'tanh', 'epochs': 30},\n",
    "    {'lr': 0.0007, 'dropout_rate': 0.2, 'num_conv_layers': 3, 'optimizer_choice': 'sgd', 'activation_function': 'relu', 'epochs': 30}\n",
    "]\n",
    "\n",
    "\n",
    "plot_save_dir = \"./figures/multilabel_cnn_loss_plots\"\n",
    "os.makedirs(plot_save_dir, exist_ok=True)\n",
    "\n",
    "best_multi_classification_model, best_multi_classification_loss, best_multi_classification_combination = None, float('inf'), None\n",
    "print('Starting Hyperparameter Tuning:')\n",
    "for idx, params in enumerate(hyperparam_combinations, 1):\n",
    "    loss_figure_save_path = os.path.join(\n",
    "        plot_save_dir,\n",
    "        f\"multilabel_loss_combination_{idx}_lr_{params['lr']}_dropout_{params['dropout_rate']}_layers_{params['num_conv_layers']}_activ_{params['activation_function']}_opt_{params['optimizer_choice']}_epochs_{params['epochs']}.png\"\n",
    "    )\n",
    "    print(f\"\\nMultilabel CNN for {params['epochs']} epochs with learning rate = {params['lr']}, Dropout = {params['dropout_rate']}, {params['num_conv_layers']} convolutional layers, {params['activation_function']} activation and {params['optimizer_choice']} optimizer\")\n",
    "    model = MultiLabelCNN(\n",
    "        num_conv_layers=params['num_conv_layers'],\n",
    "        dropout_rate=params['dropout_rate'],\n",
    "        optimizer_choice=params['optimizer_choice'],\n",
    "        activation_function=params['activation_function'],\n",
    "        device=device,\n",
    "        loss_figure_save_path = loss_figure_save_path\n",
    "    )\n",
    "\n",
    "    model.fit(train_loader, val_loader, epochs=params['epochs'], lr=params['lr'])\n",
    "    val_loss, val_accuracy = model.evaluate(val_loader, criterion=nn.CrossEntropyLoss())\n",
    "    \n",
    "    if val_loss < best_multi_classification_loss:\n",
    "        best_multi_classification_model = model\n",
    "        best_multi_classification_loss = val_loss\n",
    "        best_multi_classification_combination = params\n",
    "    print(\"Evaluation on Validation Set\")\n",
    "    evaluate_model(model, val_loader)\n",
    "    print(\"Evaluation on Test Set\")\n",
    "    evaluate_model(model, test_loader)\n",
    "\n",
    "best_params = {\n",
    "    \"best_classification_combination\": best_multi_classification_combination\n",
    "}\n",
    "\n",
    "params_file_path = os.path.join(plot_save_dir, \"best_multilabel_model_params.json\")\n",
    "with open(params_file_path, 'w') as json_file:\n",
    "    json.dump(best_params, json_file, indent=4)\n",
    "\n",
    "print(\"Best Classification Model Combination:\", best_classification_combination)\n",
    "print(\"Best Regression Model Combination:\", best_regression_combination)\n",
    "print(f\"Best parameters saved to {params_file_path}\")"
   ]
  },
  {
   "cell_type": "code",
   "execution_count": 24,
   "metadata": {},
   "outputs": [
    {
     "name": "stdout",
     "output_type": "stream",
     "text": [
      "Best parameters saved to ./figures/multilabel_cnn_loss_plots/best_multilabel_model_params.json\n"
     ]
    }
   ],
   "source": [
    "params_file_path = os.path.join(plot_save_dir, \"best_multilabel_model_params.json\")\n",
    "with open(params_file_path, 'w') as json_file:\n",
    "    json.dump(best_params, json_file, indent=4)\n",
    "print(f\"Best parameters saved to {params_file_path}\")"
   ]
  },
  {
   "cell_type": "markdown",
   "metadata": {},
   "source": [
    "# Hyperparameter Tuning Results: Training and Validation Loss\n",
    "\n",
    "\n",
    "### Combination 1\n",
    "- **Learning Rate:** 0.001\n",
    "- **Dropout Rate:** 0.2\n",
    "- **Number of Layers:** 3\n",
    "- **Activation Function:** ReLU\n",
    "- **Optimizer:** Adam\n",
    "- **Epochs:** 15\n",
    "\n",
    "![Training and Validation Loss for Combination 1](figures/multilabel_cnn_loss_plots/multilabel_loss_combination_1_lr_0.001_dropout_0.2_layers_3_activ_relu_opt_adam_epochs_15.png)\n",
    "![Training and Validation Accuracy for Combination 1](figures/multilabel_cnn_loss_plots/multilabel_loss_combination_1_lr_0.001_dropout_0.2_layers_3_activ_relu_opt_adam_epochs_15_accuracy.png)\n",
    "\n",
    "---\n",
    "\n",
    "### Combination 2\n",
    "- **Learning Rate:** 0.001\n",
    "- **Dropout Rate:** 0.2\n",
    "- **Number of Layers:** 3\n",
    "- **Activation Function:** ReLU\n",
    "- **Optimizer:** Adam\n",
    "- **Epochs:** 30\n",
    "\n",
    "![Training and Validation Loss for Combination 2](figures/multilabel_cnn_loss_plots/multilabel_loss_combination_2_lr_0.001_dropout_0.2_layers_3_activ_relu_opt_adam_epochs_30.png)\n",
    "![Training and Validation Accuracy for Combination 2](figures/multilabel_cnn_loss_plots/multilabel_loss_combination_2_lr_0.001_dropout_0.2_layers_3_activ_relu_opt_adam_epochs_30_accuracy.png)\n",
    "\n",
    "---\n",
    "\n",
    "### Combination 3\n",
    "- **Learning Rate:** 0.001\n",
    "- **Dropout Rate:** 0.2\n",
    "- **Number of Layers:** 3\n",
    "- **Activation Function:** ReLU\n",
    "- **Optimizer:** Adam\n",
    "- **Epochs:** 45\n",
    "\n",
    "![Training and Validation Loss for Combination 3](figures/multilabel_cnn_loss_plots/multilabel_loss_combination_3_lr_0.001_dropout_0.2_layers_3_activ_relu_opt_adam_epochs_45.png)\n",
    "![Training and Validation Accuracy for Combination 3](figures/multilabel_cnn_loss_plots/multilabel_loss_combination_3_lr_0.001_dropout_0.2_layers_3_activ_relu_opt_adam_epochs_45_accuracy.png)\n",
    "\n",
    "---\n",
    "\n",
    "### Combination 4\n",
    "- **Learning Rate:** 0.001\n",
    "- **Dropout Rate:** 0.4\n",
    "- **Number of Layers:** 3\n",
    "- **Activation Function:** ReLU\n",
    "- **Optimizer:** Adam\n",
    "- **Epochs:** 30\n",
    "\n",
    "![Training and Validation Loss for Combination 4](figures/multilabel_cnn_loss_plots/multilabel_loss_combination_4_lr_0.001_dropout_0.4_layers_3_activ_relu_opt_adam_epochs_30.png)\n",
    "![Training and Validation Accuracy for Combination 4](figures/multilabel_cnn_loss_plots/multilabel_loss_combination_4_lr_0.001_dropout_0.4_layers_3_activ_relu_opt_adam_epochs_30_accuracy.png)\n",
    "\n",
    "---\n",
    "\n",
    "### Combination 5\n",
    "- **Learning Rate:** 0.001\n",
    "- **Dropout Rate:** 0.2\n",
    "- **Number of Layers:** 2\n",
    "- **Activation Function:** Tanh\n",
    "- **Optimizer:** Adam\n",
    "- **Epochs:** 30\n",
    "\n",
    "![Training and Validation Loss for Combination 5](figures/multilabel_cnn_loss_plots/multilabel_loss_combination_5_lr_0.001_dropout_0.2_layers_2_activ_tanh_opt_adam_epochs_30.png)\n",
    "![Training and Validation Accuracy for Combination 5](figures/multilabel_cnn_loss_plots/multilabel_loss_combination_5_lr_0.001_dropout_0.2_layers_2_activ_tanh_opt_adam_epochs_30_accuracy.png)\n",
    "\n",
    "---\n",
    "\n",
    "### Combination 6\n",
    "- **Learning Rate:** 0.0012\n",
    "- **Dropout Rate:** 0.2\n",
    "- **Number of Layers:** 3\n",
    "- **Activation Function:** ReLU\n",
    "- **Optimizer:** Adam\n",
    "- **Epochs:** 30\n",
    "\n",
    "![Training and Validation Loss for Combination 6](figures/multilabel_cnn_loss_plots/multilabel_loss_combination_6_lr_0.0012_dropout_0.2_layers_3_activ_relu_opt_adam_epochs_30.png)\n",
    "![Training and Validation Accuracy for Combination 6](figures/multilabel_cnn_loss_plots/multilabel_loss_combination_6_lr_0.0012_dropout_0.2_layers_3_activ_relu_opt_adam_epochs_30_accuracy.png)\n",
    "\n",
    "---\n",
    "\n",
    "### Combination 7\n",
    "- **Learning Rate:** 0.0007\n",
    "- **Dropout Rate:** 0.2\n",
    "- **Number of Layers:** 2\n",
    "- **Activation Function:** Tanh\n",
    "- **Optimizer:** SGD\n",
    "- **Epochs:** 30\n",
    "\n",
    "![Training and Validation Loss for Combination 7](figures/multilabel_cnn_loss_plots/multilabel_loss_combination_7_lr_0.0007_dropout_0.2_layers_2_activ_tanh_opt_sgd_epochs_30.png)\n",
    "![Training and Validation Accuracy for Combination 7](figures/multilabel_cnn_loss_plots/multilabel_loss_combination_7_lr_0.0007_dropout_0.2_layers_2_activ_tanh_opt_sgd_epochs_30_accuracy.png)\n",
    "\n",
    "---\n",
    "\n",
    "### Combination 8\n",
    "- **Learning Rate:** 0.0007\n",
    "- **Dropout Rate:** 0.2\n",
    "- **Number of Layers:** 3\n",
    "- **Activation Function:** ReLU\n",
    "- **Optimizer:** SGD\n",
    "- **Epochs:** 30\n",
    "\n",
    "![Training and Validation Loss for Combination 8](figures/multilabel_cnn_loss_plots/multilabel_loss_combination_8_lr_0.0007_dropout_0.2_layers_3_activ_relu_opt_sgd_epochs_30.png)\n",
    "![Training and Validation Accuracy for Combination 8](figures/multilabel_cnn_loss_plots/multilabel_loss_combination_8_lr_0.0007_dropout_0.2_layers_3_activ_relu_opt_sgd_epochs_30_accuracy.png)\n"
   ]
  }
 ],
 "metadata": {
  "kernelspec": {
   "display_name": "venv",
   "language": "python",
   "name": "python3"
  },
  "language_info": {
   "codemirror_mode": {
    "name": "ipython",
    "version": 3
   },
   "file_extension": ".py",
   "mimetype": "text/x-python",
   "name": "python",
   "nbconvert_exporter": "python",
   "pygments_lexer": "ipython3",
   "version": "3.12.7"
  }
 },
 "nbformat": 4,
 "nbformat_minor": 2
}
